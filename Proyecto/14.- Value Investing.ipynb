{
 "cells": [
  {
   "cell_type": "markdown",
   "id": "3ff20627",
   "metadata": {},
   "source": [
    "<img style=\"float: left; margin: 30px 15px 15px 15px;\" src=\"https://oci02.img.iteso.mx/Identidades-De-Instancia/ITESO/Logos%20ITESO/Logo-ITESO-Principal.jpg\" width=\"400\" height=\"150\" /> \n",
    "    \n",
    "    \n",
    "    \n",
    "### <font color='white'> Sesión de Aprendizaje: Análisis Fundamental\n",
    "\n",
    "Profesor: Sean Nicolás González Vázquez."
   ]
  },
  {
   "cell_type": "markdown",
   "id": "9dd793ec",
   "metadata": {},
   "source": [
    "# <font color='white'> Análisis Fundamental  <font color='white'>\n",
    "    \n",
    "<h3><center>\"You have to understand accounting. It´s the language of business and it´s an imperfect one, but unless you are willing to put in the effort to learn how to read and interpret financial statements, you really shouldn´t sellect stocks yourself.\" Warren Buffet</center></h3>\n",
    "   \n",
    "> **Definición** \n",
    "    \n",
    "Tipo de análisis financiero que, como su nombre menciona, se basa en los *fundamentales* de una empresa, es decir, en la información presentada en los tres principales estados financieros (Estado de Resultados, Flujo de Efectivo y Balance General).  \n",
    "    \n",
    "El **Value Investing**, es una fílosofia de inversión, basada en el análisis fundamental y busca invertir en negocios con una \"*ventaja competitiva durable*\" que tengan un valor de mercado menor a su valor intrínseco con la expectativa de que el mercado las revalúe correctamente. En término simples, esto significa comprar barato y vender caro. \n",
    "    \n",
    "La parte de \"*ventaja competitiva durable*\" fue introducida por Warren Buffet y significa no solo comprar negocios subvaluados, si no también que tengan un negocio tipo monopolio o un producto único y además tengan consistencia (3-10 años) en sus fundamentales.\n",
    "    \n",
    "    \n",
    "> **Objetivo**\n",
    "    \n",
    "Encontrar el **valor intrínseco de una emisora**, es decir, el valor real dado la información financiera disponible de la misma, para posteriormente comparar este valor con el **valor extrínseco dado a la emisora**, para buscar posibles **inflavaloraciones** o **sobrevaloraciones** de mercado.\n",
    "    \n",
    "    \n",
    "> **Un poco de contexto** \n",
    "    \n",
    "Fue **introducido en 1934** por *Benjamin Graham* y *David Dodd* **en el libro Security Analysis**, este libro marco un antes y un después en el mundo financiero, al introducir conceptos muy importantes que hasta el día de hoy siguen siendo usados de manera práctica por inversionistas de todo el mundo, introduciendo el término **value investing**.\n",
    "    \n",
    "**Benjamin Graham** buscaba comprar acciones sobrevendidas con valor de mercado menor al intrínseco, con el objetivo de que el mercado ree-valúe posteriormente estas acciones correctamente. El hacía *trades* con acciones que valían el 50% de su book value (\"*Buyin a dollar for fifty cents*\"). Su criterio para vender era:\n",
    "   \n",
    "+ Vender si las acciones subían 50% o máximo a los dos años de su compra.   \n",
    "    \n",
    "    \n",
    "+ Problema: Algunas acciones quebraban o simplemente no se revaluaban. \n",
    "    \n",
    "Unos años después, su pupilo **Warren Buffet** mejoró el concepto introduciendo **long term value investing**, donde buscaba acciones que cotizaran a descuento, o que estuvieran cerca al *fair price* (Book Value = Market Value y además, que tuvieran lo que el llamaba \"*ventaja competitiva con durabilidad*\", esta ventaja competitiva significa que sucediera una o más de las siguientes tres condiciones:\n",
    "    \n",
    "+ Negocio tipo monopolio.  \n",
    " \n",
    "+ Vender un producto único.   \n",
    "   \n",
    "+ Que fueran comprador y vendedor de bajo costo (ganar por volumen). \n",
    "    \n",
    "La durabilidad se refiere a la consistencia en la evolución año con año de los fundamentales. \n",
    " \n",
    "> **¿Qué haremos en esta clase?** \n",
    "    \n",
    "En esta clase, veremos como descargar los fundamentales de una API, con el objetivo de optimizar el tiempo de análisis de una emisora, utilizando y comentando algunos consejos dados tanto por Graham como Buffet para la interpretación de los mismos. Con el objetivo de que los apliquen en su proyecto y en su vida profesional. \n",
    "  "
   ]
  },
  {
   "cell_type": "markdown",
   "id": "1f7f7e1e",
   "metadata": {},
   "source": [
    "## <font color='white'> **Calculando fundamentales e interpretandolos**  \n",
    "      \n",
    "    \n",
    "\n",
    "**Existen un sin fin de Fundamentales, en este clase veremos algunos y les tocará investigar otros, en la práctica uno realmente escoge sus *preferidos* (qué es lo que prácticamente harán en este proyecto) y los combinan para obtener *insights* de la *salud* de una empresa.**\n",
    "        \n"
   ]
  },
  {
   "cell_type": "code",
   "execution_count": 1,
   "id": "e0dde69e",
   "metadata": {},
   "outputs": [],
   "source": [
    "# Importar librerías\n",
    "import numpy as np\n",
    "import pandas as pd\n",
    "import yfinance as yf\n",
    "import datetime\n",
    "\n",
    "import matplotlib.pyplot as plt"
   ]
  },
  {
   "cell_type": "code",
   "execution_count": 2,
   "id": "a7f93c58",
   "metadata": {},
   "outputs": [],
   "source": [
    "# Bajar un precio en una fecha dada\n",
    "def get_historical_price(ticker: str, start: str):\n",
    "    end = start+datetime.timedelta(days=4)\n",
    "    price=pd.DataFrame(yf.Ticker(ticker).history(start=start, end=end)[\"Close\"])\n",
    "    return price.iloc[0, 0]"
   ]
  },
  {
   "cell_type": "code",
   "execution_count": 5,
   "id": "361223a5",
   "metadata": {},
   "outputs": [],
   "source": [
    "ticker = 'TSLA'\n",
    "\n",
    "bs = yf.Ticker(ticker).balance_sheet.iloc[:, :-1]\n",
    "ist = yf.Ticker(ticker).income_stmt.iloc[:, :-1]\n",
    "cf = yf.Ticker(ticker).cash_flow.iloc[:, :-1]"
   ]
  },
  {
   "cell_type": "code",
   "execution_count": 8,
   "id": "c600820c",
   "metadata": {},
   "outputs": [],
   "source": [
    "# Función para obtener estados financieros\n",
    "def get_financials(ticker:str) -> pd.DataFrame:\n",
    "    bs = yf.Ticker(ticker).balance_sheet.iloc[:, :-1]\n",
    "    ist = yf.Ticker(ticker).income_stmt.iloc[:, :-1]\n",
    "    cf = yf.Ticker(ticker).cash_flow.iloc[:, :-1]\n",
    "    return bs, ist, cf"
   ]
  },
  {
   "cell_type": "code",
   "execution_count": 9,
   "id": "3bb028c3",
   "metadata": {},
   "outputs": [],
   "source": [
    "# Descargar estados financieros de una acción\n",
    "bs, ist, cf = get_financials(ticker)"
   ]
  },
  {
   "cell_type": "markdown",
   "id": "35a8e667",
   "metadata": {},
   "source": [
    "### <font color='white'> **Earnings Per Share (EPS)**  \n",
    "    \n",
    "Múltiplio financiero que nos indica el beneficio por acción que tiene una compañía, en teoría, indica la cantidad de ingresos que le corresponde a cada inversionista dado su número de acciones, las empresas con una ventaja competitiva a largo plazo siempre muestran EPS estables y positivos a lo largo de 3-10 años y en constante crecimiento.\n",
    "    \n",
    "    \n",
    "$$EPS = \\frac{\\text{Income - Div}_{\\text{PreferentShares}}}{\\text{Shares}}$$"
   ]
  },
  {
   "cell_type": "code",
   "execution_count": 11,
   "id": "d91afeee",
   "metadata": {},
   "outputs": [
    {
     "data": {
      "text/plain": [
       "Index(['Tax Effect Of Unusual Items', 'Tax Rate For Calcs',\n",
       "       'Normalized EBITDA', 'Total Unusual Items',\n",
       "       'Total Unusual Items Excluding Goodwill',\n",
       "       'Net Income From Continuing Operation Net Minority Interest',\n",
       "       'Reconciled Depreciation', 'Reconciled Cost Of Revenue', 'EBITDA',\n",
       "       'EBIT', 'Net Interest Income', 'Interest Expense', 'Interest Income',\n",
       "       'Normalized Income',\n",
       "       'Net Income From Continuing And Discontinued Operation',\n",
       "       'Total Expenses', 'Rent Expense Supplemental',\n",
       "       'Total Operating Income As Reported', 'Diluted Average Shares',\n",
       "       'Basic Average Shares', 'Diluted EPS', 'Basic EPS',\n",
       "       'Diluted NI Availto Com Stockholders', 'Average Dilution Earnings',\n",
       "       'Net Income Common Stockholders', 'Otherunder Preferred Stock Dividend',\n",
       "       'Net Income', 'Minority Interests',\n",
       "       'Net Income Including Noncontrolling Interests',\n",
       "       'Net Income Continuous Operations', 'Tax Provision', 'Pretax Income',\n",
       "       'Other Income Expense', 'Other Non Operating Income Expenses',\n",
       "       'Special Income Charges', 'Restructuring And Mergern Acquisition',\n",
       "       'Net Non Operating Interest Income Expense',\n",
       "       'Interest Expense Non Operating', 'Interest Income Non Operating',\n",
       "       'Operating Income', 'Operating Expense', 'Research And Development',\n",
       "       'Selling General And Administration', 'Gross Profit', 'Cost Of Revenue',\n",
       "       'Total Revenue', 'Operating Revenue'],\n",
       "      dtype='object')"
      ]
     },
     "execution_count": 11,
     "metadata": {},
     "output_type": "execute_result"
    }
   ],
   "source": [
    "ist.index"
   ]
  },
  {
   "cell_type": "code",
   "execution_count": 13,
   "id": "88421768",
   "metadata": {},
   "outputs": [],
   "source": [
    "# Obtener Net Income\n",
    "net_income = ist.loc['Net Income Common Stockholders']"
   ]
  },
  {
   "cell_type": "code",
   "execution_count": 16,
   "id": "6eb14f79",
   "metadata": {},
   "outputs": [],
   "source": [
    "# Obtener Número de Acciones\n",
    "n_shares = bs.loc['Common Stock Equity']"
   ]
  },
  {
   "cell_type": "code",
   "execution_count": 18,
   "id": "c39b1499",
   "metadata": {},
   "outputs": [
    {
     "data": {
      "text/plain": [
       "2024-12-31    0.097788\n",
       "2023-12-31    0.239471\n",
       "2022-12-31    0.281474\n",
       "2021-12-31    0.182981\n",
       "dtype: object"
      ]
     },
     "execution_count": 18,
     "metadata": {},
     "output_type": "execute_result"
    }
   ],
   "source": [
    "# Obtener EPS\n",
    "eps = net_income/n_shares\n",
    "eps"
   ]
  },
  {
   "cell_type": "markdown",
   "id": "d77d9208",
   "metadata": {},
   "source": [
    "### <font color='white'> **Price Earnings Ratio (PER)**  \n",
    "    \n",
    "El fundamental más importante para Graham y Buffet, indica cuántas veces se está pagando el beneficio neto anual de una empresa determinada al comprar una acción de esta, es decir, que tan cara o barata esta una acción, en función de su utilidad real y cuánto cuesta comprar una parte de la empresa.\n",
    "También indica el número de veces que el beneficio neto está contenida en el precio de la acción.\n",
    "\n",
    "\n",
    "Graham recomienda nunca comprar una acción cara o sobrevaluada, por lo que, sin importar si la empresa es muy buena, nunca se recomienda comprar cuando su PER es mayor a 25, cabe destacar, que el PER fluctúa junto con el mercado por eso en mercados bajistas, siempre se encuentra un mayor número de empresas a buen precio y en mercados alcistas es más difícil encontrarlas, pero siempre hay.\n",
    "\n",
    "\n",
    "\n",
    "$$PER = \\frac{Price}{Income/Shares} = \\frac{Price}{Earnings Per Share}$$\n",
    "    "
   ]
  },
  {
   "cell_type": "code",
   "execution_count": 20,
   "id": "05f78139",
   "metadata": {},
   "outputs": [
    {
     "data": {
      "text/plain": [
       "[403.8399963378906, 248.4199981689453, 108.0999984741211, 352.260009765625]"
      ]
     },
     "execution_count": 20,
     "metadata": {},
     "output_type": "execute_result"
    }
   ],
   "source": [
    "# Obtener precios más recientes\n",
    "prices = [get_historical_price(ticker, date) for date in bs.columns]\n",
    "prices"
   ]
  },
  {
   "cell_type": "code",
   "execution_count": 21,
   "id": "cec57549",
   "metadata": {},
   "outputs": [
    {
     "data": {
      "text/plain": [
       "2024-12-31    4129.759559\n",
       "2023-12-31    1037.371702\n",
       "2022-12-31     384.050094\n",
       "2021-12-31    1925.122635\n",
       "dtype: object"
      ]
     },
     "execution_count": 21,
     "metadata": {},
     "output_type": "execute_result"
    }
   ],
   "source": [
    "# Carcular Price Earnings Ratio o Price to Earnings\n",
    "prices/eps"
   ]
  },
  {
   "cell_type": "markdown",
   "id": "7438d95e",
   "metadata": {},
   "source": [
    "**El PER indica dado su valor:**\n",
    "\n",
    "+ 0 a 10: Acción infravalorada\n",
    "+ 10 a 17: Rango normal\n",
    "+ 17 a 25: Acción probablemente sobrevalorada\n",
    "+ Más de 25: Posible Burbuja\n",
    "\n",
    "\n",
    "Un **PER alto** muestra la acción esta sobrevalorada.\n",
    "\n",
    "Un **PER bajo** indica infravaloración."
   ]
  },
  {
   "cell_type": "markdown",
   "id": "5bd397c1",
   "metadata": {},
   "source": [
    "### <font color='white'> **EBITDA**  \n",
    "\n",
    "Beneficio \"*real*\" de la empresa antes de amortizaciones, depreciaciones e impuestos. \n",
    "\n",
    "Es importante que este sea positivo y se compare contra el *benchmark* de mercado u otras empresas del mismo giro. Se utiliza debido a que, en teoría, las amortizaciones y depreciaciones no son un \"egreso real\", debido a que no sale dinero del bolsillo de una empresa, y por eso hay que tenerlas en cuenta para ver las utilidades de una empresa\n",
    "    \n",
    "    \n",
    "+ *Disclaimer:* Cabe destacar, que, aunque mucha gente toma el EBITDA como una métrica importante para el análisis fundamental, tanto Graham como Buffet recomiendan no usarla, ya que, si bien es correcto que en el momento no es un egreso real, la maquinaria, planta y equipo de una empresa esta acabando su vida útil, y cuando esta llegue a su fin, la empresa tendrá que desembolsar una gran cantidad de dinero para seguir operando."
   ]
  },
  {
   "cell_type": "code",
   "execution_count": 23,
   "id": "076caa3f",
   "metadata": {},
   "outputs": [
    {
     "data": {
      "text/plain": [
       "2024-12-31    14708000000.0\n",
       "2023-12-31    14796000000.0\n",
       "2022-12-31    17657000000.0\n",
       "2021-12-31     9625000000.0\n",
       "Name: EBITDA, dtype: object"
      ]
     },
     "execution_count": 23,
     "metadata": {},
     "output_type": "execute_result"
    }
   ],
   "source": [
    "# Obtener EBITDA\n",
    "EBITDA = ist.loc['EBITDA']\n",
    "EBITDA"
   ]
  },
  {
   "cell_type": "markdown",
   "id": "bfaf3af4",
   "metadata": {},
   "source": [
    "### <font color='white'> **Price Book Value (PBV)**  \n",
    "\n",
    "Múltiplo financiero que relaciona el Market Cap y el valor en libros. Se obtiene dividiendo el Market Cap entre el valor en libros de la empresa. \n",
    " \n",
    "El valor contable, es el valor neto que presenta su contabilidad, esto es, el valor de sus recursos propios, o lo que es lo mismo el pasivo total menos el pasivo exigible. \n",
    "    \n",
    "El precio valor libro se usa para medir si una acción se valora correctamente:\n",
    "    \n",
    "+ Una relación precio valor contable de uno significa que el precio de las acciones se cotiza en línea con el valor en libros de la empresa. En otras palabras, el precio de las acciones se consideraría razonablemente valorado, estrictamente desde el punto de vista de la relación precio valor en libros. \n",
    "    \n",
    "+ Una empresa con una relación precio valor en libros alta podría significar que el precio de las acciones está sobrevalorado\n",
    "    \n",
    "+ Una empresa con una relación precio valor contable más baja podría estar infravalorada.\n",
    "\n",
    "Sin embargo, la relación precio valor contable debe compararse con empresas del mismo sector. La proporción es más alta para algunas industrias que para otras. Por lo tanto, es importante compararlo con empresas con una composición similar de activos y pasivos.\n",
    "    \n",
    "También podría considerarse como un múltiplo que nos indica cuantas veces el mercado sobre-valora o infra-valora una empresa en función de sus expectativas y lo que realmente vale."
   ]
  },
  {
   "cell_type": "code",
   "execution_count": 25,
   "id": "5988c7c9",
   "metadata": {},
   "outputs": [
    {
     "data": {
      "text/plain": [
       "2024-12-31    29445185652984.617188\n",
       "2023-12-31    15559538165313.720703\n",
       "2022-12-31     4832502331787.109375\n",
       "2021-12-31    10634377434814.453125\n",
       "Name: Common Stock Equity, dtype: object"
      ]
     },
     "execution_count": 25,
     "metadata": {},
     "output_type": "execute_result"
    }
   ],
   "source": [
    "# Calcular Market Cap: Valor de mercado\n",
    "market_cap = n_shares*prices\n",
    "market_cap"
   ]
  },
  {
   "cell_type": "code",
   "execution_count": 28,
   "id": "7cd64853",
   "metadata": {},
   "outputs": [
    {
     "data": {
      "text/plain": [
       "2024-12-31    78448000000.0\n",
       "2023-12-31    65316000000.0\n",
       "2022-12-31    45733000000.0\n",
       "2021-12-31    34443000000.0\n",
       "Name: Total Capitalization, dtype: object"
      ]
     },
     "execution_count": 28,
     "metadata": {},
     "output_type": "execute_result"
    }
   ],
   "source": [
    "# Calcular Book Value Valor en Libros\n",
    "book_value = bs.loc['Total Capitalization']\n",
    "book_value"
   ]
  },
  {
   "cell_type": "code",
   "execution_count": 29,
   "id": "0007d5e5",
   "metadata": {},
   "outputs": [
    {
     "data": {
      "text/plain": [
       "2024-12-31    375.346544\n",
       "2023-12-31    238.219397\n",
       "2022-12-31    105.667731\n",
       "2021-12-31    308.752938\n",
       "dtype: object"
      ]
     },
     "execution_count": 29,
     "metadata": {},
     "output_type": "execute_result"
    }
   ],
   "source": [
    "# Obtener Price Book Value o Market Cap to Books\n",
    "market_cap/book_value"
   ]
  },
  {
   "cell_type": "markdown",
   "id": "904d0de8",
   "metadata": {},
   "source": [
    "### <font color='white'> **Liquidity**  \n",
    "    \n",
    "Son un conjunto de múltiplos financieros que nos indican la habilidad que tendría una empresa para pagar sus obligaciones en el corto plazo    \n",
    "$$\\text{Current Ratio}= \\frac{\\text{Current Assets}}{\\text{Current Liabilities}}$$\n",
    "$$\\text{Quick Ratio}= \\frac{\\text{Cash y Cash equivalents + Marketable Securities + AR}}{\\text{Current Liabilities}}$$\n",
    "\n",
    "** tambien conocido como la prueba del ácido\n",
    "\n",
    "$$\\text{Cash Ratio}= \\frac{\\text{Cash y Cash equivalents + Marketable Securities}}{\\text{Current Liabilities}}$$\n"
   ]
  },
  {
   "cell_type": "code",
   "execution_count": 30,
   "id": "00ac6bab",
   "metadata": {},
   "outputs": [
    {
     "data": {
      "text/plain": [
       "2024-12-31    1.268624\n",
       "2023-12-31    1.012036\n",
       "2022-12-31    0.830619\n",
       "2021-12-31    0.898604\n",
       "dtype: object"
      ]
     },
     "execution_count": 30,
     "metadata": {},
     "output_type": "execute_result"
    }
   ],
   "source": [
    "cash_ratio = bs.loc['Cash Cash Equivalents And Short Term Investments']/bs.loc['Current Liabilities']\n",
    "cash_ratio"
   ]
  },
  {
   "cell_type": "markdown",
   "id": "cb40deb4",
   "metadata": {},
   "source": [
    "### <font color='white'> **Solvency**  \n",
    "    \n",
    "Los ratios de solvencia general me indican que tanta habilidad tendría una empresa par hacer frente a sus obligaciones de largo plazo\n",
    "\n",
    "Múltiplo financiero que nos indica que tan solvente es una empresa para hacer frente a sus obligaciones, es decir, que tantos activos tiene contra los pasivos, esta se obtiene de la siguiente forma:\n",
    "    \n",
    "$$\\text{Solvency} = \\frac{\\text{Assets}}{\\text{Liabilities}}$$\n",
    "$$\\text{Debt Equity} = \\frac{\\text{Debt}}{\\text{Equity}}$$"
   ]
  },
  {
   "cell_type": "code",
   "execution_count": 31,
   "id": "22cfed96",
   "metadata": {},
   "outputs": [],
   "source": [
    "# Obtener Assets \n",
    "assests = bs.loc['Total Assets']"
   ]
  },
  {
   "cell_type": "code",
   "execution_count": 33,
   "id": "c73df00a",
   "metadata": {},
   "outputs": [],
   "source": [
    "# Obtener current liabilities\n",
    "liabilities = bs.loc['Total Liabilities Net Minority Interest']"
   ]
  },
  {
   "cell_type": "code",
   "execution_count": 35,
   "id": "c42826cd",
   "metadata": {},
   "outputs": [
    {
     "data": {
      "text/plain": [
       "2024-12-31    2.522629\n",
       "2023-12-31     2.47897\n",
       "2022-12-31     2.25955\n",
       "2021-12-31    2.033881\n",
       "dtype: object"
      ]
     },
     "execution_count": 35,
     "metadata": {},
     "output_type": "execute_result"
    }
   ],
   "source": [
    "# Calcular Solvencia\n",
    "solvency = assests/liabilities\n",
    "solvency"
   ]
  },
  {
   "cell_type": "code",
   "execution_count": 36,
   "id": "5ad04e21",
   "metadata": {},
   "outputs": [
    {
     "data": {
      "text/plain": [
       "2024-12-31    0.173656\n",
       "2023-12-31    0.146564\n",
       "2022-12-31    0.125686\n",
       "2021-12-31    0.257614\n",
       "dtype: object"
      ]
     },
     "execution_count": 36,
     "metadata": {},
     "output_type": "execute_result"
    }
   ],
   "source": [
    "# Debt\n",
    "\n",
    "debt = bs.loc['Total Debt']\n",
    "\n",
    "# Equity\n",
    "\n",
    "equity = bs.loc['Total Capitalization']\n",
    "\n",
    "# Debt to Equity\n",
    "\n",
    "debt/equity"
   ]
  },
  {
   "cell_type": "markdown",
   "id": "6a076a0f",
   "metadata": {},
   "source": [
    "Si el resultado es inferior a 1.4, la situación es mala.  \n",
    "\n",
    "Si está entre 1.4 y 1.5, es normal.  \n",
    "\n",
    "Si es superior a 1.5, es buena.\n",
    "\n",
    "+ En el caso de empresas muy grandes, estas son tan solventes que no necesitan tener muchos activos para cubrir sus obligaciones, y a veces ni siquiera deuda, muchas veces con la utilidad de operación generada en un período es suficiente para cubrir sus deudas y hasta les sobra. "
   ]
  },
  {
   "cell_type": "markdown",
   "id": "0e8cfd0b",
   "metadata": {},
   "source": [
    "### <font color='white'> **Return On Shareholder Equity (ROE)**\n",
    "\n",
    "Mide el porcentaje de rentabilidad que se puede ofrecer dado el Equity dado, es decir, que tanto provecho se le esta sacando al Capital que se tiene. Básicamente, expone las ganancias que los accionistas están obteniendo.\n",
    "    \n",
    "$$ROE = \\frac{Income}{Equity} * 100$$\n",
    "    \n",
    "El resultado esta expresado en %."
   ]
  },
  {
   "cell_type": "code",
   "execution_count": 37,
   "id": "256244c2",
   "metadata": {},
   "outputs": [
    {
     "data": {
      "text/plain": [
       "2024-12-31     7130000000.0\n",
       "2023-12-31    14999000000.0\n",
       "2022-12-31    12583000000.0\n",
       "2021-12-31     5524000000.0\n",
       "Name: Net Income Common Stockholders, dtype: object"
      ]
     },
     "execution_count": 37,
     "metadata": {},
     "output_type": "execute_result"
    }
   ],
   "source": [
    "# Obtener income\n",
    "net_income"
   ]
  },
  {
   "cell_type": "code",
   "execution_count": 38,
   "id": "625d4873",
   "metadata": {},
   "outputs": [
    {
     "data": {
      "text/plain": [
       "2024-12-31    78448000000.0\n",
       "2023-12-31    65316000000.0\n",
       "2022-12-31    45733000000.0\n",
       "2021-12-31    34443000000.0\n",
       "Name: Total Capitalization, dtype: object"
      ]
     },
     "execution_count": 38,
     "metadata": {},
     "output_type": "execute_result"
    }
   ],
   "source": [
    "# Obtener equity (capital)\n",
    "equity"
   ]
  },
  {
   "cell_type": "code",
   "execution_count": 40,
   "id": "dcac9fdd",
   "metadata": {},
   "outputs": [
    {
     "data": {
      "text/plain": [
       "2024-12-31     9.088823\n",
       "2023-12-31    22.963745\n",
       "2022-12-31    27.514049\n",
       "2021-12-31    16.038092\n",
       "dtype: object"
      ]
     },
     "execution_count": 40,
     "metadata": {},
     "output_type": "execute_result"
    }
   ],
   "source": [
    "# Obtener Return on Equity -Rendimiento sobre el capital-\n",
    "ROE = net_income/equity * 100\n",
    "ROE"
   ]
  },
  {
   "cell_type": "markdown",
   "id": "7ea8423c",
   "metadata": {},
   "source": [
    "+ Si el resultado es inferior a 3, la situación es mala; si está entre 3 y 8, es normal; si es superior a 8, es buena. Se espera un resultado consistente y en crecimiento.\n",
    "\n",
    "Este ratio, **habla de que tan buena es la administación de una empresa para poner a trabajar el dinero de sus inversionistas**, medido a través de los ingresos de operación de la misma, se recomienda que las empresas en las que inviertas tengan un return on shareholder´s equity mayor al promedio del sector en el cual participan. \n",
    "\n",
    "Si sucede esto, significa que una empresa esta haciendo un buen uso de las ganacias generadas por la operación de la misma, lo cual aumentará paulatinamento el valor intrínseco de la empresa, aumentando el precio de su acción.\n"
   ]
  }
 ],
 "metadata": {
  "kernelspec": {
   "display_name": "base",
   "language": "python",
   "name": "python3"
  },
  "language_info": {
   "codemirror_mode": {
    "name": "ipython",
    "version": 3
   },
   "file_extension": ".py",
   "mimetype": "text/x-python",
   "name": "python",
   "nbconvert_exporter": "python",
   "pygments_lexer": "ipython3",
   "version": "3.12.7"
  }
 },
 "nbformat": 4,
 "nbformat_minor": 5
}
