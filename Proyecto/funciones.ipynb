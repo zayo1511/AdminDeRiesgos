{
 "cells": [
  {
   "cell_type": "code",
   "execution_count": 71,
   "metadata": {},
   "outputs": [],
   "source": [
    "import datetime\n",
    "import numpy as np\n",
    "import pandas as pd\n",
    "import yfinance as yf\n",
    "import vartools as vt\n",
    "\n",
    "import matplotlib.pyplot as plt\n",
    "from scipy.optimize import minimize\n",
    "from IPython.display import display\n",
    "from sklearn.linear_model import LinearRegression"
   ]
  },
  {
   "cell_type": "markdown",
   "metadata": {},
   "source": [
    "# Datos"
   ]
  },
  {
   "cell_type": "code",
   "execution_count": 72,
   "metadata": {},
   "outputs": [],
   "source": [
    "tickers = ['AAPL', 'WMT', 'JPM', 'PG', 'META', 'V']\n",
    "benchmark = '^GSPC'\n",
    "\n",
    "price = yf.download(tickers, start='2021-01-01', end='2025-03-12', progress=False)['Close'][tickers]\n",
    "volume = yf.download(tickers, start='2021-01-01', end='2025-03-12', progress=False)['Volume'][tickers]\n",
    "\n",
    "benchmark_data = yf.download(benchmark, start='2021-01-01', end='2025-03-12', progress=False)['Close']\n",
    "\n",
    "rt = price.pct_change().dropna()\n",
    "rt_benchmark = benchmark_data.pct_change().dropna()"
   ]
  },
  {
   "cell_type": "code",
   "execution_count": 73,
   "metadata": {},
   "outputs": [
    {
     "name": "stdout",
     "output_type": "stream",
     "text": [
      "Precios de los activos\n"
     ]
    },
    {
     "data": {
      "text/html": [
       "<div>\n",
       "<style scoped>\n",
       "    .dataframe tbody tr th:only-of-type {\n",
       "        vertical-align: middle;\n",
       "    }\n",
       "\n",
       "    .dataframe tbody tr th {\n",
       "        vertical-align: top;\n",
       "    }\n",
       "\n",
       "    .dataframe thead th {\n",
       "        text-align: right;\n",
       "    }\n",
       "</style>\n",
       "<table border=\"1\" class=\"dataframe\">\n",
       "  <thead>\n",
       "    <tr style=\"text-align: right;\">\n",
       "      <th>Ticker</th>\n",
       "      <th>AAPL</th>\n",
       "      <th>WMT</th>\n",
       "      <th>JPM</th>\n",
       "      <th>PG</th>\n",
       "      <th>META</th>\n",
       "      <th>V</th>\n",
       "    </tr>\n",
       "    <tr>\n",
       "      <th>Date</th>\n",
       "      <th></th>\n",
       "      <th></th>\n",
       "      <th></th>\n",
       "      <th></th>\n",
       "      <th></th>\n",
       "      <th></th>\n",
       "    </tr>\n",
       "  </thead>\n",
       "  <tbody>\n",
       "    <tr>\n",
       "      <th>2021-01-04</th>\n",
       "      <td>126.405251</td>\n",
       "      <td>46.071339</td>\n",
       "      <td>112.308487</td>\n",
       "      <td>124.070045</td>\n",
       "      <td>267.916565</td>\n",
       "      <td>211.141388</td>\n",
       "    </tr>\n",
       "    <tr>\n",
       "      <th>2021-01-05</th>\n",
       "      <td>127.968063</td>\n",
       "      <td>45.826092</td>\n",
       "      <td>112.919586</td>\n",
       "      <td>124.862206</td>\n",
       "      <td>269.938873</td>\n",
       "      <td>207.990173</td>\n",
       "    </tr>\n",
       "    <tr>\n",
       "      <th>2021-01-06</th>\n",
       "      <td>123.660461</td>\n",
       "      <td>46.112202</td>\n",
       "      <td>118.221832</td>\n",
       "      <td>126.176559</td>\n",
       "      <td>262.307983</td>\n",
       "      <td>206.157639</td>\n",
       "    </tr>\n",
       "    <tr>\n",
       "      <th>2021-01-07</th>\n",
       "      <td>127.880188</td>\n",
       "      <td>46.109051</td>\n",
       "      <td>122.104118</td>\n",
       "      <td>124.997261</td>\n",
       "      <td>267.717346</td>\n",
       "      <td>207.311462</td>\n",
       "    </tr>\n",
       "    <tr>\n",
       "      <th>2021-01-08</th>\n",
       "      <td>128.983917</td>\n",
       "      <td>46.102772</td>\n",
       "      <td>122.238953</td>\n",
       "      <td>124.943245</td>\n",
       "      <td>266.551819</td>\n",
       "      <td>208.901611</td>\n",
       "    </tr>\n",
       "  </tbody>\n",
       "</table>\n",
       "</div>"
      ],
      "text/plain": [
       "Ticker            AAPL        WMT         JPM          PG        META  \\\n",
       "Date                                                                    \n",
       "2021-01-04  126.405251  46.071339  112.308487  124.070045  267.916565   \n",
       "2021-01-05  127.968063  45.826092  112.919586  124.862206  269.938873   \n",
       "2021-01-06  123.660461  46.112202  118.221832  126.176559  262.307983   \n",
       "2021-01-07  127.880188  46.109051  122.104118  124.997261  267.717346   \n",
       "2021-01-08  128.983917  46.102772  122.238953  124.943245  266.551819   \n",
       "\n",
       "Ticker               V  \n",
       "Date                    \n",
       "2021-01-04  211.141388  \n",
       "2021-01-05  207.990173  \n",
       "2021-01-06  206.157639  \n",
       "2021-01-07  207.311462  \n",
       "2021-01-08  208.901611  "
      ]
     },
     "metadata": {},
     "output_type": "display_data"
    },
    {
     "name": "stdout",
     "output_type": "stream",
     "text": [
      "\n",
      "Volumen de los activos\n"
     ]
    },
    {
     "data": {
      "text/html": [
       "<div>\n",
       "<style scoped>\n",
       "    .dataframe tbody tr th:only-of-type {\n",
       "        vertical-align: middle;\n",
       "    }\n",
       "\n",
       "    .dataframe tbody tr th {\n",
       "        vertical-align: top;\n",
       "    }\n",
       "\n",
       "    .dataframe thead th {\n",
       "        text-align: right;\n",
       "    }\n",
       "</style>\n",
       "<table border=\"1\" class=\"dataframe\">\n",
       "  <thead>\n",
       "    <tr style=\"text-align: right;\">\n",
       "      <th>Ticker</th>\n",
       "      <th>AAPL</th>\n",
       "      <th>WMT</th>\n",
       "      <th>JPM</th>\n",
       "      <th>PG</th>\n",
       "      <th>META</th>\n",
       "      <th>V</th>\n",
       "    </tr>\n",
       "    <tr>\n",
       "      <th>Date</th>\n",
       "      <th></th>\n",
       "      <th></th>\n",
       "      <th></th>\n",
       "      <th></th>\n",
       "      <th></th>\n",
       "      <th></th>\n",
       "    </tr>\n",
       "  </thead>\n",
       "  <tbody>\n",
       "    <tr>\n",
       "      <th>2021-01-04</th>\n",
       "      <td>143301900</td>\n",
       "      <td>32182200</td>\n",
       "      <td>16819900</td>\n",
       "      <td>8330900</td>\n",
       "      <td>15106100</td>\n",
       "      <td>10318300</td>\n",
       "    </tr>\n",
       "    <tr>\n",
       "      <th>2021-01-05</th>\n",
       "      <td>97664900</td>\n",
       "      <td>26498100</td>\n",
       "      <td>13731200</td>\n",
       "      <td>6856400</td>\n",
       "      <td>9871600</td>\n",
       "      <td>6869700</td>\n",
       "    </tr>\n",
       "    <tr>\n",
       "      <th>2021-01-06</th>\n",
       "      <td>155088000</td>\n",
       "      <td>21918900</td>\n",
       "      <td>24909100</td>\n",
       "      <td>10578000</td>\n",
       "      <td>24354100</td>\n",
       "      <td>7206200</td>\n",
       "    </tr>\n",
       "    <tr>\n",
       "      <th>2021-01-07</th>\n",
       "      <td>109578200</td>\n",
       "      <td>20538000</td>\n",
       "      <td>21940400</td>\n",
       "      <td>7355400</td>\n",
       "      <td>15789800</td>\n",
       "      <td>10967900</td>\n",
       "    </tr>\n",
       "    <tr>\n",
       "      <th>2021-01-08</th>\n",
       "      <td>105158200</td>\n",
       "      <td>24478200</td>\n",
       "      <td>12035100</td>\n",
       "      <td>7448500</td>\n",
       "      <td>18528300</td>\n",
       "      <td>6513000</td>\n",
       "    </tr>\n",
       "  </tbody>\n",
       "</table>\n",
       "</div>"
      ],
      "text/plain": [
       "Ticker           AAPL       WMT       JPM        PG      META         V\n",
       "Date                                                                   \n",
       "2021-01-04  143301900  32182200  16819900   8330900  15106100  10318300\n",
       "2021-01-05   97664900  26498100  13731200   6856400   9871600   6869700\n",
       "2021-01-06  155088000  21918900  24909100  10578000  24354100   7206200\n",
       "2021-01-07  109578200  20538000  21940400   7355400  15789800  10967900\n",
       "2021-01-08  105158200  24478200  12035100   7448500  18528300   6513000"
      ]
     },
     "metadata": {},
     "output_type": "display_data"
    }
   ],
   "source": [
    "print(f'Precios de los activos')\n",
    "display(price.head())\n",
    "print()\n",
    "\n",
    "print(f'Volumen de los activos')\n",
    "display(volume.head());"
   ]
  },
  {
   "cell_type": "code",
   "execution_count": 74,
   "metadata": {},
   "outputs": [
    {
     "data": {
      "text/html": [
       "<div>\n",
       "<style scoped>\n",
       "    .dataframe tbody tr th:only-of-type {\n",
       "        vertical-align: middle;\n",
       "    }\n",
       "\n",
       "    .dataframe tbody tr th {\n",
       "        vertical-align: top;\n",
       "    }\n",
       "\n",
       "    .dataframe thead th {\n",
       "        text-align: right;\n",
       "    }\n",
       "</style>\n",
       "<table border=\"1\" class=\"dataframe\">\n",
       "  <thead>\n",
       "    <tr style=\"text-align: right;\">\n",
       "      <th>Ticker</th>\n",
       "      <th>AAPL</th>\n",
       "      <th>WMT</th>\n",
       "      <th>JPM</th>\n",
       "      <th>PG</th>\n",
       "      <th>META</th>\n",
       "      <th>V</th>\n",
       "    </tr>\n",
       "  </thead>\n",
       "  <tbody>\n",
       "    <tr>\n",
       "      <th>Rendimiento Anual</th>\n",
       "      <td>16.96%</td>\n",
       "      <td>17.44%</td>\n",
       "      <td>20.03%</td>\n",
       "      <td>9.45%</td>\n",
       "      <td>29.47%</td>\n",
       "      <td>13.41%</td>\n",
       "    </tr>\n",
       "    <tr>\n",
       "      <th>Volatilidad Anual</th>\n",
       "      <td>26.74%</td>\n",
       "      <td>20.19%</td>\n",
       "      <td>24.16%</td>\n",
       "      <td>17.05%</td>\n",
       "      <td>44.15%</td>\n",
       "      <td>22.53%</td>\n",
       "    </tr>\n",
       "  </tbody>\n",
       "</table>\n",
       "</div>"
      ],
      "text/plain": [
       "Ticker              AAPL    WMT    JPM     PG   META      V\n",
       "Rendimiento Anual 16.96% 17.44% 20.03%  9.45% 29.47% 13.41%\n",
       "Volatilidad Anual 26.74% 20.19% 24.16% 17.05% 44.15% 22.53%"
      ]
     },
     "execution_count": 74,
     "metadata": {},
     "output_type": "execute_result"
    }
   ],
   "source": [
    "pd.set_option('display.float_format', '{:.2%}'.format)\n",
    "stats_df = pd.DataFrame({\n",
    "    'Rendimiento Anual': rt.mean() * 252,\n",
    "    'Volatilidad Anual': rt.std() * np.sqrt(252),\n",
    "})\n",
    "stats_df.T"
   ]
  },
  {
   "cell_type": "markdown",
   "metadata": {},
   "source": [
    "# Optimización"
   ]
  },
  {
   "cell_type": "markdown",
   "metadata": {},
   "source": [
    "## Sharpe"
   ]
  },
  {
   "cell_type": "code",
   "execution_count": 75,
   "metadata": {},
   "outputs": [],
   "source": [
    "def opt_sharpe(rt, rf):\n",
    "    mu = rt.mean().values * 252  \n",
    "    cov = rt.cov().values \n",
    "    n = len(rt.keys())\n",
    "\n",
    "    def sharpe(w, mu, cov, rf):\n",
    "        mu_port = np.dot(mu, w)\n",
    "        sigma_port = np.sqrt(np.dot(w.T, np.dot(cov * 252, w)))\n",
    "        return -(mu_port - rf) / sigma_port  \n",
    "\n",
    "    def sum_weights(w):\n",
    "        return np.sum(w) - 1\n",
    "\n",
    "    w0 = np.array([1 / n] * n) \n",
    "\n",
    "    restricciones = [{'type': 'eq', 'fun': sum_weights}]\n",
    "\n",
    "    bounds = tuple((0, 1) for _ in range(n))\n",
    "\n",
    "    result = minimize(sharpe, \n",
    "                      w0,\n",
    "                      args=(mu, cov, rf),  \n",
    "                      constraints=restricciones,\n",
    "                      bounds=bounds, \n",
    "                      method='SLSQP'\n",
    "    )\n",
    "\n",
    "    w_sharpe = result.x\n",
    "    return w_sharpe"
   ]
  },
  {
   "cell_type": "markdown",
   "metadata": {},
   "source": [
    "## LVRR"
   ]
  },
  {
   "cell_type": "code",
   "execution_count": 76,
   "metadata": {},
   "outputs": [],
   "source": [
    "def opt_lvrr(price, volume, rt, rf, pv):\n",
    "    mu = rt.mean().values * 252  \n",
    "    cov = rt.cov().values \n",
    "    n = len(rt.keys())\n",
    "\n",
    "    adv = volume.loc[volume.index >= volume.index.max() - pd.DateOffset(months=3)].mean()\n",
    "\n",
    "    def lvrr(w, mu, cov, rf, pv, adv):\n",
    "        mu_port = np.dot(mu, w)\n",
    "        sigma_port = np.sqrt(np.dot(w.T, np.dot(cov * 252, w)))\n",
    "        sharpe = (mu_port - rf) / sigma_port\n",
    "\n",
    "        Ndays = (np.floor(pv * w / price.iloc[-1]))/adv\n",
    "        #Ndays = (pv * w / price.iloc[-1])/adv\n",
    "        return -(sharpe / np.sum(Ndays))\n",
    "\n",
    "    def sum_weights(w):\n",
    "        return np.sum(w) - 1\n",
    "\n",
    "    w0 = np.array([1 / n] * n) \n",
    "\n",
    "    restricciones = [{'type': 'eq', 'fun': sum_weights}]\n",
    "\n",
    "    bounds = tuple((0, 1) for _ in range(n))\n",
    "\n",
    "    result = minimize(lvrr, \n",
    "                      w0,\n",
    "                      args=(mu, cov, rf, pv, adv),  \n",
    "                      constraints=restricciones,\n",
    "                      bounds=bounds, \n",
    "                      method='SLSQP'\n",
    "    )\n",
    "\n",
    "    w_lvrr = result.x\n",
    "    return w_lvrr"
   ]
  },
  {
   "cell_type": "markdown",
   "metadata": {},
   "source": [
    "## Resultados"
   ]
  },
  {
   "cell_type": "code",
   "execution_count": 77,
   "metadata": {},
   "outputs": [],
   "source": [
    "pd.reset_option('display.float_format')\n",
    "\n",
    "rf = 0.05\n",
    "pv = 1000000.0\n",
    "\n",
    "start_date = '2021-01-01'\n",
    "end_date = '2023-12-31'\n",
    "\n",
    "start_test = '2024-01-01'\n",
    "end_test = '2025-03-12'\n",
    "#end_test = datetime.datetime.today().strftime('%Y-%m-%d')\n",
    "\n",
    "benchmark_test = benchmark_data.loc[start_test:end_test]\n",
    "\n",
    "price_train = price.loc[start_date:end_date]\n",
    "price_test = price.loc[start_test:end_test]\n",
    "\n",
    "volume_train = volume.loc[start_date:end_date]\n",
    "volume_test = volume.loc[start_test:end_test]\n",
    "\n",
    "rt_train = price_train.pct_change().dropna()\n",
    "rt_test = price_test.pct_change().dropna()\n",
    "rt_benchmark_test = benchmark_test.pct_change().dropna()"
   ]
  },
  {
   "cell_type": "markdown",
   "metadata": {},
   "source": [
    "### Sharpe"
   ]
  },
  {
   "cell_type": "code",
   "execution_count": 78,
   "metadata": {},
   "outputs": [
    {
     "data": {
      "image/png": "[encoded data removed]",
      "text/plain": [
       "<Figure size 800x800 with 1 Axes>"
      ]
     },
     "metadata": {},
     "output_type": "display_data"
    }
   ],
   "source": [
    "vt.plot_weights(tickers, opt_sharpe(rt_train, rf))"
   ]
  },
  {
   "cell_type": "markdown",
   "metadata": {},
   "source": [
    "### LVRR"
   ]
  },
  {
   "cell_type": "code",
   "execution_count": 79,
   "metadata": {},
   "outputs": [
    {
     "data": {
      "image/png": "[encoded data removed]",
      "text/plain": [
       "<Figure size 800x800 with 1 Axes>"
      ]
     },
     "metadata": {},
     "output_type": "display_data"
    }
   ],
   "source": [
    "vt.plot_weights(tickers, opt_lvrr(price_train, volume_train, rt_train, rf, pv))"
   ]
  },
  {
   "cell_type": "code",
   "execution_count": null,
   "metadata": {},
   "outputs": [],
   "source": []
  }
 ],
 "metadata": {
  "kernelspec": {
   "display_name": "base",
   "language": "python",
   "name": "python3"
  },
  "language_info": {
   "codemirror_mode": {
    "name": "ipython",
    "version": 3
   },
   "file_extension": ".py",
   "mimetype": "text/x-python",
   "name": "python",
   "nbconvert_exporter": "python",
   "pygments_lexer": "ipython3",
   "version": "3.12.7"
  }
 },
 "nbformat": 4,
 "nbformat_minor": 2
}
