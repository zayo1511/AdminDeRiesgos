{
 "cells": [
  {
   "cell_type": "code",
   "execution_count": 1,
   "metadata": {},
   "outputs": [],
   "source": [
    "import numpy as np"
   ]
  },
  {
   "cell_type": "markdown",
   "metadata": {},
   "source": [
    "# Total Return Swaps"
   ]
  },
  {
   "cell_type": "code",
   "execution_count": 2,
   "metadata": {},
   "outputs": [],
   "source": [
    "def TRS(n_bonds, coupons, initial_prices, final_prices, fixed_rate, t, pay_total_return):\n",
    "    \n",
    "     initial_port_value = np.dot(n_bonds, initial_prices)\n",
    "     final_port_value = np.dot(n_bonds, final_prices)\n",
    "     coupon_pmt = np.sum(n_bonds * coupons/t * 100)\n",
    "     total_return = (final_port_value - initial_port_value) + coupon_pmt\n",
    "     rate = fixed_rate/t * initial_port_value\n",
    "\n",
    "     return print(f'${(rate - total_return if pay_total_return else total_return - rate)[0]:,.2f}')"
   ]
  },
  {
   "cell_type": "code",
   "execution_count": 3,
   "metadata": {},
   "outputs": [
    {
     "name": "stdout",
     "output_type": "stream",
     "text": [
      "$306,825.00\n"
     ]
    }
   ],
   "source": [
    "n_bonds = np.array([35_000, 45_000, 50_000])\n",
    "coupons = np.array([0.06, 0.07, 0.08])\n",
    "initial_prices = np.array([98.75, 101.5, 97.6])\n",
    "final_prices = np.array([96.4, 97.3, 92.8])\n",
    "fixed_rate = np.array([0.04])\n",
    "t = np.array([2])\n",
    "pay_total_return = True\n",
    "\n",
    "TRS(n_bonds, coupons, initial_prices, final_prices, fixed_rate, t, pay_total_return)"
   ]
  },
  {
   "cell_type": "code",
   "execution_count": 4,
   "metadata": {},
   "outputs": [
    {
     "name": "stdout",
     "output_type": "stream",
     "text": [
      "$-204,531.06\n"
     ]
    }
   ],
   "source": [
    "n_bonds = np.array([40_000, 50_000, 30_000])\n",
    "coupons = np.array([0.0650, 0.0575, 0.0425])\n",
    "initial_prices = np.array([106.83, 101.45, 98.36])\n",
    "final_prices = np.array([104.27, 100.67, 97.24])\n",
    "fixed_rate = np.array([0.0645])\n",
    "t = np.array([4])\n",
    "pay_total_return = False\n",
    "\n",
    "TRS(n_bonds, coupons, initial_prices, final_prices, fixed_rate, t, pay_total_return)"
   ]
  },
  {
   "cell_type": "code",
   "execution_count": 5,
   "metadata": {},
   "outputs": [
    {
     "name": "stdout",
     "output_type": "stream",
     "text": [
      "$4,288,129.60\n"
     ]
    }
   ],
   "source": [
    "n_bonds = np.array([300_000, 272_000])\n",
    "coupons = np.array([0.0233, 0.0350])\n",
    "initial_prices = np.array([109.88, 115.33])\n",
    "final_prices = np.array([105.33, 106.87])\n",
    "fixed_rate = np.array([0.0450])\n",
    "t = np.array([2])\n",
    "pay_total_return = True\n",
    "\n",
    "TRS(n_bonds, coupons, initial_prices, final_prices, fixed_rate, t, pay_total_return)"
   ]
  },
  {
   "cell_type": "markdown",
   "metadata": {},
   "source": [
    "---\n",
    "\n",
    "# Credit Default Swaps"
   ]
  },
  {
   "cell_type": "markdown",
   "metadata": {},
   "source": [
    "El Spread de un CDS, es la tasa justa que se debería de pactar en un credit default swap en un momento dado en el timepo, en dunción de la probabilidad de default y la tasa de recuperación, y es calculado de la siguiente manera:\n",
    "\n",
    "$$S_0 = \\frac{\\text{Protection Leg}}{RPV01}$$\n",
    "\n",
    "donde el Protection Leg es calculado de la siguiente manera:\n",
    "\n",
    "$$\\text{Protection Leg} = \\int_0^T \\ Z(\\tau) (1-R) dPD(\\tau)$$\n",
    "\n",
    "y RPV01 es calculado:\n",
    "\n",
    "$$RPV01 = \\sum_{j=1}^N Z(tj) \\Delta (tj - 1, tj, B) Q (tj)$$"
   ]
  },
  {
   "cell_type": "markdown",
   "metadata": {},
   "source": [
    "## **¿Qué es el RPV01? ¿Como se interpreta? ¿Que representan los elementos utilizados para calcularlos?**\n",
    "\n",
    "**RPV01** (*Risky Present Value of 1 basis point*) representa el valor presente de 1 punto base durante la vida del CDS hasta vencimiento o default. (pp. 3) La fórmula para calcularlo se se ve de la siguiente manera:\n",
    "\n",
    "$$RPV01 = \\sum_{j=1}^N Z(tj) \\Delta (tj - 1, tj, B) Q (tj)$$\n",
    "\n",
    "Donde:\n",
    "\n",
    "- $ Z(tj) $: factor de descuento libre de riesgo\n",
    "- $ \\Delta (tj - 1, tj, B) $: fracción del año entre pagos denotada como B\n",
    "- $ Q (tj) $: probabilidad de supervivencia del emisor (pp. 7)\n",
    "\n",
    "La interpretación del RPV01 sería la del valor presente esperado de los pagos de 1bp en el CDS, considerando la probabilidad de que el emisor **no haya hecho default**."
   ]
  },
  {
   "cell_type": "markdown",
   "metadata": {},
   "source": [
    "## **¿Qué es el Protection Leg? ¿Como se interpreta? ¿Que representan los elementos utilizados para calcularlos?**\n",
    "\n",
    "El **Protection Leg** representa el valor presente esperado del pago que realiza el **vendedor de protección** al **comprador** en caso de default del emisor. Es decir que representa el LGD (1-RR), valor el cual deberá pagar el protection seller en caso de un evento de crédito. (pp. 8) Se calúcla con la fórmula:\n",
    "\n",
    "$$\\text{Protection Leg} = \\int_0^T \\ Z(\\tau) (1-R) dPD(\\tau)$$\n",
    "\n",
    "Donde:\n",
    "\n",
    "- $ Z(\\tau) $: valor presente del pago por default en el tiempo $\\tau$\n",
    "- $ R $: tasa de Recovery Rate del subyacente\n",
    "- $ (1 - R) $: pérdida esperada para el seller dada el default (LGD)\n",
    "- $ dPD(\\tau) $: diferencial de la función de probabilidad de default acumulada (incremento infitesimal de la probabilidad de que el emisor haga deafault en el timepo $\\tau$)\n",
    "\n",
    "El Protection Leg se interpreta como el valor presente esperado del LGD, es decir la pérdida esperada (ponderada) traída a valor presente.\n"
   ]
  },
  {
   "cell_type": "markdown",
   "metadata": {},
   "source": [
    "## **¿Qué representa el spread de un CDS de manera matemática?, es decir, como se interpreta el ratio utilizado para calcularlo y que significa.**\n",
    "\n",
    "El spread del CDS se calcula de la manera:\n",
    "\n",
    "$$S_0 = \\frac{\\text{Protection Leg}}{RPV01}$$\n",
    "\n",
    "Matemáticmanete significa que tanto representa el **Protection Leg** del **RPV01**. Es el pago justo (equilibrio) que habría en el CDS tomando en cuenta la pérdida esperada con base en el valor esperado del pago por el cambio de 1 basis. (pp. 11)"
   ]
  },
  {
   "cell_type": "markdown",
   "metadata": {},
   "source": [
    "## **¿Qué otros elementos de un CDS es importante conocer y como se calculan?**\n",
    "\n",
    "**MTM (Mark to Market)** (pp. 3-4)\n",
    "\n",
    "Es el precio de mercado de un CDS ya existente cuando existen los cambios de spread. Esto se calcula de la siguiente manera:\n",
    "\n",
    "$$MTM = (\\text{Spread Nuevo} - \\text{Spread Inicial}) \\times RPV01$$\n",
    "\n",
    "**Hazard Rates** (pp. 12-13)\n",
    "\n",
    "Representa la probabilidad de que haya un evenbto de crédito por parte del emisor en un tiempo determinado. Este es calculado iterativamente mediante bootstrap de la forma:\n",
    "\n",
    "$$\\frac{S(t_v, t_v + 1Y)}{1- R} \\ \\sum_{n=3,6,9,12} \\Delta(t_{n-3},t_n,B) Z(t_v,t_n)e^{-\\lambda_{01}\\tau_n} = \\sum_{m=1}^{12} Z(t_v,t_m)(e^{-\\lambda_{01}\\tau_{m-1}}-e^{\\lambda_{01}\\tau_m})$$"
   ]
  },
  {
   "cell_type": "markdown",
   "metadata": {},
   "source": [
    "## Referencias\n",
    "\n",
    "Referencia principal (números de páginas):\n",
    "\n",
    "- O’Kane, D., & Turnbull, S. (2003, abril). Valuation of credit default swaps. Lehman Brothers, Fixed Income Quantitative Credit Research.\n",
    "\n",
    "Apoyo extra:\n",
    "\n",
    "- Beumee, J., Brigo, D., Schiemert, D., & Stoyle, G. (2009, 7 de abril). Charting a course through the CDS Big Bang. Fitch Solutions, Quantitative Research, Global Special Report.\n",
    "- Hull, J., & White, A. (2000). Valuing credit default swaps I: No counterparty default risk. Journal of Derivatives, 8(1), 29–40.\n"
   ]
  },
  {
   "cell_type": "markdown",
   "metadata": {},
   "source": []
  }
 ],
 "metadata": {
  "kernelspec": {
   "display_name": "base",
   "language": "python",
   "name": "python3"
  },
  "language_info": {
   "codemirror_mode": {
    "name": "ipython",
    "version": 3
   },
   "file_extension": ".py",
   "mimetype": "text/x-python",
   "name": "python",
   "nbconvert_exporter": "python",
   "pygments_lexer": "ipython3",
   "version": "3.12.7"
  }
 },
 "nbformat": 4,
 "nbformat_minor": 2
}
