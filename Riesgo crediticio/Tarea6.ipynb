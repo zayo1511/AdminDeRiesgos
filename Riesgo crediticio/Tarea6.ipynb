{
 "cells": [
  {
   "cell_type": "code",
   "execution_count": 1,
   "metadata": {},
   "outputs": [],
   "source": [
    "import numpy as np"
   ]
  },
  {
   "cell_type": "markdown",
   "metadata": {},
   "source": [
    "# Total Return Swaps"
   ]
  },
  {
   "cell_type": "code",
   "execution_count": 2,
   "metadata": {},
   "outputs": [],
   "source": [
    "def TRS(n_bonds, coupons, initial_prices, final_prices, fixed_rate, t, pay_total_return):\n",
    "    \n",
    "     initial_port_value = np.dot(n_bonds, initial_prices)\n",
    "     final_port_value = np.dot(n_bonds, final_prices)\n",
    "     coupon_pmt = np.sum(n_bonds * coupons/t * 100)\n",
    "     total_return = (final_port_value - initial_port_value) + coupon_pmt\n",
    "     rate = fixed_rate/t * initial_port_value\n",
    "\n",
    "     return print(f'${(rate - total_return if pay_total_return else total_return - rate)[0]:,.2f}')"
   ]
  },
  {
   "cell_type": "code",
   "execution_count": 3,
   "metadata": {},
   "outputs": [
    {
     "name": "stdout",
     "output_type": "stream",
     "text": [
      "$306,825.00\n"
     ]
    }
   ],
   "source": [
    "n_bonds = np.array([35_000, 45_000, 50_000])\n",
    "coupons = np.array([0.06, 0.07, 0.08])\n",
    "initial_prices = np.array([98.75, 101.5, 97.6])\n",
    "final_prices = np.array([96.4, 97.3, 92.8])\n",
    "fixed_rate = np.array([0.04])\n",
    "t = np.array([2])\n",
    "pay_total_return = True\n",
    "\n",
    "TRS(n_bonds, coupons, initial_prices, final_prices, fixed_rate, t, pay_total_return)"
   ]
  },
  {
   "cell_type": "code",
   "execution_count": 4,
   "metadata": {},
   "outputs": [
    {
     "name": "stdout",
     "output_type": "stream",
     "text": [
      "$-204,531.06\n"
     ]
    }
   ],
   "source": [
    "n_bonds = np.array([40_000, 50_000, 30_000])\n",
    "coupons = np.array([0.0650, 0.0575, 0.0425])\n",
    "initial_prices = np.array([106.83, 101.45, 98.36])\n",
    "final_prices = np.array([104.27, 100.67, 97.24])\n",
    "fixed_rate = np.array([0.0645])\n",
    "t = np.array([4])\n",
    "pay_total_return = False\n",
    "\n",
    "TRS(n_bonds, coupons, initial_prices, final_prices, fixed_rate, t, pay_total_return)"
   ]
  },
  {
   "cell_type": "code",
   "execution_count": 5,
   "metadata": {},
   "outputs": [
    {
     "name": "stdout",
     "output_type": "stream",
     "text": [
      "$4,288,129.60\n"
     ]
    }
   ],
   "source": [
    "n_bonds = np.array([300_000, 272_000])\n",
    "coupons = np.array([0.0233, 0.0350])\n",
    "initial_prices = np.array([109.88, 115.33])\n",
    "final_prices = np.array([105.33, 106.87])\n",
    "fixed_rate = np.array([0.0450])\n",
    "t = np.array([2])\n",
    "pay_total_return = True\n",
    "\n",
    "TRS(n_bonds, coupons, initial_prices, final_prices, fixed_rate, t, pay_total_return)"
   ]
  },
  {
   "cell_type": "markdown",
   "metadata": {},
   "source": [
    "# Credit Default Swaps"
   ]
  },
  {
   "cell_type": "markdown",
   "metadata": {},
   "source": [
    "El Spread de un CDS, es la tasa justa que se debería de pactar en un credit default swap en un momento dado en el timepo, en dunción de la probabilidad de default y la tasa de recuperación, y es calculado de la siguiente manera:\n",
    "\n",
    "$$S_0 = \\frac{\\text{Protection Leg}}{RPV01}$$\n",
    "\n",
    "donde el Protection Leg es calculado de la siguiente manera:\n",
    "\n",
    "$$\\text{Protection Leg} = \\int_0^T \\ Z(\\tau) (1-R) dPD(\\tau)$$\n",
    "\n",
    "y RPV01 es calculado:\n",
    "\n",
    "$$RPV01 = \\sum_{j=1}^N Z(tj) \\Delta (tj - 1, tj, B) Q (tj)$$"
   ]
  },
  {
   "cell_type": "markdown",
   "metadata": {},
   "source": [
    "**¿Qué es el RPV01? ¿Como se interpreta? ¿Que representan los elementos utilizados para calcularlos?**\n",
    "\n"
   ]
  },
  {
   "cell_type": "markdown",
   "metadata": {},
   "source": [
    "**¿Qué es el Protection Leg? ¿Como se interpreta? ¿Que representan los elementos utilizados para calcularlos?**\n",
    "\n"
   ]
  },
  {
   "cell_type": "markdown",
   "metadata": {},
   "source": [
    "**¿Qué representa el spread de un CDS de manera matemática?, es decir, como se interpreta el ratio utilizado para calcularlo y que significa.**\n",
    "\n"
   ]
  },
  {
   "cell_type": "markdown",
   "metadata": {},
   "source": [
    "**¿Qué otros elementos de un CDS es importante conocer y como se calculan?**\n",
    "\n"
   ]
  }
 ],
 "metadata": {
  "kernelspec": {
   "display_name": "base",
   "language": "python",
   "name": "python3"
  },
  "language_info": {
   "codemirror_mode": {
    "name": "ipython",
    "version": 3
   },
   "file_extension": ".py",
   "mimetype": "text/x-python",
   "name": "python",
   "nbconvert_exporter": "python",
   "pygments_lexer": "ipython3",
   "version": "3.12.7"
  }
 },
 "nbformat": 4,
 "nbformat_minor": 2
}
