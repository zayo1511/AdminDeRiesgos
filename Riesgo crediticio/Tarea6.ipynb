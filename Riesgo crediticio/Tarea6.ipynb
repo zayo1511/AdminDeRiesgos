{
 "cells": [
  {
   "cell_type": "code",
   "execution_count": 1,
   "metadata": {},
   "outputs": [],
   "source": [
    "import numpy as np\n",
    "import pandas as pd"
   ]
  },
  {
   "cell_type": "markdown",
   "metadata": {},
   "source": [
    "# Total Return Swaps"
   ]
  },
  {
   "cell_type": "code",
   "execution_count": 2,
   "metadata": {},
   "outputs": [],
   "source": [
    "def TRS(n_bonds, coupons, initial_prices, final_prices, fixed_rate, t, pay_total_return):\n",
    "     \"\"\"\n",
    "     Calculate the profit/loss of a total return swap.\n",
    "\n",
    "     Parameters\n",
    "     ----------\n",
    "     n_bonds : array-like\n",
    "         Number of bonds.\n",
    "     coupons : array-like\n",
    "         Coupon rates of the bonds.\n",
    "     initial_prices : array-like\n",
    "         Initial prices of the bonds.\n",
    "     final_prices : array-like\n",
    "         Final prices of the bonds.\n",
    "     fixed_rate : array-like\n",
    "         Fixed rate for the swap.\n",
    "     t : array-like\n",
    "         Time period for the swap.\n",
    "     pay_total_return : bool, optional\n",
    "         If True, pay total return. Default is True.\n",
    "\n",
    "     Returns\n",
    "     -------\n",
    "     None\n",
    "         Prints the profit/loss from the total return swap.\n",
    "     \"\"\"\n",
    "     initial_port_value = np.dot(n_bonds, initial_prices)\n",
    "     final_port_value = np.dot(n_bonds, final_prices)\n",
    "     coupon_pmt = np.sum(n_bonds * coupons/t * 100)\n",
    "     total_return = (final_port_value - initial_port_value) + coupon_pmt\n",
    "     rate = fixed_rate/t * initial_port_value\n",
    "\n",
    "     return print(f'${(rate - total_return if pay_total_return else total_return - rate)[0]:,.2f}')"
   ]
  },
  {
   "cell_type": "code",
   "execution_count": 3,
   "metadata": {},
   "outputs": [
    {
     "name": "stdout",
     "output_type": "stream",
     "text": [
      "$306,825.00\n"
     ]
    }
   ],
   "source": [
    "n_bonds = np.array([35_000, 45_000, 50_000])\n",
    "coupons = np.array([0.06, 0.07, 0.08])\n",
    "initial_prices = np.array([98.75, 101.5, 97.6])\n",
    "final_prices = np.array([96.4, 97.3, 92.8])\n",
    "fixed_rate = np.array([0.04])\n",
    "t = np.array([2])\n",
    "pay_total_return = True\n",
    "\n",
    "TRS(n_bonds, coupons, initial_prices, final_prices, fixed_rate, t, pay_total_return)"
   ]
  },
  {
   "cell_type": "markdown",
   "metadata": {},
   "source": [
    "# Credit Default Swaps"
   ]
  },
  {
   "cell_type": "code",
   "execution_count": null,
   "metadata": {},
   "outputs": [],
   "source": []
  }
 ],
 "metadata": {
  "kernelspec": {
   "display_name": "base",
   "language": "python",
   "name": "python3"
  },
  "language_info": {
   "codemirror_mode": {
    "name": "ipython",
    "version": 3
   },
   "file_extension": ".py",
   "mimetype": "text/x-python",
   "name": "python",
   "nbconvert_exporter": "python",
   "pygments_lexer": "ipython3",
   "version": "3.12.7"
  }
 },
 "nbformat": 4,
 "nbformat_minor": 2
}
