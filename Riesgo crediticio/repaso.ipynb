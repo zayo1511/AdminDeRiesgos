{
 "cells": [
  {
   "cell_type": "code",
   "execution_count": 1,
   "metadata": {},
   "outputs": [],
   "source": [
    "import numpy as np"
   ]
  },
  {
   "cell_type": "code",
   "execution_count": 2,
   "metadata": {},
   "outputs": [],
   "source": [
    "def TRS(n_bonds, coupons, initial_prices, final_prices, fixed_rate, t, pay_total_return, v_nominal):\n",
    "    \n",
    "     initial_port_value = np.dot(n_bonds, initial_prices)\n",
    "     final_port_value = np.dot(n_bonds, final_prices)\n",
    "     coupon_pmt = np.sum(n_bonds * coupons/t * v_nominal)\n",
    "     total_return = (final_port_value - initial_port_value) + coupon_pmt\n",
    "     rate = fixed_rate/t * initial_port_value\n",
    "\n",
    "     return print(f'${(rate - total_return if pay_total_return else total_return - rate)[0]:,.2f}')"
   ]
  },
  {
   "cell_type": "code",
   "execution_count": 4,
   "metadata": {},
   "outputs": [
    {
     "name": "stdout",
     "output_type": "stream",
     "text": [
      "$154,581.00\n"
     ]
    }
   ],
   "source": [
    "n_bonds = np.array([104_000, 96_000])\n",
    "coupons = np.array([0.087, 0.103])\n",
    "initial_prices = np.array([96.45, 97.84])\n",
    "final_prices = np.array([96.03, 97.63])\n",
    "fixed_rate = np.array([0.075])\n",
    "t = np.array([2])\n",
    "pay_total_return = False\n",
    "v_nominal = np.array([100, 100])\n",
    "\n",
    "TRS(n_bonds, coupons, initial_prices, final_prices, fixed_rate, t, pay_total_return, v_nominal)"
   ]
  },
  {
   "cell_type": "code",
   "execution_count": null,
   "metadata": {},
   "outputs": [],
   "source": []
  }
 ],
 "metadata": {
  "kernelspec": {
   "display_name": "base",
   "language": "python",
   "name": "python3"
  },
  "language_info": {
   "codemirror_mode": {
    "name": "ipython",
    "version": 3
   },
   "file_extension": ".py",
   "mimetype": "text/x-python",
   "name": "python",
   "nbconvert_exporter": "python",
   "pygments_lexer": "ipython3",
   "version": "3.12.7"
  }
 },
 "nbformat": 4,
 "nbformat_minor": 2
}
