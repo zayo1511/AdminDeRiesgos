{
 "cells": [
  {
   "cell_type": "code",
   "execution_count": 1,
   "metadata": {},
   "outputs": [],
   "source": [
    "import numpy as np\n",
    "import pandas as pd\n",
    "\n",
    "pd.set_option('display.float_format', '{:,.4f}'.format)"
   ]
  },
  {
   "cell_type": "markdown",
   "metadata": {},
   "source": [
    "# TRS"
   ]
  },
  {
   "cell_type": "code",
   "execution_count": 2,
   "metadata": {},
   "outputs": [],
   "source": [
    "def TRS(n_bonds, coupons, initial_prices, final_prices, fixed_rate, t, pay_total_return, v_nominal):\n",
    "    \n",
    "     initial_port_value = np.dot(n_bonds, initial_prices)\n",
    "     final_port_value = np.dot(n_bonds, final_prices)\n",
    "     coupon_pmt = np.sum(n_bonds * coupons/t * v_nominal)\n",
    "     total_return = (final_port_value - initial_port_value) + coupon_pmt\n",
    "     rate = fixed_rate/t * initial_port_value\n",
    "\n",
    "     return print(f'${(rate - total_return if pay_total_return else total_return - rate)[0]:,.2f}')"
   ]
  },
  {
   "cell_type": "code",
   "execution_count": 3,
   "metadata": {},
   "outputs": [
    {
     "name": "stdout",
     "output_type": "stream",
     "text": [
      "$154,581.00\n"
     ]
    }
   ],
   "source": [
    "n_bonds = np.array([104_000, 96_000])\n",
    "coupons = np.array([0.087, 0.103])\n",
    "initial_prices = np.array([96.45, 97.84])\n",
    "final_prices = np.array([96.03, 97.63])\n",
    "fixed_rate = np.array([0.075])\n",
    "t = np.array([2])\n",
    "pay_total_return = False\n",
    "v_nominal = np.array([100, 100])\n",
    "\n",
    "TRS(n_bonds, coupons, initial_prices, final_prices, fixed_rate, t, pay_total_return, v_nominal)"
   ]
  },
  {
   "cell_type": "markdown",
   "metadata": {},
   "source": [
    "# CDO"
   ]
  },
  {
   "cell_type": "code",
   "execution_count": 4,
   "metadata": {},
   "outputs": [
    {
     "data": {
      "text/html": [
       "<div>\n",
       "<style scoped>\n",
       "    .dataframe tbody tr th:only-of-type {\n",
       "        vertical-align: middle;\n",
       "    }\n",
       "\n",
       "    .dataframe tbody tr th {\n",
       "        vertical-align: top;\n",
       "    }\n",
       "\n",
       "    .dataframe thead th {\n",
       "        text-align: right;\n",
       "    }\n",
       "</style>\n",
       "<table border=\"1\" class=\"dataframe\">\n",
       "  <thead>\n",
       "    <tr style=\"text-align: right;\">\n",
       "      <th></th>\n",
       "      <th>tramo</th>\n",
       "      <th>probabilidad</th>\n",
       "      <th>pérdida esperada</th>\n",
       "      <th>spread</th>\n",
       "    </tr>\n",
       "  </thead>\n",
       "  <tbody>\n",
       "    <tr>\n",
       "      <th>0</th>\n",
       "      <td>equity</td>\n",
       "      <td>35.85%</td>\n",
       "      <td>39,746.2314</td>\n",
       "      <td>9.92%</td>\n",
       "    </tr>\n",
       "    <tr>\n",
       "      <th>1</th>\n",
       "      <td>mezanine</td>\n",
       "      <td>16.06%</td>\n",
       "      <td>36,439.7883</td>\n",
       "      <td>6.06%</td>\n",
       "    </tr>\n",
       "    <tr>\n",
       "      <th>2</th>\n",
       "      <td>junior</td>\n",
       "      <td>3.11%</td>\n",
       "      <td>8,794.1597</td>\n",
       "      <td>1.10%</td>\n",
       "    </tr>\n",
       "    <tr>\n",
       "      <th>3</th>\n",
       "      <td>senior</td>\n",
       "      <td>0.12%</td>\n",
       "      <td>289.1442</td>\n",
       "      <td>0.00%</td>\n",
       "    </tr>\n",
       "  </tbody>\n",
       "</table>\n",
       "</div>"
      ],
      "text/plain": [
       "      tramo probabilidad  pérdida esperada spread\n",
       "0    equity       35.85%       39,746.2314  9.92%\n",
       "1  mezanine       16.06%       36,439.7883  6.06%\n",
       "2    junior        3.11%        8,794.1597  1.10%\n",
       "3    senior        0.12%          289.1442  0.00%"
      ]
     },
     "execution_count": 4,
     "metadata": {},
     "output_type": "execute_result"
    }
   ],
   "source": [
    "df = pd.read_csv('losses (4).csv')\n",
    "\n",
    "ecl = 801_540\n",
    "std = 455_640\n",
    "var = 2_173_100\n",
    "cvar = 2_403_500 \n",
    "\n",
    "ucl = var - ecl\n",
    "\n",
    "port = 10_915_381.90\n",
    "equity = ecl * 0.5\n",
    "mezanine = ecl * 0.75\n",
    "junior = ecl * 1\n",
    "\n",
    "senior = port - ecl - equity - mezanine - junior\n",
    "\n",
    "lim_ecl = ecl\n",
    "lim_equity = ecl + equity\n",
    "lim_mezanine = ecl + equity + mezanine\n",
    "lim_junior = ecl + equity + mezanine + junior\n",
    "lim_senior = ecl + equity + mezanine + junior + senior\n",
    "\n",
    "maximo = df.max().values[0]\n",
    "minimo = df.min().values[0]\n",
    "rango = maximo - minimo\n",
    "\n",
    "df_grupos = pd.DataFrame({\n",
    "    'grupos': list(range(1, 101)),\n",
    "})\n",
    "df_grupos['perdida'] = minimo + rango/99 * df_grupos.index\n",
    "\n",
    "losses = df['losses'].to_numpy()\n",
    "bins = df_grupos['perdida'].to_numpy()\n",
    "\n",
    "frecuencias = []\n",
    "\n",
    "for i, limite in enumerate(bins):\n",
    "    if i == 0:\n",
    "        count = np.sum(losses <= limite)\n",
    "    else:\n",
    "        count = np.sum((losses > bins[i-1]) & (losses <= limite))\n",
    "    frecuencias.append(count)\n",
    "\n",
    "df_grupos['frecuencia'] = frecuencias\n",
    "df_grupos['prob_marginal'] = df_grupos['frecuencia'] / df_grupos['frecuencia'].sum()\n",
    "df_grupos['prob_acumulada'] = df_grupos['prob_marginal'].cumsum()\n",
    "\n",
    "df_filtered = df_grupos[df_grupos['perdida'] < lim_ecl]\n",
    "df_extra = df_grupos[df_grupos['perdida'] >= lim_ecl].head(1)\n",
    "df_ecl = pd.concat([df_filtered, df_extra])\n",
    "\n",
    "df_filtered_equity = df_grupos[(df_grupos['perdida'] > df_ecl['perdida'].iloc[-1]) & (df_grupos['perdida'] < lim_equity)]\n",
    "df_extra_equity = df_grupos[df_grupos['perdida'] >= lim_equity].head(1)\n",
    "df_equity = pd.concat([df_filtered_equity, df_extra_equity])\n",
    "\n",
    "df_filtered_mezanine = df_grupos[(df_grupos['perdida'] > df_equity['perdida'].iloc[-1]) & (df_grupos['perdida'] < lim_mezanine)]\n",
    "df_extra_mezanine = df_grupos[df_grupos['perdida'] >= lim_mezanine].head(1)\n",
    "df_mezanine = pd.concat([df_filtered_mezanine, df_extra_mezanine])\n",
    "\n",
    "df_filtered_junior = df_grupos[(df_grupos['perdida'] > df_mezanine['perdida'].iloc[-1]) & (df_grupos['perdida'] < lim_junior)]\n",
    "df_extra_junior = df_grupos[df_grupos['perdida'] >= lim_junior].head(1)\n",
    "df_junior = pd.concat([df_filtered_junior, df_extra_junior])\n",
    "\n",
    "df_filtered_senior = df_grupos[(df_grupos['perdida'] > df_junior['perdida'].iloc[-1]) & (df_grupos['perdida'] < lim_senior)]\n",
    "df_extra_senior = df_grupos[df_grupos['perdida'] >= lim_senior].head(1)\n",
    "df_senior = pd.concat([df_filtered_senior, df_extra_senior])\n",
    "\n",
    "equity_loss_prob = 1 - df_equity['prob_acumulada'].iloc[0]\n",
    "mezanine_loss_prob = 1 - df_mezanine['prob_acumulada'].iloc[0]\n",
    "junior_loss_prob = 1 - df_junior['prob_acumulada'].iloc[0]\n",
    "\n",
    "if len(df_senior) > 0:\n",
    "    senior_loss_prob = 1 - df_senior['prob_acumulada'].iloc[0]\n",
    "else:\n",
    "    senior_loss_prob = 0\n",
    "\n",
    "equity_loss = np.sum((df_equity['perdida'] - df_ecl['perdida'].iloc[-1]) * df_equity['prob_marginal'])\n",
    "mezanine_loss = np.sum((df_mezanine['perdida'] - df_equity['perdida'].iloc[-1]) * df_mezanine['prob_marginal'])\n",
    "junior_loss = np.sum((df_junior['perdida'] - df_mezanine['perdida'].iloc[-1]) * df_junior['prob_marginal'])\n",
    "senior_loss = np.sum((df_senior['perdida'] - df_junior['perdida'].iloc[-1]) * df_senior['prob_marginal'])\n",
    "\n",
    "expected_loss = np.array([equity_loss, mezanine_loss, junior_loss, senior_loss])\n",
    "port_values = np.array([equity, mezanine, junior, senior])\n",
    "spread = expected_loss / port_values\n",
    "\n",
    "df_resultados = pd.DataFrame({\n",
    "    'tramo': ['equity', 'mezanine', 'junior', 'senior'],\n",
    "    'probabilidad': [equity_loss_prob, mezanine_loss_prob, junior_loss_prob, senior_loss_prob],\n",
    "    'pérdida esperada': expected_loss,\n",
    "    'spread': spread\n",
    "})\n",
    "df_resultados['probabilidad'] = df_resultados['probabilidad'].apply(lambda x: '{:,.2%}'.format(x))\n",
    "df_resultados['spread'] = df_resultados['spread'].apply(lambda x: '{:,.2%}'.format(x))\n",
    "df_resultados"
   ]
  },
  {
   "cell_type": "code",
   "execution_count": null,
   "metadata": {},
   "outputs": [],
   "source": []
  }
 ],
 "metadata": {
  "kernelspec": {
   "display_name": "base",
   "language": "python",
   "name": "python3"
  },
  "language_info": {
   "codemirror_mode": {
    "name": "ipython",
    "version": 3
   },
   "file_extension": ".py",
   "mimetype": "text/x-python",
   "name": "python",
   "nbconvert_exporter": "python",
   "pygments_lexer": "ipython3",
   "version": "3.12.7"
  }
 },
 "nbformat": 4,
 "nbformat_minor": 2
}
