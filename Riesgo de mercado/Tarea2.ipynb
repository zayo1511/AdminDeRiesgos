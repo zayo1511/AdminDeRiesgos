{
 "cells": [
  {
   "cell_type": "markdown",
   "metadata": {},
   "source": [
    "# Tarea 2\n",
    "\n",
    "Diego Lozoya Morales | 745345"
   ]
  },
  {
   "cell_type": "code",
   "execution_count": 12,
   "metadata": {},
   "outputs": [],
   "source": [
    "import pandas as pd\n",
    "import yfinance as yf\n",
    "import numpy as np\n",
    "from scipy.optimize import minimize\n",
    "from IPython.display import display\n",
    "\n",
    "pd.set_option('display.float_format', '{:,.2f}'.format)"
   ]
  },
  {
   "cell_type": "markdown",
   "metadata": {},
   "source": [
    "## Ejercicio 1 \n",
    "\n",
    "Función VaR y ES"
   ]
  },
  {
   "cell_type": "code",
   "execution_count": 13,
   "metadata": {},
   "outputs": [],
   "source": [
    "def VaR_CVaR(data, n_stocks, conf, long):\n",
    "     \n",
    "     valor_posicion = n_stocks * data.iloc[-1]\n",
    "\n",
    "     weights = []\n",
    "     for i in range(len(n_stocks)):\n",
    "          weights.append(valor_posicion.iloc[i]/valor_posicion.sum())\n",
    "          \n",
    "     rt_assets = data.pct_change().dropna()\n",
    "\n",
    "     rt_port = rt_assets.mul(weights).sum(axis=1)\n",
    "\n",
    "     if long:\n",
    "          var = np.percentile(rt_port,100-conf)\n",
    "          cvar = rt_port[rt_port < var].mean()\n",
    "     else:\n",
    "          var = np.percentile(rt_port,conf)\n",
    "          cvar = rt_port[rt_port > var].mean()\n",
    "\n",
    "     var_m = var * valor_posicion.sum()\n",
    "     cvar_m = cvar * valor_posicion.sum()\n",
    "\n",
    "     resultados_df = pd.DataFrame({\n",
    "        \"Métrica\": [\"VaR\", \"CVaR\"],\n",
    "        \"Porcentual (%)\": [np.round(var * 100, 4), np.round(cvar * 100, 4)],\n",
    "        \"Monetario ($)\": [np.round(var_m, 2), np.round(cvar_m, 2)]\n",
    "    })\n",
    "\n",
    "     return resultados_df"
   ]
  },
  {
   "cell_type": "code",
   "execution_count": 14,
   "metadata": {},
   "outputs": [
    {
     "name": "stderr",
     "output_type": "stream",
     "text": [
      "[*********************100%***********************]  5 of 5 completed\n"
     ]
    },
    {
     "data": {
      "text/html": [
       "<div>\n",
       "<style scoped>\n",
       "    .dataframe tbody tr th:only-of-type {\n",
       "        vertical-align: middle;\n",
       "    }\n",
       "\n",
       "    .dataframe tbody tr th {\n",
       "        vertical-align: top;\n",
       "    }\n",
       "\n",
       "    .dataframe thead th {\n",
       "        text-align: right;\n",
       "    }\n",
       "</style>\n",
       "<table border=\"1\" class=\"dataframe\">\n",
       "  <thead>\n",
       "    <tr style=\"text-align: right;\">\n",
       "      <th></th>\n",
       "      <th>Métrica</th>\n",
       "      <th>Porcentual (%)</th>\n",
       "      <th>Monetario ($)</th>\n",
       "    </tr>\n",
       "  </thead>\n",
       "  <tbody>\n",
       "    <tr>\n",
       "      <th>0</th>\n",
       "      <td>VaR</td>\n",
       "      <td>-2.88</td>\n",
       "      <td>-33,073.87</td>\n",
       "    </tr>\n",
       "    <tr>\n",
       "      <th>1</th>\n",
       "      <td>CVaR</td>\n",
       "      <td>-4.63</td>\n",
       "      <td>-53,131.45</td>\n",
       "    </tr>\n",
       "  </tbody>\n",
       "</table>\n",
       "</div>"
      ],
      "text/plain": [
       "  Métrica  Porcentual (%)  Monetario ($)\n",
       "0     VaR           -2.88     -33,073.87\n",
       "1    CVaR           -4.63     -53,131.45"
      ]
     },
     "execution_count": 14,
     "metadata": {},
     "output_type": "execute_result"
    }
   ],
   "source": [
    "data = yf.download(['AAPL', 'AMD', 'JPM', 'LMT', 'TSLA'], start=\"2020-01-01\", end=\"2023-01-01\")['Close'] #No puedo descargar el ajustado\n",
    "\n",
    "positions = [2193, 3221, 1231, 761, 1211] #Ordenar alfabeticamente\n",
    "\n",
    "long = True #True o False\n",
    "\n",
    "conf = 95 #[0, 100]\n",
    "\n",
    "VaR_CVaR(data, positions, conf, long)"
   ]
  },
  {
   "cell_type": "code",
   "execution_count": 15,
   "metadata": {},
   "outputs": [
    {
     "data": {
      "text/plain": [
       "-33073.87"
      ]
     },
     "execution_count": 15,
     "metadata": {},
     "output_type": "execute_result"
    }
   ],
   "source": [
    "VaR_CVaR(data, positions, conf, long)[\"Monetario ($)\"][0]"
   ]
  },
  {
   "cell_type": "markdown",
   "metadata": {},
   "source": [
    "## Ejercicio 2\n",
    "\n",
    "Rebalanceo del portafolio"
   ]
  },
  {
   "cell_type": "code",
   "execution_count": 16,
   "metadata": {},
   "outputs": [],
   "source": [
    "rt = data.pct_change().dropna()\n",
    "position_value = positions * data.iloc[-1]\n",
    "portfolio_value = position_value.sum()\n",
    "w_0 = position_value / portfolio_value\n",
    "target_VaR = 30000 "
   ]
  },
  {
   "cell_type": "code",
   "execution_count": 17,
   "metadata": {},
   "outputs": [],
   "source": [
    "def opt_weights(weights):\n",
    "     \n",
    "     def objective(weights):\n",
    "          if long:\n",
    "               var = abs(np.percentile(rt.dot(weights), 100 - conf))\n",
    "          else:\n",
    "               var = abs(np.percentile(rt.dot(weights), conf))\n",
    "          return var\n",
    "     \n",
    "     constraints = (\n",
    "            {'type': 'eq', 'fun': lambda weights: np.sum(weights) - 1}, \n",
    "            {'type': 'eq', 'fun': lambda weights: objective(weights) - target_VaR} \n",
    "        )\n",
    "     \n",
    "     bounds = [(0, 1) for _ in range(len(positions))]\n",
    "\n",
    "     initial_guess = np.full(len(positions), 1/len(positions))\n",
    "\n",
    "     result = minimize(\n",
    "          fun=objective,  \n",
    "          constraints=constraints, \n",
    "          bounds=bounds,\n",
    "          x0=initial_guess,\n",
    "          method='SLSQP')\n",
    "     \n",
    "     return result.x"
   ]
  },
  {
   "cell_type": "code",
   "execution_count": 22,
   "metadata": {},
   "outputs": [
    {
     "data": {
      "text/plain": [
       "array([0.28886842, 0.20002861, 0.15185341, 0.19560723, 0.16364234])"
      ]
     },
     "execution_count": 22,
     "metadata": {},
     "output_type": "execute_result"
    }
   ],
   "source": [
    "w_opt = opt_weights(w_0)\n",
    "w_opt"
   ]
  },
  {
   "cell_type": "code",
   "execution_count": 30,
   "metadata": {},
   "outputs": [],
   "source": [
    "def rebalanceo(initial_weights, optimal_weights):\n",
    "     df = pd.DataFrame({\n",
    "          \"Initial Weights\": initial_weights*100,\n",
    "          \"Optimal Weights\": optimal_weights*100,\n",
    "          \"Stocks difference\": np.floor((optimal_weights - initial_weights) * portfolio_value / data.iloc[-1])\n",
    "     })\n",
    "\n",
    "     if long:\n",
    "          df['Buy/Sell'] = df['Stocks difference'].apply(lambda x: 'Buy' if x > 0 else ('Sell' if x < 0 else 'NA'))\n",
    "     else:\n",
    "          df['Buy/Sell'] = df['Stocks difference'].apply(lambda x: 'Sell' if x > 0 else ('Buy' if x < 0 else 'NA'))\n",
    "     \n",
    "     return df"
   ]
  },
  {
   "cell_type": "code",
   "execution_count": 31,
   "metadata": {},
   "outputs": [
    {
     "data": {
      "text/html": [
       "<div>\n",
       "<style scoped>\n",
       "    .dataframe tbody tr th:only-of-type {\n",
       "        vertical-align: middle;\n",
       "    }\n",
       "\n",
       "    .dataframe tbody tr th {\n",
       "        vertical-align: top;\n",
       "    }\n",
       "\n",
       "    .dataframe thead th {\n",
       "        text-align: right;\n",
       "    }\n",
       "</style>\n",
       "<table border=\"1\" class=\"dataframe\">\n",
       "  <thead>\n",
       "    <tr style=\"text-align: right;\">\n",
       "      <th></th>\n",
       "      <th>Initial Weights</th>\n",
       "      <th>Optimal Weights</th>\n",
       "      <th>Stocks difference</th>\n",
       "      <th>Buy/Sell</th>\n",
       "    </tr>\n",
       "    <tr>\n",
       "      <th>Ticker</th>\n",
       "      <th></th>\n",
       "      <th></th>\n",
       "      <th></th>\n",
       "      <th></th>\n",
       "    </tr>\n",
       "  </thead>\n",
       "  <tbody>\n",
       "    <tr>\n",
       "      <th>AAPL</th>\n",
       "      <td>24.57</td>\n",
       "      <td>28.89</td>\n",
       "      <td>385.00</td>\n",
       "      <td>Buy</td>\n",
       "    </tr>\n",
       "    <tr>\n",
       "      <th>AMD</th>\n",
       "      <td>18.20</td>\n",
       "      <td>20.00</td>\n",
       "      <td>319.00</td>\n",
       "      <td>Buy</td>\n",
       "    </tr>\n",
       "    <tr>\n",
       "      <th>JPM</th>\n",
       "      <td>13.59</td>\n",
       "      <td>15.19</td>\n",
       "      <td>144.00</td>\n",
       "      <td>Buy</td>\n",
       "    </tr>\n",
       "    <tr>\n",
       "      <th>LMT</th>\n",
       "      <td>30.64</td>\n",
       "      <td>19.56</td>\n",
       "      <td>-276.00</td>\n",
       "      <td>Sell</td>\n",
       "    </tr>\n",
       "    <tr>\n",
       "      <th>TSLA</th>\n",
       "      <td>13.01</td>\n",
       "      <td>16.36</td>\n",
       "      <td>312.00</td>\n",
       "      <td>Buy</td>\n",
       "    </tr>\n",
       "  </tbody>\n",
       "</table>\n",
       "</div>"
      ],
      "text/plain": [
       "        Initial Weights  Optimal Weights  Stocks difference Buy/Sell\n",
       "Ticker                                                              \n",
       "AAPL              24.57            28.89             385.00      Buy\n",
       "AMD               18.20            20.00             319.00      Buy\n",
       "JPM               13.59            15.19             144.00      Buy\n",
       "LMT               30.64            19.56            -276.00     Sell\n",
       "TSLA              13.01            16.36             312.00      Buy"
      ]
     },
     "execution_count": 31,
     "metadata": {},
     "output_type": "execute_result"
    }
   ],
   "source": [
    "rebalanceo(w_0, w_opt)"
   ]
  },
  {
   "cell_type": "code",
   "execution_count": 19,
   "metadata": {},
   "outputs": [],
   "source": [
    "def Rebalanceo(data, positions, conf, long, target_VaR):\n",
    "\n",
    "     valor_posicion = positions * data.iloc[-1]\n",
    "\n",
    "     weights = []\n",
    "     for i in range(len(positions)):\n",
    "          weights.append(valor_posicion.iloc[i]/valor_posicion.sum())\n",
    "          \n",
    "     rt_assets = data.pct_change().dropna()\n",
    "\n",
    "     rt_port = rt_assets.mul(weights).sum(axis=1)\n",
    "\n",
    "     if long:\n",
    "          var = np.percentile(rt_port,100-conf)\n",
    "          cvar = abs(rt_port[rt_port < var].mean())\n",
    "          var = abs(var)\n",
    "     else:\n",
    "          var = np.percentile(rt_port,conf)\n",
    "          cvar = abs(rt_port[rt_port > var].mean())\n",
    "          var = abs(var)\n",
    "\n",
    "     var_m = var * valor_posicion.sum()\n",
    "     cvar_m = cvar * valor_posicion.sum()\n",
    "\n",
    "     if var_m < target_VaR:\n",
    "          resultados_df = pd.DataFrame({\n",
    "             \"Métrica\": [\"VaR\", \"CVaR\"],\n",
    "             \"Porcentual (%)\": [np.round(var * 100, 4), np.round(cvar * 100, 4)],\n",
    "             \"Monetario ($)\": [np.round(var_m, 2), np.round(cvar_m, 2)]\n",
    "          })\n",
    "          \n",
    "          resultados_df[\"Porcentual (%)\"] = resultados_df[\"Porcentual (%)\"].map(\"{:,.4f}\".format) \n",
    "          resultados_df[\"Monetario ($)\"] = resultados_df[\"Monetario ($)\"].map(\"{:,.2f}\".format) \n",
    "\n",
    "          return resultados_df\n",
    "     else:\n",
    "        target = abs(target_VaR/valor_posicion.sum())\n",
    "\n",
    "        def objective(weights, rt_assets, conf):\n",
    "            rt_port_optim = rt_assets.dot(weights)\n",
    "            var = abs(np.percentile(rt_port_optim, 100 - conf))\n",
    "            return var\n",
    "\n",
    "        def constraint(weights, rt_assets, target, conf):\n",
    "            rt_port_optim = rt_assets.dot(weights)\n",
    "            var = abs(np.percentile(rt_port_optim, 100 - conf))\n",
    "            return var - target \n",
    "\n",
    "        constraints = (\n",
    "            {'type': 'eq', 'fun': lambda weights: np.sum(weights) - 1}, \n",
    "            {'type': 'eq', 'fun': lambda weights: constraint(weights, rt_assets, target, conf)} \n",
    "        )\n",
    "\n",
    "        bounds = [(0, 1) for _ in range(len(positions))]\n",
    "\n",
    "        initial_weights = np.ones(len(positions)) / len(positions)\n",
    "\n",
    "        result = minimize(objective, initial_weights, args=(rt_assets, conf), bounds=bounds, constraints=constraints)\n",
    "\n",
    "        if result.success:\n",
    "            optim_weights = result.x\n",
    "\n",
    "            w_diff = [a - b for a, b in zip(optim_weights, weights)]\n",
    "            money_diff = np.array(w_diff) * valor_posicion.sum()\n",
    "\n",
    "            position_diff = np.floor(money_diff / data.iloc[-1])\n",
    "            position_diff_df = pd.DataFrame({\n",
    "                \"ticker\": data.keys(), \n",
    "                \"Diferencia porcentual (%)\": np.array(w_diff) * 100, \n",
    "                \"Diferencia en acciones\": position_diff.values\n",
    "            })\n",
    "\n",
    "            if long:\n",
    "                position_diff_df['Compra/Venta'] = position_diff_df['Diferencia en acciones'].apply(lambda x: 'Comprar' if x > 0 else ('Vender' if x < 0 else 'NA'))\n",
    "            else:\n",
    "                position_diff_df['Compra/Venta'] = position_diff_df['Diferencia en acciones'].apply(lambda x: 'Vender' if x > 0 else ('Comprar' if x < 0 else 'NA'))\n",
    "\n",
    "            new_positions = [a + b for a, b in zip(position_diff, positions)]\n",
    "            new_positions_df = pd.DataFrame({\n",
    "                \"ticker\": data.keys(), \n",
    "                \"Ponderaciones (%)\": optim_weights * 100, \n",
    "                \"Cantidad de acciones\": new_positions\n",
    "            })\n",
    "\n",
    "            print(f\"Para rebalancear el portafolio y tener un VaR monetario de ${target_VaR:,.2f} se necesitan los siguientes cambios en el portafolio\")\n",
    "            display(position_diff_df)\n",
    "            print(f\"Finalmente el portafolio quedaría con las siguientes posiciones\")\n",
    "            display(new_positions_df)\n",
    "        else:\n",
    "            return \"La optimización no fue exitosa\""
   ]
  },
  {
   "cell_type": "code",
   "execution_count": 20,
   "metadata": {},
   "outputs": [
    {
     "name": "stderr",
     "output_type": "stream",
     "text": [
      "[*********************100%***********************]  5 of 5 completed"
     ]
    },
    {
     "name": "stdout",
     "output_type": "stream",
     "text": [
      "Para rebalancear el portafolio y tener un VaR monetario de $30,000.00 se necesitan los siguientes cambios en el portafolio\n"
     ]
    },
    {
     "name": "stderr",
     "output_type": "stream",
     "text": [
      "\n"
     ]
    },
    {
     "data": {
      "text/html": [
       "<div>\n",
       "<style scoped>\n",
       "    .dataframe tbody tr th:only-of-type {\n",
       "        vertical-align: middle;\n",
       "    }\n",
       "\n",
       "    .dataframe tbody tr th {\n",
       "        vertical-align: top;\n",
       "    }\n",
       "\n",
       "    .dataframe thead th {\n",
       "        text-align: right;\n",
       "    }\n",
       "</style>\n",
       "<table border=\"1\" class=\"dataframe\">\n",
       "  <thead>\n",
       "    <tr style=\"text-align: right;\">\n",
       "      <th></th>\n",
       "      <th>ticker</th>\n",
       "      <th>Diferencia porcentual (%)</th>\n",
       "      <th>Diferencia en acciones</th>\n",
       "      <th>Compra/Venta</th>\n",
       "    </tr>\n",
       "  </thead>\n",
       "  <tbody>\n",
       "    <tr>\n",
       "      <th>0</th>\n",
       "      <td>AAPL</td>\n",
       "      <td>-17.42</td>\n",
       "      <td>-1,555.00</td>\n",
       "      <td>Vender</td>\n",
       "    </tr>\n",
       "    <tr>\n",
       "      <th>1</th>\n",
       "      <td>AMD</td>\n",
       "      <td>2.64</td>\n",
       "      <td>467.00</td>\n",
       "      <td>Comprar</td>\n",
       "    </tr>\n",
       "    <tr>\n",
       "      <th>2</th>\n",
       "      <td>JPM</td>\n",
       "      <td>-12.60</td>\n",
       "      <td>-1,142.00</td>\n",
       "      <td>Vender</td>\n",
       "    </tr>\n",
       "    <tr>\n",
       "      <th>3</th>\n",
       "      <td>LMT</td>\n",
       "      <td>25.93</td>\n",
       "      <td>643.00</td>\n",
       "      <td>Comprar</td>\n",
       "    </tr>\n",
       "    <tr>\n",
       "      <th>4</th>\n",
       "      <td>TSLA</td>\n",
       "      <td>1.45</td>\n",
       "      <td>134.00</td>\n",
       "      <td>Comprar</td>\n",
       "    </tr>\n",
       "  </tbody>\n",
       "</table>\n",
       "</div>"
      ],
      "text/plain": [
       "  ticker  Diferencia porcentual (%)  Diferencia en acciones Compra/Venta\n",
       "0   AAPL                     -17.42               -1,555.00       Vender\n",
       "1    AMD                       2.64                  467.00      Comprar\n",
       "2    JPM                     -12.60               -1,142.00       Vender\n",
       "3    LMT                      25.93                  643.00      Comprar\n",
       "4   TSLA                       1.45                  134.00      Comprar"
      ]
     },
     "metadata": {},
     "output_type": "display_data"
    },
    {
     "name": "stdout",
     "output_type": "stream",
     "text": [
      "Finalmente el portafolio quedaría con las siguientes posiciones\n"
     ]
    },
    {
     "data": {
      "text/html": [
       "<div>\n",
       "<style scoped>\n",
       "    .dataframe tbody tr th:only-of-type {\n",
       "        vertical-align: middle;\n",
       "    }\n",
       "\n",
       "    .dataframe tbody tr th {\n",
       "        vertical-align: top;\n",
       "    }\n",
       "\n",
       "    .dataframe thead th {\n",
       "        text-align: right;\n",
       "    }\n",
       "</style>\n",
       "<table border=\"1\" class=\"dataframe\">\n",
       "  <thead>\n",
       "    <tr style=\"text-align: right;\">\n",
       "      <th></th>\n",
       "      <th>ticker</th>\n",
       "      <th>Ponderaciones (%)</th>\n",
       "      <th>Cantidad de acciones</th>\n",
       "    </tr>\n",
       "  </thead>\n",
       "  <tbody>\n",
       "    <tr>\n",
       "      <th>0</th>\n",
       "      <td>AAPL</td>\n",
       "      <td>7.15</td>\n",
       "      <td>638.00</td>\n",
       "    </tr>\n",
       "    <tr>\n",
       "      <th>1</th>\n",
       "      <td>AMD</td>\n",
       "      <td>20.84</td>\n",
       "      <td>3,688.00</td>\n",
       "    </tr>\n",
       "    <tr>\n",
       "      <th>2</th>\n",
       "      <td>JPM</td>\n",
       "      <td>0.99</td>\n",
       "      <td>89.00</td>\n",
       "    </tr>\n",
       "    <tr>\n",
       "      <th>3</th>\n",
       "      <td>LMT</td>\n",
       "      <td>56.56</td>\n",
       "      <td>1,404.00</td>\n",
       "    </tr>\n",
       "    <tr>\n",
       "      <th>4</th>\n",
       "      <td>TSLA</td>\n",
       "      <td>14.46</td>\n",
       "      <td>1,345.00</td>\n",
       "    </tr>\n",
       "  </tbody>\n",
       "</table>\n",
       "</div>"
      ],
      "text/plain": [
       "  ticker  Ponderaciones (%)  Cantidad de acciones\n",
       "0   AAPL               7.15                638.00\n",
       "1    AMD              20.84              3,688.00\n",
       "2    JPM               0.99                 89.00\n",
       "3    LMT              56.56              1,404.00\n",
       "4   TSLA              14.46              1,345.00"
      ]
     },
     "metadata": {},
     "output_type": "display_data"
    }
   ],
   "source": [
    "data = yf.download(['AAPL', 'AMD', 'JPM', 'LMT', 'TSLA'], start=\"2020-01-01\", end=\"2023-01-01\")['Close'] #No puedo descargar el ajustado\n",
    "\n",
    "positions = [2193, 3221, 1231, 761, 1211] #Ordenar alfabeticamente\n",
    "\n",
    "long = True #True o False\n",
    "\n",
    "conf = 95 #[0, 100]\n",
    "\n",
    "target_VaR = 30000 \n",
    "\n",
    "Rebalanceo(data, positions, conf, long, target_VaR)"
   ]
  },
  {
   "cell_type": "markdown",
   "metadata": {},
   "source": [
    "## Ejercicio 3\n",
    "\n",
    "Investigación conceptual: Rebalanceos"
   ]
  },
  {
   "cell_type": "markdown",
   "metadata": {},
   "source": [
    "### Inciso a)\n",
    "\n",
    "- **¿Cuál es el objetivo principal del rebalanceo?**\n",
    "\n",
    "- **¿Por qué es importante implementarlo de manera sistemática?**\n"
   ]
  },
  {
   "cell_type": "markdown",
   "metadata": {},
   "source": [
    "### Inciso b)\n",
    "\n",
    "- **¿Qué decisiones forman parte de una estrategia de rebalanceo?**\n",
    "\n",
    "- **¿Cuáles son los métodos principales para realizar rebalanceos de forma sistemática?**\n"
   ]
  },
  {
   "cell_type": "markdown",
   "metadata": {},
   "source": [
    "### Inciso c)\n",
    "\n",
    "- **Además del rendimiento, riesgo y objetivos, ¿qué otro factor puede tener un gran impacto en el desempeño de un portafolio al rebalancearlo?**\n"
   ]
  },
  {
   "cell_type": "markdown",
   "metadata": {},
   "source": [
    "### Inciso d)\n",
    "\n",
    "- **¿Qué recomendaciones propone Vanguard para reducir los costos fiscales en un portafolio?**\n",
    "\n",
    "- **¿Qué es el tax loss harvesting?**\n"
   ]
  },
  {
   "cell_type": "markdown",
   "metadata": {},
   "source": []
  }
 ],
 "metadata": {
  "kernelspec": {
   "display_name": "base",
   "language": "python",
   "name": "python3"
  },
  "language_info": {
   "codemirror_mode": {
    "name": "ipython",
    "version": 3
   },
   "file_extension": ".py",
   "mimetype": "text/x-python",
   "name": "python",
   "nbconvert_exporter": "python",
   "pygments_lexer": "ipython3",
   "version": "3.12.7"
  }
 },
 "nbformat": 4,
 "nbformat_minor": 2
}
