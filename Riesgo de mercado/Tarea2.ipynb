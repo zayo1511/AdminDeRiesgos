{
 "cells": [
  {
   "cell_type": "markdown",
   "metadata": {},
   "source": [
    "# Tarea 2\n",
    "\n",
    "Diego Lozoya Morales | 745345"
   ]
  },
  {
   "cell_type": "code",
   "execution_count": 1,
   "metadata": {},
   "outputs": [],
   "source": [
    "import pandas as pd\n",
    "import yfinance as yf\n",
    "import numpy as np\n",
    "from scipy.optimize import minimize\n",
    "from IPython.display import display\n",
    "\n",
    "pd.set_option('display.float_format', '{:,.2f}'.format)"
   ]
  },
  {
   "cell_type": "markdown",
   "metadata": {},
   "source": [
    "## Ejercicio 1 \n",
    "\n",
    "Función VaR y ES"
   ]
  },
  {
   "cell_type": "code",
   "execution_count": 2,
   "metadata": {},
   "outputs": [],
   "source": [
    "def VaR_CVaR(data, n_stocks, conf, long):\n",
    "     \n",
    "     valor_posicion = n_stocks * data.iloc[-1]\n",
    "     weights = [valor_posicion.iloc[i]/valor_posicion.sum() for i in range(len(n_stocks))]  \n",
    "     rt_assets = data.pct_change().dropna()\n",
    "     rt_port = rt_assets.mul(weights).sum(axis=1)\n",
    "\n",
    "     var = np.percentile(rt_port,100-conf) if long else np.percentile(rt_port,conf)\n",
    "     cvar = rt_port[rt_port < var].mean() if long else rt_port[rt_port > var].mean()\n",
    "          \n",
    "     var_m = var * valor_posicion.sum()\n",
    "     cvar_m = cvar * valor_posicion.sum()\n",
    "     \n",
    "     resultados_df = pd.DataFrame({\"Métrica\": [\"VaR\", \"CVaR\"], \"Porcentual (%)\": [var * 100, cvar * 100], \"Monetario ($)\": [var_m, cvar_m]})\n",
    "\n",
    "     return resultados_df"
   ]
  },
  {
   "cell_type": "code",
   "execution_count": 3,
   "metadata": {},
   "outputs": [
    {
     "name": "stderr",
     "output_type": "stream",
     "text": [
      "[*********************100%***********************]  5 of 5 completed\n"
     ]
    },
    {
     "data": {
      "text/html": [
       "<div>\n",
       "<style scoped>\n",
       "    .dataframe tbody tr th:only-of-type {\n",
       "        vertical-align: middle;\n",
       "    }\n",
       "\n",
       "    .dataframe tbody tr th {\n",
       "        vertical-align: top;\n",
       "    }\n",
       "\n",
       "    .dataframe thead th {\n",
       "        text-align: right;\n",
       "    }\n",
       "</style>\n",
       "<table border=\"1\" class=\"dataframe\">\n",
       "  <thead>\n",
       "    <tr style=\"text-align: right;\">\n",
       "      <th></th>\n",
       "      <th>Métrica</th>\n",
       "      <th>Porcentual (%)</th>\n",
       "      <th>Monetario ($)</th>\n",
       "    </tr>\n",
       "  </thead>\n",
       "  <tbody>\n",
       "    <tr>\n",
       "      <th>0</th>\n",
       "      <td>VaR</td>\n",
       "      <td>-2.88</td>\n",
       "      <td>-33,073.89</td>\n",
       "    </tr>\n",
       "    <tr>\n",
       "      <th>1</th>\n",
       "      <td>CVaR</td>\n",
       "      <td>-4.63</td>\n",
       "      <td>-53,131.46</td>\n",
       "    </tr>\n",
       "  </tbody>\n",
       "</table>\n",
       "</div>"
      ],
      "text/plain": [
       "  Métrica  Porcentual (%)  Monetario ($)\n",
       "0     VaR           -2.88     -33,073.89\n",
       "1    CVaR           -4.63     -53,131.46"
      ]
     },
     "execution_count": 3,
     "metadata": {},
     "output_type": "execute_result"
    }
   ],
   "source": [
    "data = yf.download(['AAPL', 'AMD', 'JPM', 'LMT', 'TSLA'], start=\"2020-01-01\", end=\"2023-01-01\")['Close'] #No puedo descargar el ajustado\n",
    "\n",
    "positions = [2193, 3221, 1231, 761, 1211] #Ordenar alfabeticamente\n",
    "\n",
    "long = True #True o False\n",
    "\n",
    "conf = 95 #[0, 100]\n",
    "\n",
    "VaR_CVaR(data, positions, conf, long)"
   ]
  },
  {
   "cell_type": "markdown",
   "metadata": {},
   "source": [
    "## Ejercicio 2\n",
    "\n",
    "Rebalanceo del portafolio"
   ]
  },
  {
   "cell_type": "code",
   "execution_count": 4,
   "metadata": {},
   "outputs": [],
   "source": [
    "rt = data.pct_change().dropna()\n",
    "position_value = positions * data.iloc[-1]\n",
    "portfolio_value = position_value.sum()\n",
    "w_0 = position_value / portfolio_value\n",
    "target_VaR = 30000 "
   ]
  },
  {
   "cell_type": "code",
   "execution_count": 5,
   "metadata": {},
   "outputs": [],
   "source": [
    "def opt_weights(weights):\n",
    "     \n",
    "     def objective(weights):\n",
    "\n",
    "          return abs(np.percentile(rt.dot(weights), 100 - conf)) if long else abs(np.percentile(rt.dot(weights), conf))\n",
    "     \n",
    "     constraints = ({'type': 'eq', 'fun': lambda weights: np.sum(weights) - 1}, {'type': 'eq', 'fun': lambda weights: objective(weights) - target_VaR})\n",
    "     bounds = [(0, 1) for _ in range(len(positions))]\n",
    "     initial_guess = np.full(len(positions), 1/len(positions))\n",
    "\n",
    "     result = minimize(fun=objective, constraints=constraints, bounds=bounds, x0=initial_guess, method='SLSQP')\n",
    "     \n",
    "     return result.x"
   ]
  },
  {
   "cell_type": "code",
   "execution_count": 6,
   "metadata": {},
   "outputs": [],
   "source": [
    "def rebalanceo(initial_weights, optimal_weights):\n",
    "     \n",
    "     df = pd.DataFrame({\"Initial Weights\": initial_weights*100, \"Optimal Weights\": optimal_weights*100, \"Stocks difference\": np.floor((optimal_weights - initial_weights) * portfolio_value / data.iloc[-1])})\n",
    "\n",
    "     df['Buy/Sell'] = df['Stocks difference'].apply(lambda x: 'Buy' if x > 0 else ('Sell' if x < 0 else 'NA')) if long else df['Stocks difference'].apply(lambda x: 'Sell' if x > 0 else ('Buy' if x < 0 else 'NA'))\n",
    "     \n",
    "     return df"
   ]
  },
  {
   "cell_type": "code",
   "execution_count": 7,
   "metadata": {},
   "outputs": [
    {
     "data": {
      "text/html": [
       "<div>\n",
       "<style scoped>\n",
       "    .dataframe tbody tr th:only-of-type {\n",
       "        vertical-align: middle;\n",
       "    }\n",
       "\n",
       "    .dataframe tbody tr th {\n",
       "        vertical-align: top;\n",
       "    }\n",
       "\n",
       "    .dataframe thead th {\n",
       "        text-align: right;\n",
       "    }\n",
       "</style>\n",
       "<table border=\"1\" class=\"dataframe\">\n",
       "  <thead>\n",
       "    <tr style=\"text-align: right;\">\n",
       "      <th></th>\n",
       "      <th>Initial Weights</th>\n",
       "      <th>Optimal Weights</th>\n",
       "      <th>Stocks difference</th>\n",
       "      <th>Buy/Sell</th>\n",
       "    </tr>\n",
       "    <tr>\n",
       "      <th>Ticker</th>\n",
       "      <th></th>\n",
       "      <th></th>\n",
       "      <th></th>\n",
       "      <th></th>\n",
       "    </tr>\n",
       "  </thead>\n",
       "  <tbody>\n",
       "    <tr>\n",
       "      <th>AAPL</th>\n",
       "      <td>24.57</td>\n",
       "      <td>0.00</td>\n",
       "      <td>-2,193.00</td>\n",
       "      <td>Sell</td>\n",
       "    </tr>\n",
       "    <tr>\n",
       "      <th>AMD</th>\n",
       "      <td>18.20</td>\n",
       "      <td>35.40</td>\n",
       "      <td>3,045.00</td>\n",
       "      <td>Buy</td>\n",
       "    </tr>\n",
       "    <tr>\n",
       "      <th>JPM</th>\n",
       "      <td>13.59</td>\n",
       "      <td>39.97</td>\n",
       "      <td>2,390.00</td>\n",
       "      <td>Buy</td>\n",
       "    </tr>\n",
       "    <tr>\n",
       "      <th>LMT</th>\n",
       "      <td>30.64</td>\n",
       "      <td>14.53</td>\n",
       "      <td>-401.00</td>\n",
       "      <td>Sell</td>\n",
       "    </tr>\n",
       "    <tr>\n",
       "      <th>TSLA</th>\n",
       "      <td>13.01</td>\n",
       "      <td>10.11</td>\n",
       "      <td>-271.00</td>\n",
       "      <td>Sell</td>\n",
       "    </tr>\n",
       "  </tbody>\n",
       "</table>\n",
       "</div>"
      ],
      "text/plain": [
       "        Initial Weights  Optimal Weights  Stocks difference Buy/Sell\n",
       "Ticker                                                              \n",
       "AAPL              24.57             0.00          -2,193.00     Sell\n",
       "AMD               18.20            35.40           3,045.00      Buy\n",
       "JPM               13.59            39.97           2,390.00      Buy\n",
       "LMT               30.64            14.53            -401.00     Sell\n",
       "TSLA              13.01            10.11            -271.00     Sell"
      ]
     },
     "execution_count": 7,
     "metadata": {},
     "output_type": "execute_result"
    }
   ],
   "source": [
    "rebalanceo(w_0, opt_weights(w_0))"
   ]
  },
  {
   "cell_type": "markdown",
   "metadata": {},
   "source": [
    "## Ejercicio 3\n",
    "\n",
    "Investigación conceptual: Rebalanceos"
   ]
  },
  {
   "cell_type": "markdown",
   "metadata": {},
   "source": [
    "### Inciso a)\n",
    "\n",
    "- **¿Cuál es el objetivo principal del rebalanceo?**\n",
    "\n",
    "Ayudar a los inversionistas a aliniarse con sus objetivos iniciales y preferencias de riesgo. Con el tiempo, las poneraciónes iniciales del portafolio van cambiando, aumentando el porcentaje de activos con mayor volatilidad por lo que, el portafolio, se debe de ajustar ya sea al propósito inicial del inversionista, o a nuevas necesidades, en caso de ser necesario.\n",
    "\n",
    "- **¿Por qué es importante implementarlo de manera sistemática?**\n",
    "\n",
    "Se puede dividir en dos grandes razones. La primera es para lograr mantener un nivel de exposición al riesgo deseado, evitando la concentración en activos volatiles. La segunda es para controlar en cierto modo las emociones de los inversionistas, y evitar que actúen de manera impulsiva, fomentando el cambio de ponderaciones en el activo únicamente bajo ciertos indicadores, evitando el guiarse por el reciente desempeño dle mercado y comprar caro para posteriormente vender barato.\n"
   ]
  },
  {
   "cell_type": "markdown",
   "metadata": {},
   "source": [
    "### Inciso b)\n",
    "\n",
    "- **¿Qué decisiones forman parte de una estrategia de rebalanceo?**\n",
    "\n",
    "Una de las deciciones basicas es la periodicidad copn la que se debería de balancear el portafolio, sin embargo, esto depende bastante de cada inversionista, ya que probalemente hay personas que no cuentan con el tiempo necesario para realizarlo en el momento que les gustaría. De igual manera esto se ve influenciado por el propósito de inversión, de modo que no todas las personas logran invertir el mimso capital, por lo que no cuentan con la misma aversión al riesgo y su objetivo monetario es distinto.\n",
    "\n",
    "- **¿Cuáles son los métodos principales para realizar rebalanceos de forma sistemática?**\n",
    "\n",
    "     - **Rebalanceo basado en calendario:** Definir un periodo de tiempo, en el cual se cambiarian las ponderaciones de los activos de manera regular, por ejemplo cada 3, 6, 12 meses\n",
    "\n",
    "     - **Rebalanceo basado en límite:** Definir un indicador el cual al ser rebasado deberá rebalancearse el portafolio, sin importar el momento en que esto suceda. \n",
    "\n",
    "     - **Rebalanceo basado en calendario y en límite:** Una combianción de ambas metodologías. Se establece un periodo de observación. En ese periodo se evalua el indicador y si es superado se rebalancea. Tiene que pasar ambvas cosas a la vez, que sea la fecha para checar y que se haya rebasado al indicador para poder rebalancear al portafolio.\n"
   ]
  },
  {
   "cell_type": "markdown",
   "metadata": {},
   "source": [
    "### Inciso c)\n",
    "\n",
    "- **Además del rendimiento, riesgo y objetivos, ¿qué otro factor puede tener un gran impacto en el desempeño de un portafolio al rebalancearlo?**\n",
    "\n",
    "Cuestiones sobre impuestos y comisiones. Estas aunque son por lo general un porcentaje fijo, claramente aumentan conforme el número de operaciones, por lo que se recomienda al inversor promnedio que la periodicidad optima promedio del rebalanceo debe rondar un año. Puede ser que haya gente que lo necesite hacer más y menos frecuentemente, pero debe oscilar al rededor de un año. \n"
   ]
  },
  {
   "cell_type": "markdown",
   "metadata": {},
   "source": [
    "### Inciso d)\n",
    "\n",
    "- **¿Qué recomendaciones propone Vanguard para reducir los costos fiscales en un portafolio?**\n",
    "\n",
    "Recomienda hacer rebalanceos parciales en lugar de completos, teniendo un enfoque en acciones con un elevado costo en términos fiscales o en las clases de activos que están muy por encima o por debajo de su peso óptimo.\n",
    "\n",
    "- **¿Qué es el tax loss harvesting?**\n",
    "\n",
    "Es una estrategia de inversión utilizada para minimizar la carga fiscal, en donde generalmente se vende a los activos de menor rendimiento para cubrir la proporción atribuible a las ganancias de capital, de modo que se tengan que pagar menos impuestos.\n"
   ]
  },
  {
   "cell_type": "markdown",
   "metadata": {},
   "source": []
  }
 ],
 "metadata": {
  "kernelspec": {
   "display_name": "base",
   "language": "python",
   "name": "python3"
  },
  "language_info": {
   "codemirror_mode": {
    "name": "ipython",
    "version": 3
   },
   "file_extension": ".py",
   "mimetype": "text/x-python",
   "name": "python",
   "nbconvert_exporter": "python",
   "pygments_lexer": "ipython3",
   "version": "3.12.7"
  }
 },
 "nbformat": 4,
 "nbformat_minor": 2
}
