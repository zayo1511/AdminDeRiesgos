{
 "cells": [
  {
   "cell_type": "code",
   "execution_count": 1,
   "metadata": {},
   "outputs": [],
   "source": [
    "import pandas as pd\n",
    "import yfinance as yf\n",
    "import numpy as np\n",
    "from scipy.stats import norm\n",
    "from IPython.display import display\n",
    "\n",
    "pd.set_option('display.float_format', '{:,.2f}'.format)"
   ]
  },
  {
   "cell_type": "code",
   "execution_count": 2,
   "metadata": {},
   "outputs": [
    {
     "data": {
      "text/html": [
       "<div>\n",
       "<style scoped>\n",
       "    .dataframe tbody tr th:only-of-type {\n",
       "        vertical-align: middle;\n",
       "    }\n",
       "\n",
       "    .dataframe tbody tr th {\n",
       "        vertical-align: top;\n",
       "    }\n",
       "\n",
       "    .dataframe thead th {\n",
       "        text-align: right;\n",
       "    }\n",
       "</style>\n",
       "<table border=\"1\" class=\"dataframe\">\n",
       "  <thead>\n",
       "    <tr style=\"text-align: right;\">\n",
       "      <th></th>\n",
       "      <th>QQQ</th>\n",
       "      <th>VOO</th>\n",
       "      <th>VXX</th>\n",
       "      <th>ITOT</th>\n",
       "    </tr>\n",
       "    <tr>\n",
       "      <th>Date</th>\n",
       "      <th></th>\n",
       "      <th></th>\n",
       "      <th></th>\n",
       "      <th></th>\n",
       "    </tr>\n",
       "  </thead>\n",
       "  <tbody>\n",
       "    <tr>\n",
       "      <th>2023-01-03</th>\n",
       "      <td>263.33</td>\n",
       "      <td>345.87</td>\n",
       "      <td>55.96</td>\n",
       "      <td>83.44</td>\n",
       "    </tr>\n",
       "    <tr>\n",
       "      <th>2023-01-04</th>\n",
       "      <td>264.58</td>\n",
       "      <td>348.36</td>\n",
       "      <td>54.44</td>\n",
       "      <td>84.14</td>\n",
       "    </tr>\n",
       "    <tr>\n",
       "      <th>2023-01-05</th>\n",
       "      <td>260.44</td>\n",
       "      <td>344.56</td>\n",
       "      <td>54.88</td>\n",
       "      <td>83.14</td>\n",
       "    </tr>\n",
       "    <tr>\n",
       "      <th>2023-01-06</th>\n",
       "      <td>267.63</td>\n",
       "      <td>352.39</td>\n",
       "      <td>53.60</td>\n",
       "      <td>85.04</td>\n",
       "    </tr>\n",
       "    <tr>\n",
       "      <th>2023-01-09</th>\n",
       "      <td>269.36</td>\n",
       "      <td>352.14</td>\n",
       "      <td>53.88</td>\n",
       "      <td>85.05</td>\n",
       "    </tr>\n",
       "    <tr>\n",
       "      <th>...</th>\n",
       "      <td>...</td>\n",
       "      <td>...</td>\n",
       "      <td>...</td>\n",
       "      <td>...</td>\n",
       "    </tr>\n",
       "    <tr>\n",
       "      <th>2023-12-04</th>\n",
       "      <td>386.32</td>\n",
       "      <td>419.74</td>\n",
       "      <td>17.28</td>\n",
       "      <td>100.78</td>\n",
       "    </tr>\n",
       "    <tr>\n",
       "      <th>2023-12-05</th>\n",
       "      <td>387.29</td>\n",
       "      <td>419.61</td>\n",
       "      <td>17.16</td>\n",
       "      <td>100.58</td>\n",
       "    </tr>\n",
       "    <tr>\n",
       "      <th>2023-12-06</th>\n",
       "      <td>385.05</td>\n",
       "      <td>417.86</td>\n",
       "      <td>17.24</td>\n",
       "      <td>100.24</td>\n",
       "    </tr>\n",
       "    <tr>\n",
       "      <th>2023-12-07</th>\n",
       "      <td>390.43</td>\n",
       "      <td>421.13</td>\n",
       "      <td>17.25</td>\n",
       "      <td>100.99</td>\n",
       "    </tr>\n",
       "    <tr>\n",
       "      <th>2023-12-08</th>\n",
       "      <td>392.17</td>\n",
       "      <td>422.92</td>\n",
       "      <td>16.75</td>\n",
       "      <td>101.44</td>\n",
       "    </tr>\n",
       "  </tbody>\n",
       "</table>\n",
       "<p>236 rows × 4 columns</p>\n",
       "</div>"
      ],
      "text/plain": [
       "              QQQ    VOO   VXX   ITOT\n",
       "Date                                 \n",
       "2023-01-03 263.33 345.87 55.96  83.44\n",
       "2023-01-04 264.58 348.36 54.44  84.14\n",
       "2023-01-05 260.44 344.56 54.88  83.14\n",
       "2023-01-06 267.63 352.39 53.60  85.04\n",
       "2023-01-09 269.36 352.14 53.88  85.05\n",
       "...           ...    ...   ...    ...\n",
       "2023-12-04 386.32 419.74 17.28 100.78\n",
       "2023-12-05 387.29 419.61 17.16 100.58\n",
       "2023-12-06 385.05 417.86 17.24 100.24\n",
       "2023-12-07 390.43 421.13 17.25 100.99\n",
       "2023-12-08 392.17 422.92 16.75 101.44\n",
       "\n",
       "[236 rows x 4 columns]"
      ]
     },
     "execution_count": 2,
     "metadata": {},
     "output_type": "execute_result"
    }
   ],
   "source": [
    "data = pd.read_excel('Repaso.xlsx')\n",
    "data = data.set_index(data.Date)\n",
    "data = data.drop(columns=['Date'])\n",
    "data"
   ]
  },
  {
   "cell_type": "markdown",
   "metadata": {},
   "source": [
    "# 1)"
   ]
  },
  {
   "cell_type": "code",
   "execution_count": 3,
   "metadata": {},
   "outputs": [],
   "source": [
    "def VaR_CVaR_Stocks(data, n_stocks, conf, long):\n",
    "     \n",
    "     valor_posicion = n_stocks * data.iloc[-1]\n",
    "     weights = [valor_posicion.iloc[i]/valor_posicion.sum() for i in range(len(n_stocks))]  \n",
    "     rt_assets = data.pct_change().dropna()\n",
    "     rt_port = rt_assets.mul(weights).sum(axis=1)\n",
    "\n",
    "     var = np.percentile(rt_port,100-conf) if long else np.percentile(rt_port,conf)\n",
    "     cvar = rt_port[rt_port < var].mean() if long else rt_port[rt_port > var].mean()\n",
    "          \n",
    "     var_m = var * valor_posicion.sum()\n",
    "     cvar_m = cvar * valor_posicion.sum()\n",
    "     \n",
    "     resultados_df = pd.DataFrame({\"Métrica\": [\"VaR\", \"CVaR\"], \"Porcentual (%)\": [var * 100, cvar * 100], \"Monetario ($)\": [var_m, cvar_m]})\n",
    "\n",
    "     return resultados_df"
   ]
  },
  {
   "cell_type": "code",
   "execution_count": 4,
   "metadata": {},
   "outputs": [
    {
     "data": {
      "text/plain": [
       "-2.5893295200536026"
      ]
     },
     "execution_count": 4,
     "metadata": {},
     "output_type": "execute_result"
    }
   ],
   "source": [
    "positions = [3967, 1576, 1023, 2032] # En mismo orden que Stocks\n",
    "\n",
    "long = False #True o False\n",
    "\n",
    "conf = 99 #[0, 100]\n",
    "\n",
    "VaR_CVaR_Stocks(data, positions, conf, long)['Porcentual (%)'][1] * (-1)"
   ]
  },
  {
   "cell_type": "code",
   "execution_count": 5,
   "metadata": {},
   "outputs": [
    {
     "data": {
      "text/plain": [
       "-63322.615799510204"
      ]
     },
     "execution_count": 5,
     "metadata": {},
     "output_type": "execute_result"
    }
   ],
   "source": [
    "VaR_CVaR_Stocks(data, positions, conf, long)['Monetario ($)'][1] * (-1)"
   ]
  },
  {
   "cell_type": "code",
   "execution_count": 6,
   "metadata": {},
   "outputs": [
    {
     "data": {
      "text/html": [
       "<div>\n",
       "<style scoped>\n",
       "    .dataframe tbody tr th:only-of-type {\n",
       "        vertical-align: middle;\n",
       "    }\n",
       "\n",
       "    .dataframe tbody tr th {\n",
       "        vertical-align: top;\n",
       "    }\n",
       "\n",
       "    .dataframe thead th {\n",
       "        text-align: right;\n",
       "    }\n",
       "</style>\n",
       "<table border=\"1\" class=\"dataframe\">\n",
       "  <thead>\n",
       "    <tr style=\"text-align: right;\">\n",
       "      <th></th>\n",
       "      <th>QQQ</th>\n",
       "      <th>VOO</th>\n",
       "      <th>VXX</th>\n",
       "      <th>ITOT</th>\n",
       "    </tr>\n",
       "  </thead>\n",
       "  <tbody>\n",
       "    <tr>\n",
       "      <th>QQQ</th>\n",
       "      <td>1.00</td>\n",
       "      <td>0.92</td>\n",
       "      <td>-0.62</td>\n",
       "      <td>0.90</td>\n",
       "    </tr>\n",
       "    <tr>\n",
       "      <th>VOO</th>\n",
       "      <td>0.92</td>\n",
       "      <td>1.00</td>\n",
       "      <td>-0.73</td>\n",
       "      <td>0.99</td>\n",
       "    </tr>\n",
       "    <tr>\n",
       "      <th>VXX</th>\n",
       "      <td>-0.62</td>\n",
       "      <td>-0.73</td>\n",
       "      <td>1.00</td>\n",
       "      <td>-0.74</td>\n",
       "    </tr>\n",
       "    <tr>\n",
       "      <th>ITOT</th>\n",
       "      <td>0.90</td>\n",
       "      <td>0.99</td>\n",
       "      <td>-0.74</td>\n",
       "      <td>1.00</td>\n",
       "    </tr>\n",
       "  </tbody>\n",
       "</table>\n",
       "</div>"
      ],
      "text/plain": [
       "       QQQ   VOO   VXX  ITOT\n",
       "QQQ   1.00  0.92 -0.62  0.90\n",
       "VOO   0.92  1.00 -0.73  0.99\n",
       "VXX  -0.62 -0.73  1.00 -0.74\n",
       "ITOT  0.90  0.99 -0.74  1.00"
      ]
     },
     "execution_count": 6,
     "metadata": {},
     "output_type": "execute_result"
    }
   ],
   "source": [
    "rt = data.pct_change().dropna()\n",
    "rt.corr()"
   ]
  },
  {
   "cell_type": "markdown",
   "metadata": {},
   "source": [
    "# 2)"
   ]
  },
  {
   "cell_type": "code",
   "execution_count": null,
   "metadata": {},
   "outputs": [],
   "source": []
  },
  {
   "cell_type": "markdown",
   "metadata": {},
   "source": [
    "# 3)"
   ]
  },
  {
   "cell_type": "code",
   "execution_count": 7,
   "metadata": {},
   "outputs": [
    {
     "data": {
      "text/html": [
       "<div>\n",
       "<style scoped>\n",
       "    .dataframe tbody tr th:only-of-type {\n",
       "        vertical-align: middle;\n",
       "    }\n",
       "\n",
       "    .dataframe tbody tr th {\n",
       "        vertical-align: top;\n",
       "    }\n",
       "\n",
       "    .dataframe thead th {\n",
       "        text-align: right;\n",
       "    }\n",
       "</style>\n",
       "<table border=\"1\" class=\"dataframe\">\n",
       "  <thead>\n",
       "    <tr style=\"text-align: right;\">\n",
       "      <th></th>\n",
       "      <th>CHFMXN=X</th>\n",
       "      <th>JPYMXN=X</th>\n",
       "      <th>USDMXN=X</th>\n",
       "    </tr>\n",
       "    <tr>\n",
       "      <th>Date</th>\n",
       "      <th></th>\n",
       "      <th></th>\n",
       "      <th></th>\n",
       "    </tr>\n",
       "  </thead>\n",
       "  <tbody>\n",
       "    <tr>\n",
       "      <th>2023-01-02</th>\n",
       "      <td>21.02</td>\n",
       "      <td>0.15</td>\n",
       "      <td>19.45</td>\n",
       "    </tr>\n",
       "    <tr>\n",
       "      <th>2023-01-03</th>\n",
       "      <td>21.05</td>\n",
       "      <td>0.15</td>\n",
       "      <td>19.46</td>\n",
       "    </tr>\n",
       "    <tr>\n",
       "      <th>2023-01-04</th>\n",
       "      <td>20.73</td>\n",
       "      <td>0.15</td>\n",
       "      <td>19.41</td>\n",
       "    </tr>\n",
       "    <tr>\n",
       "      <th>2023-01-05</th>\n",
       "      <td>20.85</td>\n",
       "      <td>0.15</td>\n",
       "      <td>19.39</td>\n",
       "    </tr>\n",
       "    <tr>\n",
       "      <th>2023-01-06</th>\n",
       "      <td>20.64</td>\n",
       "      <td>0.14</td>\n",
       "      <td>19.32</td>\n",
       "    </tr>\n",
       "    <tr>\n",
       "      <th>...</th>\n",
       "      <td>...</td>\n",
       "      <td>...</td>\n",
       "      <td>...</td>\n",
       "    </tr>\n",
       "    <tr>\n",
       "      <th>2023-12-05</th>\n",
       "      <td>20.02</td>\n",
       "      <td>0.12</td>\n",
       "      <td>17.45</td>\n",
       "    </tr>\n",
       "    <tr>\n",
       "      <th>2023-12-06</th>\n",
       "      <td>19.84</td>\n",
       "      <td>0.12</td>\n",
       "      <td>17.36</td>\n",
       "    </tr>\n",
       "    <tr>\n",
       "      <th>2023-12-07</th>\n",
       "      <td>19.76</td>\n",
       "      <td>0.12</td>\n",
       "      <td>17.29</td>\n",
       "    </tr>\n",
       "    <tr>\n",
       "      <th>2023-12-08</th>\n",
       "      <td>19.96</td>\n",
       "      <td>0.12</td>\n",
       "      <td>17.47</td>\n",
       "    </tr>\n",
       "    <tr>\n",
       "      <th>2023-12-11</th>\n",
       "      <td>19.79</td>\n",
       "      <td>0.12</td>\n",
       "      <td>17.38</td>\n",
       "    </tr>\n",
       "  </tbody>\n",
       "</table>\n",
       "<p>246 rows × 3 columns</p>\n",
       "</div>"
      ],
      "text/plain": [
       "            CHFMXN=X  JPYMXN=X  USDMXN=X\n",
       "Date                                    \n",
       "2023-01-02     21.02      0.15     19.45\n",
       "2023-01-03     21.05      0.15     19.46\n",
       "2023-01-04     20.73      0.15     19.41\n",
       "2023-01-05     20.85      0.15     19.39\n",
       "2023-01-06     20.64      0.14     19.32\n",
       "...              ...       ...       ...\n",
       "2023-12-05     20.02      0.12     17.45\n",
       "2023-12-06     19.84      0.12     17.36\n",
       "2023-12-07     19.76      0.12     17.29\n",
       "2023-12-08     19.96      0.12     17.47\n",
       "2023-12-11     19.79      0.12     17.38\n",
       "\n",
       "[246 rows x 3 columns]"
      ]
     },
     "execution_count": 7,
     "metadata": {},
     "output_type": "execute_result"
    }
   ],
   "source": [
    "data = pd.read_excel('Repaso.xlsx', sheet_name=2)\n",
    "data = data.set_index(data.Date)\n",
    "data = data.drop(columns=['Date'])\n",
    "data"
   ]
  },
  {
   "cell_type": "code",
   "execution_count": 8,
   "metadata": {},
   "outputs": [],
   "source": [
    "def VaR_CVaR_Fx(data, positions, conf, long):\n",
    "     port = data * positions \n",
    "     total = port.sum(axis=1)\n",
    "     rt = total.pct_change().dropna()\n",
    "\n",
    "     var = np.percentile(rt,100-conf) if long else np.percentile(rt,conf)\n",
    "     cvar = rt[rt < var].mean() if long else rt[rt > var].mean()\n",
    "\n",
    "     var_m = var * total.iloc[-1]\n",
    "     cvar_m = cvar * total.iloc[-1]\n",
    "\n",
    "     resultados_df = pd.DataFrame({\"Métrica\": [\"VaR\", \"CVaR\"], \"Porcentual (%)\": [var, cvar], \"Monetario ($)\": [var_m, cvar_m]})\n",
    "\n",
    "     return resultados_df"
   ]
  },
  {
   "cell_type": "code",
   "execution_count": 9,
   "metadata": {},
   "outputs": [
    {
     "data": {
      "text/plain": [
       "-1.1926150248956378"
      ]
     },
     "execution_count": 9,
     "metadata": {},
     "output_type": "execute_result"
    }
   ],
   "source": [
    "positions = [2300000, 23500000, 2500000] # En mismo orden que Fx\n",
    "\n",
    "long = True #True o False\n",
    "\n",
    "NC = 95 #[0, 100]\n",
    "\n",
    "VaR_CVaR_Fx(data, positions, NC, long)['Monetario ($)'][1] / 1000000"
   ]
  },
  {
   "cell_type": "markdown",
   "metadata": {},
   "source": [
    "# 4)"
   ]
  },
  {
   "cell_type": "code",
   "execution_count": 10,
   "metadata": {},
   "outputs": [],
   "source": [
    "# Escribir listas en formato ['S', 'K', 'r', 'sigma', 'T', 'N']\n",
    "\n",
    "info_call = [[462, 465, 0.0528, 0.17, 1/12, 10],\n",
    "             [462, 470, 0.0528, 0.16, 1/12, 12],\n",
    "             [462, 475, 0.0528, 0.15, 1/12, 17],\n",
    "             [462, 465, 0.0523, 0.21, 3/12, 18],\n",
    "             [462, 470, 0.0523, 0.20, 3/12, 20],\n",
    "             [462, 475, 0.0523, 0.19, 3/12, 12],\n",
    "             [462, 465, 0.0505, 0.22, 6/12, 16],\n",
    "             [462, 470, 0.0505, 0.21, 6/12, 14],\n",
    "             [462, 475, 0.0505, 0.20, 6/12, 11]]\n",
    "\n",
    "info_put = [[462, 450, 0.0528, 0.24, 1/12, 26],\n",
    "            [462, 445, 0.0528, 0.22, 1/12, 18],\n",
    "            [462, 440, 0.0528, 0.20, 1/12, 14],\n",
    "            [462, 450, 0.0523, 0.25, 3/12, 21],\n",
    "            [462, 445, 0.0523, 0.24, 3/12, 26],\n",
    "            [462, 440, 0.0523, 0.23, 3/12, 32],\n",
    "            [462, 450, 0.0505, 0.26, 6/12, 17],\n",
    "            [462, 445, 0.0505, 0.25, 6/12, 35],\n",
    "            [462, 440, 0.0505, 0.24, 6/12, 43]]"
   ]
  },
  {
   "cell_type": "code",
   "execution_count": 11,
   "metadata": {},
   "outputs": [],
   "source": [
    "call_blsdelta = lambda S, k, r, sigma, T: norm.cdf((np.log(S/k) + (r + 0.5 * sigma**2) * T) / (sigma * np.sqrt(T)))\n",
    "\n",
    "put_blsdelta = lambda S, k, r, sigma, T: np.abs(norm.cdf((np.log(S/k) + (r + 0.5 * sigma ** 2) * T) / (sigma * np.sqrt(T))) - 1)\n",
    "\n",
    "def delta_hedge(info_call, info_put):\n",
    "\n",
    "    df_call = pd.DataFrame(info_call, columns=['S', 'K', 'r', 'sigma', 'T', 'N'])\n",
    "    df_put = pd.DataFrame(info_put, columns=['S', 'K', 'r', 'sigma', 'T', 'N'])\n",
    "    \n",
    "    deltas_call_list = [call_blsdelta(*df_call.values[i][0:-1]) for i in range(len(df_call))]\n",
    "    deltas_put_list = [put_blsdelta(*df_put.values[i][0:-1]) for i in range(len(df_call))]\n",
    "\n",
    "    return np.dot(df_call.N, deltas_call_list) - np.dot(df_put.N, deltas_put_list)"
   ]
  },
  {
   "cell_type": "code",
   "execution_count": 12,
   "metadata": {},
   "outputs": [
    {
     "name": "stdout",
     "output_type": "stream",
     "text": [
      "Vender en corto -6.971954 miles de títulos\n"
     ]
    }
   ],
   "source": [
    "net_1 = delta_hedge(info_call, info_put)\n",
    "print(f'Vender en corto {net_1:,.6f} miles de títulos')"
   ]
  },
  {
   "cell_type": "code",
   "execution_count": null,
   "metadata": {},
   "outputs": [],
   "source": []
  }
 ],
 "metadata": {
  "kernelspec": {
   "display_name": "base",
   "language": "python",
   "name": "python3"
  },
  "language_info": {
   "codemirror_mode": {
    "name": "ipython",
    "version": 3
   },
   "file_extension": ".py",
   "mimetype": "text/x-python",
   "name": "python",
   "nbconvert_exporter": "python",
   "pygments_lexer": "ipython3",
   "version": "3.12.7"
  }
 },
 "nbformat": 4,
 "nbformat_minor": 2
}
