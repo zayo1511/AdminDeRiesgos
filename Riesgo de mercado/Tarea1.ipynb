{
 "cells": [
  {
   "cell_type": "markdown",
   "metadata": {},
   "source": [
    "# Tarea 1\n",
    "\n",
    "Diego Lozoya Morales | 745345"
   ]
  },
  {
   "cell_type": "code",
   "execution_count": 1,
   "metadata": {},
   "outputs": [],
   "source": [
    "import pandas as pd\n",
    "import yfinance as yf\n",
    "import numpy as np"
   ]
  },
  {
   "cell_type": "markdown",
   "metadata": {},
   "source": [
    "## a)"
   ]
  },
  {
   "cell_type": "code",
   "execution_count": 2,
   "metadata": {},
   "outputs": [],
   "source": [
    "def VaR_CVaR(data, positions, conf, long):\n",
    "     port = data * positions \n",
    "     total = port.sum(axis=1)\n",
    "     rt = total.pct_change().dropna()\n",
    "\n",
    "     if long:\n",
    "          var = np.percentile(rt,100-conf)\n",
    "          cvar = rt[rt < var].mean()\n",
    "     else:\n",
    "          var = np.percentile(rt,conf)\n",
    "          cvar = rt[rt > var].mean()\n",
    "\n",
    "     var_m = var * total.iloc[-1]\n",
    "     cvar_m = cvar * total.iloc[-1]\n",
    "\n",
    "     resultados_df = pd.DataFrame({\n",
    "        \"Métrica\": [\"VaR\", \"CVaR\"],\n",
    "        \"Porcentual (%)\": [np.round(var * 100, 4), np.round(cvar * 100, 4)],\n",
    "        \"Monetario ($)\": [np.round(var_m, 2), np.round(cvar_m, 2)]\n",
    "    })\n",
    "     \n",
    "     resultados_df[\"Porcentual (%)\"] = resultados_df[\"Porcentual (%)\"].map(\"{:,.4f}\".format) \n",
    "     resultados_df[\"Monetario ($)\"] = resultados_df[\"Monetario ($)\"].map(\"{:,.2f}\".format) \n",
    "\n",
    "     return resultados_df"
   ]
  },
  {
   "cell_type": "markdown",
   "metadata": {},
   "source": [
    "## b)"
   ]
  },
  {
   "cell_type": "code",
   "execution_count": 4,
   "metadata": {},
   "outputs": [
    {
     "name": "stderr",
     "output_type": "stream",
     "text": [
      "[*********************100%***********************]  2 of 2 completed\n"
     ]
    },
    {
     "data": {
      "text/html": [
       "<div>\n",
       "<style scoped>\n",
       "    .dataframe tbody tr th:only-of-type {\n",
       "        vertical-align: middle;\n",
       "    }\n",
       "\n",
       "    .dataframe tbody tr th {\n",
       "        vertical-align: top;\n",
       "    }\n",
       "\n",
       "    .dataframe thead th {\n",
       "        text-align: right;\n",
       "    }\n",
       "</style>\n",
       "<table border=\"1\" class=\"dataframe\">\n",
       "  <thead>\n",
       "    <tr style=\"text-align: right;\">\n",
       "      <th></th>\n",
       "      <th>Métrica</th>\n",
       "      <th>Porcentual (%)</th>\n",
       "      <th>Monetario ($)</th>\n",
       "    </tr>\n",
       "  </thead>\n",
       "  <tbody>\n",
       "    <tr>\n",
       "      <th>0</th>\n",
       "      <td>VaR</td>\n",
       "      <td>-1.8482</td>\n",
       "      <td>-5,041,647.69</td>\n",
       "    </tr>\n",
       "    <tr>\n",
       "      <th>1</th>\n",
       "      <td>CVaR</td>\n",
       "      <td>-2.3751</td>\n",
       "      <td>-6,478,978.99</td>\n",
       "    </tr>\n",
       "  </tbody>\n",
       "</table>\n",
       "</div>"
      ],
      "text/plain": [
       "  Métrica Porcentual (%)  Monetario ($)\n",
       "0     VaR        -1.8482  -5,041,647.69\n",
       "1    CVaR        -2.3751  -6,478,978.99"
      ]
     },
     "execution_count": 4,
     "metadata": {},
     "output_type": "execute_result"
    }
   ],
   "source": [
    "data = yf.download(['CHFMXN=X', 'MXN=X'], start='2020-01-01', end='2024-12-02')['Close'] #No puedo descargar el ajustado\n",
    "\n",
    "positions = [7100000, 5300000] #Ordenar alfabeticamente\n",
    "\n",
    "long = True #True o False\n",
    "\n",
    "NC = 99 #[0, 100]\n",
    "\n",
    "VaR_CVaR(data, positions, NC, long)"
   ]
  },
  {
   "cell_type": "code",
   "execution_count": null,
   "metadata": {},
   "outputs": [],
   "source": []
  }
 ],
 "metadata": {
  "kernelspec": {
   "display_name": "base",
   "language": "python",
   "name": "python3"
  },
  "language_info": {
   "codemirror_mode": {
    "name": "ipython",
    "version": 3
   },
   "file_extension": ".py",
   "mimetype": "text/x-python",
   "name": "python",
   "nbconvert_exporter": "python",
   "pygments_lexer": "ipython3",
   "version": "3.12.7"
  }
 },
 "nbformat": 4,
 "nbformat_minor": 2
}
