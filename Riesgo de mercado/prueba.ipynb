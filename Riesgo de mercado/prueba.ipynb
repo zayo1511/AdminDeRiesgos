{
 "cells": [
  {
   "cell_type": "code",
   "execution_count": 1,
   "metadata": {},
   "outputs": [],
   "source": [
    "import pandas as pd\n",
    "import yfinance as yf\n",
    "import numpy as np\n",
    "from scipy.optimize import minimize\n",
    "from IPython.display import display\n",
    "\n",
    "pd.set_option('display.float_format', '{:,.2f}'.format)"
   ]
  },
  {
   "cell_type": "code",
   "execution_count": 2,
   "metadata": {},
   "outputs": [],
   "source": [
    "def VaR_CVaR(data, n_stocks, conf, long):\n",
    "     \n",
    "     valor_posicion = n_stocks * data.iloc[-1]\n",
    "     weights = [valor_posicion.iloc[i]/valor_posicion.sum() for i in range(len(n_stocks))]  \n",
    "     rt_assets = data.pct_change().dropna()\n",
    "     rt_port = rt_assets.mul(weights).sum(axis=1)\n",
    "\n",
    "     var = np.percentile(rt_port,100-conf) if long else np.percentile(rt_port,conf)\n",
    "     cvar = rt_port[rt_port < var].mean() if long else rt_port[rt_port > var].mean()\n",
    "          \n",
    "     var_m = var * valor_posicion.sum()\n",
    "     cvar_m = cvar * valor_posicion.sum()\n",
    "     \n",
    "     resultados_df = pd.DataFrame({\"Métrica\": [\"VaR\", \"CVaR\"], \"Porcentual (%)\": [var * 100, cvar * 100], \"Monetario ($)\": [var_m, cvar_m]})\n",
    "\n",
    "     return resultados_df"
   ]
  },
  {
   "cell_type": "code",
   "execution_count": 3,
   "metadata": {},
   "outputs": [
    {
     "name": "stderr",
     "output_type": "stream",
     "text": [
      "[*********************100%***********************]  5 of 5 completed\n"
     ]
    },
    {
     "data": {
      "text/html": [
       "<div>\n",
       "<style scoped>\n",
       "    .dataframe tbody tr th:only-of-type {\n",
       "        vertical-align: middle;\n",
       "    }\n",
       "\n",
       "    .dataframe tbody tr th {\n",
       "        vertical-align: top;\n",
       "    }\n",
       "\n",
       "    .dataframe thead th {\n",
       "        text-align: right;\n",
       "    }\n",
       "</style>\n",
       "<table border=\"1\" class=\"dataframe\">\n",
       "  <thead>\n",
       "    <tr style=\"text-align: right;\">\n",
       "      <th></th>\n",
       "      <th>Métrica</th>\n",
       "      <th>Porcentual (%)</th>\n",
       "      <th>Monetario ($)</th>\n",
       "    </tr>\n",
       "  </thead>\n",
       "  <tbody>\n",
       "    <tr>\n",
       "      <th>0</th>\n",
       "      <td>VaR</td>\n",
       "      <td>-2.29</td>\n",
       "      <td>-10,119.22</td>\n",
       "    </tr>\n",
       "    <tr>\n",
       "      <th>1</th>\n",
       "      <td>CVaR</td>\n",
       "      <td>-3.99</td>\n",
       "      <td>-17,628.55</td>\n",
       "    </tr>\n",
       "  </tbody>\n",
       "</table>\n",
       "</div>"
      ],
      "text/plain": [
       "  Métrica  Porcentual (%)  Monetario ($)\n",
       "0     VaR           -2.29     -10,119.22\n",
       "1    CVaR           -3.99     -17,628.55"
      ]
     },
     "execution_count": 3,
     "metadata": {},
     "output_type": "execute_result"
    }
   ],
   "source": [
    "stocks = ['AAPL', 'AMD', 'JPM', 'LMT', 'TSLA']\n",
    "\n",
    "data = yf.download(stocks, start=\"2020-01-01\", end=\"2023-01-01\")['Close'][stocks] #No puedo descargar el ajustado\n",
    "\n",
    "positions = [339, 125, 450, 620, 222]\n",
    "\n",
    "long = True #True o False\n",
    "\n",
    "conf = 95 #[0, 100]\n",
    "\n",
    "VaR_CVaR(data, positions, conf, long)"
   ]
  },
  {
   "cell_type": "code",
   "execution_count": 4,
   "metadata": {},
   "outputs": [],
   "source": [
    "import vartools as vt"
   ]
  },
  {
   "cell_type": "code",
   "execution_count": 5,
   "metadata": {},
   "outputs": [
    {
     "data": {
      "text/html": [
       "<div>\n",
       "<style scoped>\n",
       "    .dataframe tbody tr th:only-of-type {\n",
       "        vertical-align: middle;\n",
       "    }\n",
       "\n",
       "    .dataframe tbody tr th {\n",
       "        vertical-align: top;\n",
       "    }\n",
       "\n",
       "    .dataframe thead th {\n",
       "        text-align: right;\n",
       "    }\n",
       "</style>\n",
       "<table border=\"1\" class=\"dataframe\">\n",
       "  <thead>\n",
       "    <tr style=\"text-align: right;\">\n",
       "      <th></th>\n",
       "      <th>Date</th>\n",
       "      <th>AMD</th>\n",
       "      <th>AAPL</th>\n",
       "    </tr>\n",
       "  </thead>\n",
       "  <tbody>\n",
       "    <tr>\n",
       "      <th>0</th>\n",
       "      <td>2025-02-14</td>\n",
       "      <td>113.1000</td>\n",
       "      <td>244.6000</td>\n",
       "    </tr>\n",
       "    <tr>\n",
       "      <th>1</th>\n",
       "      <td>2025-02-13</td>\n",
       "      <td>111.8100</td>\n",
       "      <td>241.5300</td>\n",
       "    </tr>\n",
       "    <tr>\n",
       "      <th>2</th>\n",
       "      <td>2025-02-12</td>\n",
       "      <td>111.7200</td>\n",
       "      <td>236.8700</td>\n",
       "    </tr>\n",
       "    <tr>\n",
       "      <th>3</th>\n",
       "      <td>2025-02-11</td>\n",
       "      <td>111.1000</td>\n",
       "      <td>232.6200</td>\n",
       "    </tr>\n",
       "    <tr>\n",
       "      <th>4</th>\n",
       "      <td>2025-02-10</td>\n",
       "      <td>110.4800</td>\n",
       "      <td>227.6500</td>\n",
       "    </tr>\n",
       "    <tr>\n",
       "      <th>...</th>\n",
       "      <td>...</td>\n",
       "      <td>...</td>\n",
       "      <td>...</td>\n",
       "    </tr>\n",
       "    <tr>\n",
       "      <th>495</th>\n",
       "      <td>2023-02-24</td>\n",
       "      <td>78.0900</td>\n",
       "      <td>146.7100</td>\n",
       "    </tr>\n",
       "    <tr>\n",
       "      <th>496</th>\n",
       "      <td>2023-02-23</td>\n",
       "      <td>79.7500</td>\n",
       "      <td>149.4000</td>\n",
       "    </tr>\n",
       "    <tr>\n",
       "      <th>497</th>\n",
       "      <td>2023-02-22</td>\n",
       "      <td>76.6100</td>\n",
       "      <td>148.9100</td>\n",
       "    </tr>\n",
       "    <tr>\n",
       "      <th>498</th>\n",
       "      <td>2023-02-21</td>\n",
       "      <td>76.7700</td>\n",
       "      <td>148.4800</td>\n",
       "    </tr>\n",
       "    <tr>\n",
       "      <th>499</th>\n",
       "      <td>2023-02-17</td>\n",
       "      <td>78.5000</td>\n",
       "      <td>152.5500</td>\n",
       "    </tr>\n",
       "  </tbody>\n",
       "</table>\n",
       "<p>500 rows × 3 columns</p>\n",
       "</div>"
      ],
      "text/plain": [
       "          Date      AMD     AAPL\n",
       "0   2025-02-14 113.1000 244.6000\n",
       "1   2025-02-13 111.8100 241.5300\n",
       "2   2025-02-12 111.7200 236.8700\n",
       "3   2025-02-11 111.1000 232.6200\n",
       "4   2025-02-10 110.4800 227.6500\n",
       "..         ...      ...      ...\n",
       "495 2023-02-24  78.0900 146.7100\n",
       "496 2023-02-23  79.7500 149.4000\n",
       "497 2023-02-22  76.6100 148.9100\n",
       "498 2023-02-21  76.7700 148.4800\n",
       "499 2023-02-17  78.5000 152.5500\n",
       "\n",
       "[500 rows x 3 columns]"
      ]
     },
     "execution_count": 5,
     "metadata": {},
     "output_type": "execute_result"
    }
   ],
   "source": [
    "data = pd.read_excel(\"Prueba.xlsx\")\n",
    "data"
   ]
  },
  {
   "cell_type": "code",
   "execution_count": 6,
   "metadata": {},
   "outputs": [],
   "source": [
    "data.set_index('Date', inplace=True)"
   ]
  },
  {
   "cell_type": "code",
   "execution_count": 7,
   "metadata": {},
   "outputs": [
    {
     "data": {
      "text/html": [
       "<div>\n",
       "<style scoped>\n",
       "    .dataframe tbody tr th:only-of-type {\n",
       "        vertical-align: middle;\n",
       "    }\n",
       "\n",
       "    .dataframe tbody tr th {\n",
       "        vertical-align: top;\n",
       "    }\n",
       "\n",
       "    .dataframe thead th {\n",
       "        text-align: right;\n",
       "    }\n",
       "</style>\n",
       "<table border=\"1\" class=\"dataframe\">\n",
       "  <thead>\n",
       "    <tr style=\"text-align: right;\">\n",
       "      <th></th>\n",
       "      <th>Métrica</th>\n",
       "      <th>Porcentaje</th>\n",
       "      <th>cash</th>\n",
       "    </tr>\n",
       "  </thead>\n",
       "  <tbody>\n",
       "    <tr>\n",
       "      <th>0</th>\n",
       "      <td>VaR</td>\n",
       "      <td>0.0247</td>\n",
       "      <td>1,233.7491</td>\n",
       "    </tr>\n",
       "    <tr>\n",
       "      <th>1</th>\n",
       "      <td>cVaR</td>\n",
       "      <td>0.0331</td>\n",
       "      <td>1,653.4282</td>\n",
       "    </tr>\n",
       "  </tbody>\n",
       "</table>\n",
       "</div>"
      ],
      "text/plain": [
       "  Métrica  Porcentaje       cash\n",
       "0     VaR      0.0247 1,233.7491\n",
       "1    cVaR      0.0331 1,653.4282"
      ]
     },
     "execution_count": 7,
     "metadata": {},
     "output_type": "execute_result"
    }
   ],
   "source": [
    "stocks = data.columns\n",
    "n_stocks = [150, 135]\n",
    "conf = 95\n",
    "long = True\n",
    "\n",
    "var_df = vt.var_stocks(data, n_stocks, conf, long, stocks)\n",
    "var_df"
   ]
  },
  {
   "cell_type": "code",
   "execution_count": 13,
   "metadata": {},
   "outputs": [
    {
     "name": "stderr",
     "output_type": "stream",
     "text": [
      "[*********************100%***********************]  3 of 3 completed\n"
     ]
    },
    {
     "data": {
      "text/html": [
       "<div>\n",
       "<style scoped>\n",
       "    .dataframe tbody tr th:only-of-type {\n",
       "        vertical-align: middle;\n",
       "    }\n",
       "\n",
       "    .dataframe tbody tr th {\n",
       "        vertical-align: top;\n",
       "    }\n",
       "\n",
       "    .dataframe thead th {\n",
       "        text-align: right;\n",
       "    }\n",
       "</style>\n",
       "<table border=\"1\" class=\"dataframe\">\n",
       "  <thead>\n",
       "    <tr style=\"text-align: right;\">\n",
       "      <th>Ticker</th>\n",
       "      <th>GOOGL</th>\n",
       "      <th>AMD</th>\n",
       "      <th>JPM</th>\n",
       "    </tr>\n",
       "    <tr>\n",
       "      <th>Date</th>\n",
       "      <th></th>\n",
       "      <th></th>\n",
       "      <th></th>\n",
       "    </tr>\n",
       "  </thead>\n",
       "  <tbody>\n",
       "    <tr>\n",
       "      <th>2020-01-02 00:00:00+00:00</th>\n",
       "      <td>68.1868</td>\n",
       "      <td>49.1000</td>\n",
       "      <td>121.4772</td>\n",
       "    </tr>\n",
       "    <tr>\n",
       "      <th>2020-01-03 00:00:00+00:00</th>\n",
       "      <td>67.8301</td>\n",
       "      <td>48.6000</td>\n",
       "      <td>119.8742</td>\n",
       "    </tr>\n",
       "    <tr>\n",
       "      <th>2020-01-06 00:00:00+00:00</th>\n",
       "      <td>69.6381</td>\n",
       "      <td>48.3900</td>\n",
       "      <td>119.7788</td>\n",
       "    </tr>\n",
       "    <tr>\n",
       "      <th>2020-01-07 00:00:00+00:00</th>\n",
       "      <td>69.5035</td>\n",
       "      <td>48.2500</td>\n",
       "      <td>117.7425</td>\n",
       "    </tr>\n",
       "    <tr>\n",
       "      <th>2020-01-08 00:00:00+00:00</th>\n",
       "      <td>69.9983</td>\n",
       "      <td>47.8300</td>\n",
       "      <td>118.6610</td>\n",
       "    </tr>\n",
       "    <tr>\n",
       "      <th>...</th>\n",
       "      <td>...</td>\n",
       "      <td>...</td>\n",
       "      <td>...</td>\n",
       "    </tr>\n",
       "    <tr>\n",
       "      <th>2022-12-23 00:00:00+00:00</th>\n",
       "      <td>88.9077</td>\n",
       "      <td>64.5200</td>\n",
       "      <td>123.8672</td>\n",
       "    </tr>\n",
       "    <tr>\n",
       "      <th>2022-12-27 00:00:00+00:00</th>\n",
       "      <td>87.0743</td>\n",
       "      <td>63.2700</td>\n",
       "      <td>124.3012</td>\n",
       "    </tr>\n",
       "    <tr>\n",
       "      <th>2022-12-28 00:00:00+00:00</th>\n",
       "      <td>85.7093</td>\n",
       "      <td>62.5700</td>\n",
       "      <td>124.9805</td>\n",
       "    </tr>\n",
       "    <tr>\n",
       "      <th>2022-12-29 00:00:00+00:00</th>\n",
       "      <td>88.1305</td>\n",
       "      <td>64.8200</td>\n",
       "      <td>125.6976</td>\n",
       "    </tr>\n",
       "    <tr>\n",
       "      <th>2022-12-30 00:00:00+00:00</th>\n",
       "      <td>87.9113</td>\n",
       "      <td>64.7700</td>\n",
       "      <td>126.5279</td>\n",
       "    </tr>\n",
       "  </tbody>\n",
       "</table>\n",
       "<p>756 rows × 3 columns</p>\n",
       "</div>"
      ],
      "text/plain": [
       "Ticker                      GOOGL     AMD      JPM\n",
       "Date                                              \n",
       "2020-01-02 00:00:00+00:00 68.1868 49.1000 121.4772\n",
       "2020-01-03 00:00:00+00:00 67.8301 48.6000 119.8742\n",
       "2020-01-06 00:00:00+00:00 69.6381 48.3900 119.7788\n",
       "2020-01-07 00:00:00+00:00 69.5035 48.2500 117.7425\n",
       "2020-01-08 00:00:00+00:00 69.9983 47.8300 118.6610\n",
       "...                           ...     ...      ...\n",
       "2022-12-23 00:00:00+00:00 88.9077 64.5200 123.8672\n",
       "2022-12-27 00:00:00+00:00 87.0743 63.2700 124.3012\n",
       "2022-12-28 00:00:00+00:00 85.7093 62.5700 124.9805\n",
       "2022-12-29 00:00:00+00:00 88.1305 64.8200 125.6976\n",
       "2022-12-30 00:00:00+00:00 87.9113 64.7700 126.5279\n",
       "\n",
       "[756 rows x 3 columns]"
      ]
     },
     "execution_count": 13,
     "metadata": {},
     "output_type": "execute_result"
    }
   ],
   "source": [
    "stocks = ['GOOGL','AMD','JPM']\n",
    "start = '2020-01-01'\n",
    "end = '2023-01-01'\n",
    "type = 'Adj Close'\n",
    "\n",
    "data = vt.get_data(stocks, start, end, type)\n",
    "rt = data.pct_change().dropna()\n",
    "data"
   ]
  },
  {
   "cell_type": "code",
   "execution_count": 16,
   "metadata": {},
   "outputs": [
    {
     "data": {
      "text/html": [
       "<div>\n",
       "<style scoped>\n",
       "    .dataframe tbody tr th:only-of-type {\n",
       "        vertical-align: middle;\n",
       "    }\n",
       "\n",
       "    .dataframe tbody tr th {\n",
       "        vertical-align: top;\n",
       "    }\n",
       "\n",
       "    .dataframe thead th {\n",
       "        text-align: right;\n",
       "    }\n",
       "</style>\n",
       "<table border=\"1\" class=\"dataframe\">\n",
       "  <thead>\n",
       "    <tr style=\"text-align: right;\">\n",
       "      <th></th>\n",
       "      <th>w</th>\n",
       "    </tr>\n",
       "    <tr>\n",
       "      <th>Ticker</th>\n",
       "      <th></th>\n",
       "    </tr>\n",
       "  </thead>\n",
       "  <tbody>\n",
       "    <tr>\n",
       "      <th>GOOGL</th>\n",
       "      <td>0.3610</td>\n",
       "    </tr>\n",
       "    <tr>\n",
       "      <th>AMD</th>\n",
       "      <td>0.2521</td>\n",
       "    </tr>\n",
       "    <tr>\n",
       "      <th>JPM</th>\n",
       "      <td>0.3869</td>\n",
       "    </tr>\n",
       "  </tbody>\n",
       "</table>\n",
       "</div>"
      ],
      "text/plain": [
       "            w\n",
       "Ticker       \n",
       "GOOGL  0.3610\n",
       "AMD    0.2521\n",
       "JPM    0.3869"
      ]
     },
     "execution_count": 16,
     "metadata": {},
     "output_type": "execute_result"
    }
   ],
   "source": [
    "sharpe_df = vt.mcc_portfolio(rt, 0.05)\n",
    "sharpe_df"
   ]
  },
  {
   "cell_type": "code",
   "execution_count": 17,
   "metadata": {},
   "outputs": [
    {
     "data": {
      "image/png": "[encoded data removed]",
      "text/plain": [
       "<Figure size 800x800 with 1 Axes>"
      ]
     },
     "metadata": {},
     "output_type": "display_data"
    }
   ],
   "source": [
    "vt.plot_weights(sharpe_df)"
   ]
  }
 ],
 "metadata": {
  "kernelspec": {
   "display_name": "base",
   "language": "python",
   "name": "python3"
  },
  "language_info": {
   "codemirror_mode": {
    "name": "ipython",
    "version": 3
   },
   "file_extension": ".py",
   "mimetype": "text/x-python",
   "name": "python",
   "nbconvert_exporter": "python",
   "pygments_lexer": "ipython3",
   "version": "3.12.7"
  }
 },
 "nbformat": 4,
 "nbformat_minor": 2
}
