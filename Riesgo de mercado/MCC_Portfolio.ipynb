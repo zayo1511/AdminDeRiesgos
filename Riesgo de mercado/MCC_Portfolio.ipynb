{
 "cells": [
  {
   "cell_type": "code",
   "execution_count": 1,
   "metadata": {},
   "outputs": [],
   "source": [
    "import numpy as np\n",
    "import pandas as pd\n",
    "import yfinance as yf\n",
    "import matplotlib.pyplot as plt\n",
    "from scipy.optimize import minimize\n",
    "from IPython.display import display, Markdown"
   ]
  },
  {
   "cell_type": "markdown",
   "metadata": {},
   "source": [
    "## Important\n",
    "\n",
    "$$\n",
    "CVaR_w (\\alpha) = -E[r_w \\ | \\ r_w \\leq -VaR_w (\\alpha)]\n",
    "$$\n",
    "\n",
    "\n",
    "$$\n",
    "C_{(i)}CVaR_w (\\alpha) = -E[w_{(i)}r_{(i)} \\ | \\ r_w \\leq -VaR_w (\\alpha)]\n",
    "$$\n",
    "\n",
    "\n",
    "$$\n",
    "\\%C_{(i)}CVaR_w(\\alpha) = \\frac{E[w_{(i)}r_{(i)} \\ | \\ r_w \\leq -VaR_w(\\alpha)]}{E[r_w \\ | \\ r_w \\leq -VaR_w(\\alpha)]}\n",
    "$$\n",
    "\n",
    "MCC portfolio:\n",
    "\n",
    "$$\n",
    "w^{MCC} = argmin \\ C_w (\\alpha)\n",
    "$$\n",
    "\n",
    "$$\n",
    "s.t. \\ \\ \\sum_{i=1}^{n} w_i = 1\n",
    "$$\n",
    "\n",
    "$$\n",
    "\\quad 0 \\leq w_i \\leq 1\n",
    "$$\n",
    "\n",
    "\n",
    "where\n",
    "\n",
    "$$\n",
    "C_w(\\alpha) = max_i \\ C_{(i)}CVaR_w (\\alpha)\n",
    "$$\n",
    "\n",
    "$$\n",
    "w_i: \\text{peso del activo i}\n",
    "$$\n",
    "\n",
    "The other two strategies are the minimum CVaR (MC) and equal-weight (EW) portfolios:\n",
    "\n",
    "$$\n",
    "w^{minCVaR} = argmin_{w \\in W}CVaR_w (\\alpha) \\ \\text{and} \\ w^{EW} = (1/N, ... , 1/N)'\n",
    "$$"
   ]
  },
  {
   "cell_type": "markdown",
   "metadata": {},
   "source": [
    "$$\n",
    "r_p = \\sum_{i=1}^{n} w_i r_i\n",
    "$$\n",
    "\n",
    "$$\n",
    "VaR_w (\\alpha) = -P_\\alpha\n",
    "$$"
   ]
  },
  {
   "cell_type": "markdown",
   "metadata": {},
   "source": [
    "## Download data"
   ]
  },
  {
   "cell_type": "code",
   "execution_count": 2,
   "metadata": {},
   "outputs": [
    {
     "name": "stderr",
     "output_type": "stream",
     "text": [
      "[*********************100%***********************]  4 of 4 completed\n"
     ]
    }
   ],
   "source": [
    "# bonds, commodities, equities and real estate\n",
    "tickers = ['VBTLX', 'GSG', 'VTI', 'VNQ']\n",
    "start_date = '2019-01-01'\n",
    "end_date = '2024-01-01'\n",
    "\n",
    "data = yf.download(tickers, start_date, end_date)['Adj Close']\n",
    "\n",
    "# calculate returns\n",
    "returns = data.pct_change().dropna()\n",
    "\n",
    "# defining alpha and the number of assets\n",
    "alpha = 0.05\n",
    "n_assets = len(returns.columns)"
   ]
  },
  {
   "cell_type": "markdown",
   "metadata": {},
   "source": [
    "**Assets selected:**\n",
    "\n",
    "- VBTLX (Vanguard Total Bond Market Index Fund Admiral Shares) – A mutual fund that tracks the performance of the U.S. bond market, providing broad exposure to investment-grade bonds.\n",
    "\n",
    "- GSG (iShares S&P GSCI Commodity-Indexed Trust) – An ETF that tracks the performance of a broad commodities index, including energy, metals, and agricultural products.\n",
    "\n",
    "- VTI (Vanguard Total Stock Market ETF) – An ETF that provides exposure to the entire U.S. stock market, including small-, mid-, and large-cap stocks.\n",
    "\n",
    "- VNQ (Vanguard Real Estate ETF) – An ETF that invests in U.S. real estate investment trusts (REITs), offering exposure to the real estate sector."
   ]
  },
  {
   "cell_type": "markdown",
   "metadata": {},
   "source": [
    "## Calculate CVaR"
   ]
  },
  {
   "cell_type": "code",
   "execution_count": 3,
   "metadata": {},
   "outputs": [],
   "source": [
    "# CVaR for only long positions\n",
    "def portfolio_return(returns, weights):\n",
    "    return np.dot(returns, weights)\n",
    "\n",
    "# Better way to calculate CVaR than the one used in my homework 1. I used .query in the homework, but checking with friends this way is better.\n",
    "def cvar(portfolio_returns, alpha):\n",
    "    var = np.percentile(portfolio_returns, alpha*100)\n",
    "    cvar = -portfolio_returns[portfolio_returns < var].mean()\n",
    "    return cvar\n",
    "\n",
    "def individual_cvar_contributions(weights, returns, alpha):\n",
    "    portfolio_returns = portfolio_return(returns, weights)\n",
    "    var = np.percentile(portfolio_returns, alpha*100)\n",
    "\n",
    "    # check which days are in the cvar for the portfolio\n",
    "    bad_days_portfolio = portfolio_returns < var\n",
    "\n",
    "    contributions = []\n",
    "    # chech the returns of each asset the days where the portfolio is in the cvar to know the contribution\n",
    "    for i in range(n_assets):\n",
    "        asset_contribution = -returns.iloc[:, i][bad_days_portfolio].mean() * weights[i]\n",
    "        contributions.append(asset_contribution)\n",
    "    \n",
    "    portfolio_cvar = cvar(portfolio_returns, alpha)\n",
    "\n",
    "    percentage_contributions = []\n",
    "    for j in range(len(contributions)):\n",
    "        pct_contributions = contributions[j] / portfolio_cvar\n",
    "        percentage_contributions.append(pct_contributions)\n",
    "    \n",
    "    return contributions"
   ]
  },
  {
   "cell_type": "markdown",
   "metadata": {},
   "source": [
    "## Optimization"
   ]
  },
  {
   "cell_type": "code",
   "execution_count": 4,
   "metadata": {},
   "outputs": [],
   "source": [
    "def optimal_mcc(weights, returns, alpha):\n",
    "    cvar_contributions = individual_cvar_contributions(weights, returns, alpha)\n",
    "    return np.max(cvar_contributions)\n",
    "\n",
    "constraints = [\n",
    "    {\"type\": \"eq\", \"fun\": lambda w: np.sum(w) - 1},\n",
    "]\n",
    "bounds = tuple((0, 1) for _ in range(n_assets))\n",
    "\n",
    "# Initial guess\n",
    "initial_weights = np.ones(n_assets) / n_assets\n",
    "\n",
    "result = minimize(\n",
    "    fun=optimal_mcc,\n",
    "    x0=initial_weights,\n",
    "    args=(returns, alpha),\n",
    "    method=\"SLSQP\",\n",
    "    bounds=bounds,\n",
    "    constraints=constraints,\n",
    "    tol=1e-8\n",
    ")\n",
    "mcc_weights = result.x\n",
    "\n",
    "\n",
    "\n",
    "def min_cvar(weights, returns, alpha):\n",
    "    portfolio_returns = portfolio_return(returns, weights)\n",
    "    return cvar(portfolio_returns, alpha)\n",
    "\n",
    "result_min_cvar = minimize(\n",
    "    fun=min_cvar,\n",
    "    x0=initial_weights,\n",
    "    args=(returns, alpha),\n",
    "    method=\"SLSQP\",\n",
    "    bounds=bounds,\n",
    "    constraints=constraints,\n",
    "    tol=1e-8\n",
    ")\n",
    "min_cvar_weights = result_min_cvar.x\n"
   ]
  },
  {
   "cell_type": "markdown",
   "metadata": {},
   "source": [
    "## Weights and Contributions"
   ]
  },
  {
   "cell_type": "code",
   "execution_count": 5,
   "metadata": {},
   "outputs": [],
   "source": [
    "mcc_cvar_contrubutions = individual_cvar_contributions(mcc_weights, returns, alpha)\n",
    "mcc_cvar = cvar(portfolio_return(returns, mcc_weights), alpha)\n",
    "mcc_cvar_pct_contributions = mcc_cvar_contrubutions / mcc_cvar\n",
    "\n",
    "min_cvar_cvar_contrubutions = individual_cvar_contributions(min_cvar_weights, returns, alpha)\n",
    "min_cvar_cvar = cvar(portfolio_return(returns, min_cvar_weights), alpha)\n",
    "min_cvar_cvar_pct_contributions = min_cvar_cvar_contrubutions / min_cvar_cvar\n",
    "\n",
    "ew_weights = np.ones(n_assets) / n_assets\n",
    "ew_cvar_contrubutions = individual_cvar_contributions(ew_weights, returns, alpha)\n",
    "ew_cvar = cvar(portfolio_return(returns, ew_weights), alpha)\n",
    "ew_cvar_pct_contributions = ew_cvar_contrubutions / ew_cvar"
   ]
  },
  {
   "cell_type": "code",
   "execution_count": 6,
   "metadata": {},
   "outputs": [
    {
     "name": "stdout",
     "output_type": "stream",
     "text": [
      "MCC Portfolio weights:\n",
      "---------------------\n",
      "GSG: 12.0933%\n",
      "VBTLX: 66.0134%\n",
      "VNQ: 10.1814%\n",
      "VTI: 11.7119%\n",
      "---------------------\n",
      "\n",
      "MCC Portfolio CVaR percentage contribution:\n",
      "---------------------\n",
      "GSG: 25.5172%\n",
      "VBTLX: 25.3816%\n",
      "VNQ: 25.5060%\n",
      "VTI: 23.5952%\n",
      "---------------------\n",
      "\n",
      "\n",
      "Min CVaR Portfolio weights:\n",
      "---------------------\n",
      "GSG: 3.7399%\n",
      "VBTLX: 95.6289%\n",
      "VNQ: 0.0000%\n",
      "VTI: 0.6311%\n",
      "---------------------\n",
      "\n",
      "Min CVaR Portfolio CVaR percentage contribution:\n",
      "---------------------\n",
      "GSG: 3.7522%\n",
      "VBTLX: 95.6145%\n",
      "VNQ: 0.0000%\n",
      "VTI: 0.6333%\n",
      "---------------------\n",
      "\n",
      "\n",
      "Equal-Weight Portfolio weights:\n",
      "---------------------\n",
      "GSG: 25.0000%\n",
      "VBTLX: 25.0000%\n",
      "VNQ: 25.0000%\n",
      "VTI: 25.0000%\n",
      "---------------------\n",
      "\n",
      "Equal-Weight Portfolio CVaR percentage contribution:\n",
      "---------------------\n",
      "GSG: 32.8778%\n",
      "VBTLX: 0.7586%\n",
      "VNQ: 35.4760%\n",
      "VTI: 30.8876%\n",
      "---------------------\n"
     ]
    }
   ],
   "source": [
    "print(f'MCC Portfolio weights:')\n",
    "print('---------------------')\n",
    "for i in range(n_assets):\n",
    "    print(f'{returns.keys()[i]}: {mcc_weights[i]:.4%}')\n",
    "print('---------------------')\n",
    "\n",
    "print()\n",
    "\n",
    "print(f'MCC Portfolio CVaR percentage contribution:')\n",
    "print('---------------------')\n",
    "for i in range(n_assets):\n",
    "    print(f'{returns.keys()[i]}: {mcc_cvar_pct_contributions[i]:.4%}')\n",
    "print('---------------------')\n",
    "\n",
    "print()\n",
    "print()\n",
    "\n",
    "print(f'Min CVaR Portfolio weights:')\n",
    "print('---------------------')\n",
    "for i in range(n_assets):\n",
    "    print(f'{returns.keys()[i]}: {min_cvar_weights[i]:.4%}')\n",
    "print('---------------------')\n",
    "\n",
    "print()\n",
    "\n",
    "print(f'Min CVaR Portfolio CVaR percentage contribution:')\n",
    "print('---------------------')\n",
    "for i in range(n_assets):\n",
    "    print(f'{returns.keys()[i]}: {min_cvar_cvar_pct_contributions[i]:.4%}')\n",
    "print('---------------------')\n",
    "\n",
    "print()\n",
    "print()\n",
    "\n",
    "print(f'Equal-Weight Portfolio weights:')\n",
    "print('---------------------')\n",
    "for i in range(n_assets):\n",
    "    print(f'{returns.keys()[i]}: {ew_weights[i]:.4%}')\n",
    "print('---------------------')\n",
    "\n",
    "print()\n",
    "\n",
    "print(f'Equal-Weight Portfolio CVaR percentage contribution:')\n",
    "print('---------------------')\n",
    "for i in range(n_assets):\n",
    "    print(f'{returns.keys()[i]}: {ew_cvar_pct_contributions[i]:.4%}')\n",
    "print('---------------------')"
   ]
  },
  {
   "cell_type": "markdown",
   "metadata": {},
   "source": [
    "## Static Backtesting"
   ]
  },
  {
   "cell_type": "code",
   "execution_count": 7,
   "metadata": {},
   "outputs": [
    {
     "name": "stderr",
     "output_type": "stream",
     "text": [
      "[*********************100%***********************]  4 of 4 completed\n"
     ]
    }
   ],
   "source": [
    "# bonds, commodities, equities and real estate\n",
    "data = yf.download(tickers, end_date, end='2024-12-31')['Adj Close']\n",
    "\n",
    "# calculate returns\n",
    "returns = data.pct_change().dropna()\n",
    "\n",
    "pd.options.display.float_format = '{:.4f}%'.format"
   ]
  },
  {
   "cell_type": "code",
   "execution_count": 8,
   "metadata": {},
   "outputs": [
    {
     "data": {
      "image/png": "[encoded data removed]",
      "text/plain": [
       "<Figure size 1200x600 with 1 Axes>"
      ]
     },
     "metadata": {},
     "output_type": "display_data"
    }
   ],
   "source": [
    "mcc_portfolio_returns = portfolio_return(returns, mcc_weights)\n",
    "cumulative_return_mcc_port = (1 + mcc_portfolio_returns).cumprod()\n",
    "\n",
    "min_cvar_portfolio_returns = portfolio_return(returns, min_cvar_weights)\n",
    "cumulative_return_min_cvar_port = (1 + min_cvar_portfolio_returns).cumprod()\n",
    "\n",
    "ew_portfolio_returns = portfolio_return(returns, ew_weights)\n",
    "cumulative_return_ew_port = (1 + ew_portfolio_returns).cumprod()\n",
    "\n",
    "cumulative_returns_df = pd.DataFrame({\n",
    "    'MCC Portfolio': cumulative_return_mcc_port,\n",
    "    'Min CVaR Portfolio': cumulative_return_min_cvar_port,\n",
    "    'Equal-Weight Portfolio': cumulative_return_ew_port\n",
    "})\n",
    "cumulative_returns_df.index = returns.index\n",
    "\n",
    "plt.figure(figsize=(12, 6))\n",
    "\n",
    "plt.plot(cumulative_returns_df['MCC Portfolio'], label='MCC Portfolio', c = 'navy')\n",
    "plt.plot(cumulative_returns_df['Min CVaR Portfolio'], label='Min CVaR Portfolio', c = 'gray')\n",
    "plt.plot(cumulative_returns_df['Equal-Weight Portfolio'], label='Equal-Weight Portfolio', c = 'skyblue')\n",
    "\n",
    "plt.legend()\n",
    "plt.grid();"
   ]
  },
  {
   "cell_type": "code",
   "execution_count": 9,
   "metadata": {},
   "outputs": [
    {
     "data": {
      "text/html": [
       "<div>\n",
       "<style scoped>\n",
       "    .dataframe tbody tr th:only-of-type {\n",
       "        vertical-align: middle;\n",
       "    }\n",
       "\n",
       "    .dataframe tbody tr th {\n",
       "        vertical-align: top;\n",
       "    }\n",
       "\n",
       "    .dataframe thead th {\n",
       "        text-align: right;\n",
       "    }\n",
       "</style>\n",
       "<table border=\"1\" class=\"dataframe\">\n",
       "  <thead>\n",
       "    <tr style=\"text-align: right;\">\n",
       "      <th></th>\n",
       "      <th>Return (%)</th>\n",
       "      <th>Annualized Volatility (%)</th>\n",
       "    </tr>\n",
       "  </thead>\n",
       "  <tbody>\n",
       "    <tr>\n",
       "      <th>MCC Portfolio</th>\n",
       "      <td>5.5455%</td>\n",
       "      <td>5.4313%</td>\n",
       "    </tr>\n",
       "    <tr>\n",
       "      <th>Min CVaR Portfolio</th>\n",
       "      <td>2.1365%</td>\n",
       "      <td>5.1340%</td>\n",
       "    </tr>\n",
       "    <tr>\n",
       "      <th>Equal-Weight Portfolio</th>\n",
       "      <td>9.9529%</td>\n",
       "      <td>7.8967%</td>\n",
       "    </tr>\n",
       "  </tbody>\n",
       "</table>\n",
       "</div>"
      ],
      "text/plain": [
       "                        Return (%)  Annualized Volatility (%)\n",
       "MCC Portfolio              5.5455%                    5.4313%\n",
       "Min CVaR Portfolio         2.1365%                    5.1340%\n",
       "Equal-Weight Portfolio     9.9529%                    7.8967%"
      ]
     },
     "execution_count": 9,
     "metadata": {},
     "output_type": "execute_result"
    }
   ],
   "source": [
    "returns_df = pd.DataFrame({\n",
    "    'MCC Portfolio': mcc_portfolio_returns,\n",
    "    'Min CVaR Portfolio': min_cvar_portfolio_returns,\n",
    "    'Equal-Weight Portfolio': ew_portfolio_returns\n",
    "})\n",
    "\n",
    "summary_df = pd.DataFrame({\n",
    "    'Return (%)': (cumulative_returns_df.iloc[-1] - 1) * 100,\n",
    "        'Annualized Volatility (%)': returns_df.std() * np.sqrt(252) * 100\n",
    "})\n",
    "summary_df"
   ]
  },
  {
   "cell_type": "markdown",
   "metadata": {},
   "source": [
    "## Dynamic Backtesting"
   ]
  },
  {
   "cell_type": "code",
   "execution_count": 10,
   "metadata": {},
   "outputs": [
    {
     "name": "stderr",
     "output_type": "stream",
     "text": [
      "[*********************100%***********************]  4 of 4 completed\n",
      "[*********************100%***********************]  4 of 4 completed\n",
      "[*********************100%***********************]  4 of 4 completed\n",
      "[*********************100%***********************]  4 of 4 completed\n",
      "[*********************100%***********************]  4 of 4 completed\n",
      "[*********************100%***********************]  4 of 4 completed\n",
      "[*********************100%***********************]  4 of 4 completed\n",
      "[*********************100%***********************]  4 of 4 completed\n",
      "[*********************100%***********************]  4 of 4 completed\n"
     ]
    }
   ],
   "source": [
    "# bonds, commodities, equities and real estate\n",
    "start_date = '2019-01-01'\n",
    "q1 = '2024-01-01'\n",
    "end_q1 = '2024-03-31'\n",
    "end_q2 = '2024-06-30'\n",
    "end_q3 = '2024-09-30'\n",
    "end_q4 = '2024-12-31'\n",
    "\n",
    "data = yf.download(tickers, start_date, q1)['Adj Close']\n",
    "data_q1_train = yf.download(tickers, start_date, end_q1)['Adj Close']\n",
    "data_q2_train = yf.download(tickers, start_date, end_q2)['Adj Close']\n",
    "data_q3_train = yf.download(tickers, start_date, end_q3)['Adj Close']\n",
    "data_q4_train = yf.download(tickers, start_date, end_q4)['Adj Close']\n",
    "\n",
    "data_q1_test = yf.download(tickers, q1, end_q1)['Adj Close']\n",
    "data_q2_test = yf.download(tickers, end_q1, end_q2)['Adj Close']\n",
    "data_q3_test = yf.download(tickers, end_q2, end_q3)['Adj Close']\n",
    "data_q4_test = yf.download(tickers, end_q3, end_q4)['Adj Close']\n",
    "\n",
    "\n",
    "# calculate returns\n",
    "returns = data.pct_change().dropna()\n",
    "returns_q1_train = data_q1_train.pct_change().dropna()\n",
    "returns_q2_train = data_q2_train.pct_change().dropna()\n",
    "returns_q3_train = data_q3_train.pct_change().dropna()\n",
    "returns_q4_train = data_q4_train.pct_change().dropna()\n",
    "\n",
    "returns_q1_test = data_q1_test.pct_change().dropna()\n",
    "returns_q2_test = data_q2_test.pct_change().dropna()\n",
    "returns_q3_test = data_q3_test.pct_change().dropna()\n",
    "returns_q4_test = data_q4_test.pct_change().dropna()"
   ]
  },
  {
   "cell_type": "markdown",
   "metadata": {},
   "source": [
    "### Q1"
   ]
  },
  {
   "cell_type": "code",
   "execution_count": 11,
   "metadata": {},
   "outputs": [
    {
     "data": {
      "text/plain": [
       "array([0.12093323, 0.66013385, 0.10181387, 0.11711906])"
      ]
     },
     "execution_count": 11,
     "metadata": {},
     "output_type": "execute_result"
    }
   ],
   "source": [
    "def optimal_mcc(weights, returns, alpha):\n",
    "    cvar_contributions = individual_cvar_contributions(weights, returns, alpha)\n",
    "    return np.max(cvar_contributions)\n",
    "\n",
    "constraints = [\n",
    "    {\"type\": \"eq\", \"fun\": lambda w: np.sum(w) - 1},\n",
    "]\n",
    "bounds = tuple((0, 1) for _ in range(n_assets))\n",
    "\n",
    "# Initial guess\n",
    "initial_weights = np.ones(n_assets) / n_assets\n",
    "\n",
    "result = minimize(\n",
    "    fun=optimal_mcc,\n",
    "    x0=initial_weights,\n",
    "    args=(returns, alpha),\n",
    "    method=\"SLSQP\",\n",
    "    bounds=bounds,\n",
    "    constraints=constraints,\n",
    "    tol=1e-8\n",
    ")\n",
    "mcc_weights_q1 = result.x\n",
    "\n",
    "\n",
    "\n",
    "def min_cvar(weights, returns, alpha):\n",
    "    portfolio_returns = portfolio_return(returns, weights)\n",
    "    return cvar(portfolio_returns, alpha)\n",
    "\n",
    "result_min_cvar = minimize(\n",
    "    fun=min_cvar,\n",
    "    x0=initial_weights,\n",
    "    args=(returns, alpha),\n",
    "    method=\"SLSQP\",\n",
    "    bounds=bounds,\n",
    "    constraints=constraints,\n",
    "    tol=1e-8\n",
    ")\n",
    "min_cvar_weights_q1 = result_min_cvar.x\n",
    "mcc_weights_q1"
   ]
  },
  {
   "cell_type": "code",
   "execution_count": 12,
   "metadata": {},
   "outputs": [],
   "source": [
    "mcc_portfolio_returns_q1 = portfolio_return(mcc_weights_q1, returns_q1_test.T)\n",
    "\n",
    "min_cvar_portfolio_returns_q1 = portfolio_return(min_cvar_weights_q1, returns_q1_test.T)\n",
    "\n",
    "ew_portfolio_returns_q1 = portfolio_return(ew_weights, returns_q1_test.T)\n",
    "\n",
    "\n",
    "returns_df_q1 = pd.DataFrame({\n",
    "    'MCC Portfolio': mcc_portfolio_returns_q1,\n",
    "    'Min CVaR Portfolio': min_cvar_portfolio_returns_q1,\n",
    "    'Equal-Weight Portfolio': ew_portfolio_returns_q1\n",
    "})\n",
    "returns_df_q1.index = returns_q1_test.index"
   ]
  },
  {
   "cell_type": "markdown",
   "metadata": {},
   "source": [
    "### Q2"
   ]
  },
  {
   "cell_type": "code",
   "execution_count": 13,
   "metadata": {},
   "outputs": [
    {
     "data": {
      "text/plain": [
       "array([0.12430073, 0.64509672, 0.10330957, 0.12729298])"
      ]
     },
     "execution_count": 13,
     "metadata": {},
     "output_type": "execute_result"
    }
   ],
   "source": [
    "def optimal_mcc(weights, returns_q1_train, alpha):\n",
    "    cvar_contributions = individual_cvar_contributions(weights, returns_q1_train, alpha)\n",
    "    return np.max(cvar_contributions)\n",
    "\n",
    "constraints = [\n",
    "    {\"type\": \"eq\", \"fun\": lambda w: np.sum(w) - 1},\n",
    "]\n",
    "bounds = tuple((0, 1) for _ in range(n_assets))\n",
    "\n",
    "# Initial guess\n",
    "initial_weights = np.ones(n_assets) / n_assets\n",
    "\n",
    "result = minimize(\n",
    "    fun=optimal_mcc,\n",
    "    x0=initial_weights,\n",
    "    args=(returns_q1_train, alpha),\n",
    "    method=\"SLSQP\",\n",
    "    bounds=bounds,\n",
    "    constraints=constraints,\n",
    "    tol=1e-8\n",
    ")\n",
    "mcc_weights_q2 = result.x\n",
    "\n",
    "\n",
    "\n",
    "def min_cvar(weights, returns_q1_train, alpha):\n",
    "    portfolio_returns = portfolio_return(returns_q1_train, weights)\n",
    "    return cvar(portfolio_returns, alpha)\n",
    "\n",
    "result_min_cvar = minimize(\n",
    "    fun=min_cvar,\n",
    "    x0=initial_weights,\n",
    "    args=(returns_q1_train, alpha),\n",
    "    method=\"SLSQP\",\n",
    "    bounds=bounds,\n",
    "    constraints=constraints,\n",
    "    tol=1e-8\n",
    ")\n",
    "min_cvar_weights_q2 = result_min_cvar.x\n",
    "mcc_weights_q2"
   ]
  },
  {
   "cell_type": "code",
   "execution_count": 14,
   "metadata": {},
   "outputs": [],
   "source": [
    "mcc_portfolio_returns_q2 = portfolio_return(mcc_weights_q2, returns_q2_test.T)\n",
    "\n",
    "min_cvar_portfolio_returns_q2 = portfolio_return(min_cvar_weights_q2, returns_q2_test.T)\n",
    "\n",
    "ew_portfolio_returns_q2 = portfolio_return(ew_weights, returns_q2_test.T)\n",
    "\n",
    "\n",
    "returns_df_q2 = pd.DataFrame({\n",
    "    'MCC Portfolio': mcc_portfolio_returns_q2,\n",
    "    'Min CVaR Portfolio': min_cvar_portfolio_returns_q2,\n",
    "    'Equal-Weight Portfolio': ew_portfolio_returns_q2\n",
    "})\n",
    "returns_df_q2.index = returns_q2_test.index"
   ]
  },
  {
   "cell_type": "markdown",
   "metadata": {},
   "source": [
    "### Q3"
   ]
  },
  {
   "cell_type": "code",
   "execution_count": 15,
   "metadata": {},
   "outputs": [
    {
     "data": {
      "text/plain": [
       "array([0.25930517, 0.25930517, 0.22384081, 0.25754886])"
      ]
     },
     "execution_count": 15,
     "metadata": {},
     "output_type": "execute_result"
    }
   ],
   "source": [
    "def optimal_mcc(weights, returns_q2_train, alpha):\n",
    "    cvar_contributions = individual_cvar_contributions(weights, returns_q2_train, alpha)\n",
    "    return np.max(cvar_contributions)\n",
    "\n",
    "constraints = [\n",
    "    {\"type\": \"eq\", \"fun\": lambda w: np.sum(w) - 1},\n",
    "]\n",
    "bounds = tuple((0, 1) for _ in range(n_assets))\n",
    "\n",
    "# Initial guess\n",
    "initial_weights = np.ones(n_assets) / n_assets\n",
    "\n",
    "result = minimize(\n",
    "    fun=optimal_mcc,\n",
    "    x0=initial_weights,\n",
    "    args=(returns_q2_train, alpha),\n",
    "    method=\"SLSQP\",\n",
    "    bounds=bounds,\n",
    "    constraints=constraints,\n",
    "    tol=1e-8\n",
    ")\n",
    "mcc_weights_q3 = result.x\n",
    "\n",
    "\n",
    "\n",
    "def min_cvar(weights, returns_q2_train, alpha):\n",
    "    portfolio_returns = portfolio_return(returns_q2_train, weights)\n",
    "    return cvar(portfolio_returns, alpha)\n",
    "\n",
    "result_min_cvar = minimize(\n",
    "    fun=min_cvar,\n",
    "    x0=initial_weights,\n",
    "    args=(returns_q2_train, alpha),\n",
    "    method=\"SLSQP\",\n",
    "    bounds=bounds,\n",
    "    constraints=constraints,\n",
    "    tol=1e-8\n",
    ")\n",
    "min_cvar_weights_q3 = result_min_cvar.x\n",
    "mcc_weights_q3"
   ]
  },
  {
   "cell_type": "code",
   "execution_count": 16,
   "metadata": {},
   "outputs": [],
   "source": [
    "mcc_portfolio_returns_q3 = portfolio_return(mcc_weights_q3, returns_q3_test.T)\n",
    "\n",
    "min_cvar_portfolio_returns_q3 = portfolio_return(min_cvar_weights_q3, returns_q3_test.T)\n",
    "\n",
    "ew_portfolio_returns_q3 = portfolio_return(ew_weights, returns_q3_test.T)\n",
    "\n",
    "\n",
    "returns_df_q3 = pd.DataFrame({\n",
    "    'MCC Portfolio': mcc_portfolio_returns_q3,\n",
    "    'Min CVaR Portfolio': min_cvar_portfolio_returns_q3,\n",
    "    'Equal-Weight Portfolio': ew_portfolio_returns_q3\n",
    "})\n",
    "returns_df_q3.index = returns_q3_test.index"
   ]
  },
  {
   "cell_type": "markdown",
   "metadata": {},
   "source": [
    "### Q4"
   ]
  },
  {
   "cell_type": "code",
   "execution_count": 17,
   "metadata": {},
   "outputs": [
    {
     "data": {
      "text/plain": [
       "array([0.12142784, 0.64916602, 0.10162166, 0.12778448])"
      ]
     },
     "execution_count": 17,
     "metadata": {},
     "output_type": "execute_result"
    }
   ],
   "source": [
    "def optimal_mcc(weights, returns_q3_train, alpha):\n",
    "    cvar_contributions = individual_cvar_contributions(weights, returns_q3_train, alpha)\n",
    "    return np.max(cvar_contributions)\n",
    "\n",
    "constraints = [\n",
    "    {\"type\": \"eq\", \"fun\": lambda w: np.sum(w) - 1},\n",
    "]\n",
    "bounds = tuple((0, 1) for _ in range(n_assets))\n",
    "\n",
    "# Initial guess\n",
    "initial_weights = np.ones(n_assets) / n_assets\n",
    "\n",
    "result = minimize(\n",
    "    fun=optimal_mcc,\n",
    "    x0=initial_weights,\n",
    "    args=(returns_q3_train, alpha),\n",
    "    method=\"SLSQP\",\n",
    "    bounds=bounds,\n",
    "    constraints=constraints,\n",
    "    tol=1e-8\n",
    ")\n",
    "mcc_weights_q4 = result.x\n",
    "\n",
    "\n",
    "\n",
    "def min_cvar(weights, returns_q3_train, alpha):\n",
    "    portfolio_returns = portfolio_return(returns_q3_train, weights)\n",
    "    return cvar(portfolio_returns, alpha)\n",
    "\n",
    "result_min_cvar = minimize(\n",
    "    fun=min_cvar,\n",
    "    x0=initial_weights,\n",
    "    args=(returns_q3_train, alpha),\n",
    "    method=\"SLSQP\",\n",
    "    bounds=bounds,\n",
    "    constraints=constraints,\n",
    "    tol=1e-8\n",
    ")\n",
    "min_cvar_weights_q4 = result_min_cvar.x\n",
    "mcc_weights_q4"
   ]
  },
  {
   "cell_type": "code",
   "execution_count": 18,
   "metadata": {},
   "outputs": [],
   "source": [
    "mcc_portfolio_returns_q4 = portfolio_return(mcc_weights_q4, returns_q4_test.T)\n",
    "\n",
    "min_cvar_portfolio_returns_q4 = portfolio_return(min_cvar_weights_q4, returns_q4_test.T)\n",
    "\n",
    "ew_portfolio_returns_q4 = portfolio_return(ew_weights, returns_q4_test.T)\n",
    "\n",
    "\n",
    "returns_df_q4 = pd.DataFrame({\n",
    "    'MCC Portfolio': mcc_portfolio_returns_q4,\n",
    "    'Min CVaR Portfolio': min_cvar_portfolio_returns_q4,\n",
    "    'Equal-Weight Portfolio': ew_portfolio_returns_q4\n",
    "})\n",
    "returns_df_q4.index = returns_q4_test.index"
   ]
  },
  {
   "cell_type": "code",
   "execution_count": 19,
   "metadata": {},
   "outputs": [
    {
     "data": {
      "image/png": "[encoded data removed]",
      "text/plain": [
       "<Figure size 1200x600 with 1 Axes>"
      ]
     },
     "metadata": {},
     "output_type": "display_data"
    }
   ],
   "source": [
    "combined_returns_df = pd.concat([returns_df_q1, returns_df_q2, returns_df_q3, returns_df_q4])\n",
    "cumulative_combined_returns_df = (1 + combined_returns_df).cumprod()\n",
    "\n",
    "plt.figure(figsize=(12, 6))\n",
    "\n",
    "plt.plot(cumulative_combined_returns_df['MCC Portfolio'], label='MCC Portfolio', c = 'navy')\n",
    "plt.plot(cumulative_combined_returns_df['Min CVaR Portfolio'], label='Min CVaR Portfolio', c = 'gray')\n",
    "plt.plot(cumulative_combined_returns_df['Equal-Weight Portfolio'], label='Equal-Weight Portfolio', c = 'skyblue')\n",
    "\n",
    "plt.legend()\n",
    "plt.grid();"
   ]
  },
  {
   "cell_type": "code",
   "execution_count": 20,
   "metadata": {},
   "outputs": [
    {
     "data": {
      "text/html": [
       "<div>\n",
       "<style scoped>\n",
       "    .dataframe tbody tr th:only-of-type {\n",
       "        vertical-align: middle;\n",
       "    }\n",
       "\n",
       "    .dataframe tbody tr th {\n",
       "        vertical-align: top;\n",
       "    }\n",
       "\n",
       "    .dataframe thead th {\n",
       "        text-align: right;\n",
       "    }\n",
       "</style>\n",
       "<table border=\"1\" class=\"dataframe\">\n",
       "  <thead>\n",
       "    <tr style=\"text-align: right;\">\n",
       "      <th></th>\n",
       "      <th>Return (%)</th>\n",
       "      <th>Annualized Volatility (%)</th>\n",
       "    </tr>\n",
       "  </thead>\n",
       "  <tbody>\n",
       "    <tr>\n",
       "      <th>MCC Portfolio</th>\n",
       "      <td>6.1686%</td>\n",
       "      <td>6.4208%</td>\n",
       "    </tr>\n",
       "    <tr>\n",
       "      <th>Min CVaR Portfolio</th>\n",
       "      <td>3.4566%</td>\n",
       "      <td>5.0654%</td>\n",
       "    </tr>\n",
       "    <tr>\n",
       "      <th>Equal-Weight Portfolio</th>\n",
       "      <td>10.2259%</td>\n",
       "      <td>7.9274%</td>\n",
       "    </tr>\n",
       "  </tbody>\n",
       "</table>\n",
       "</div>"
      ],
      "text/plain": [
       "                        Return (%)  Annualized Volatility (%)\n",
       "MCC Portfolio              6.1686%                    6.4208%\n",
       "Min CVaR Portfolio         3.4566%                    5.0654%\n",
       "Equal-Weight Portfolio    10.2259%                    7.9274%"
      ]
     },
     "execution_count": 20,
     "metadata": {},
     "output_type": "execute_result"
    }
   ],
   "source": [
    "summary_dynamic_df = pd.DataFrame({\n",
    "    'Return (%)': (cumulative_combined_returns_df.iloc[-1] - 1) * 100,\n",
    "        'Annualized Volatility (%)': combined_returns_df.std() * np.sqrt(252) * 100\n",
    "})\n",
    "summary_dynamic_df"
   ]
  },
  {
   "cell_type": "markdown",
   "metadata": {},
   "source": [
    "## Results"
   ]
  },
  {
   "cell_type": "code",
   "execution_count": 21,
   "metadata": {},
   "outputs": [],
   "source": [
    "mcc_weights_list = [mcc_weights_q1, mcc_weights_q2, mcc_weights_q3, mcc_weights_q4]\n",
    "min_cvar_weights_list = [min_cvar_weights_q1, min_cvar_weights_q2, min_cvar_weights_q3, min_cvar_weights_q4]\n",
    "\n",
    "mcc_weights_list_df = pd.DataFrame(mcc_weights_list, columns = returns.keys())\n",
    "mcc_weights_list_df.index = ['Q1', 'Q2', 'Q3', 'Q4']\n",
    "\n",
    "min_cvar_weights_list_df = pd.DataFrame(min_cvar_weights_list, columns = returns.keys())\n",
    "min_cvar_weights_list_df.index = ['Q1', 'Q2', 'Q3', 'Q4']\n",
    "\n",
    "ew_weights_df = pd.DataFrame([ew_weights] * 4, columns = returns.keys())\n",
    "ew_weights_df.index = ['Q1', 'Q2', 'Q3', 'Q4']\n",
    "\n",
    "min_cvar_weights_list_df = min_cvar_weights_list_df * 100\n",
    "mcc_weights_list_df = mcc_weights_list_df * 100\n",
    "ew_weights_df = ew_weights_df * 100\n",
    "\n",
    "returns_list = [returns_q1_test, returns_q2_test, returns_q3_test, returns_q4_test]\n",
    "\n",
    "mcc_cvar_pct_contributions_list = []\n",
    "min_cvar_cvar_pct_contributions_list = []\n",
    "ew_cvar_pct_contributions_list = []\n",
    "\n",
    "for i in range(n_assets):\n",
    "    mcc_cvar_contrubutions = individual_cvar_contributions(mcc_weights_list[i], returns_list[i], alpha)\n",
    "    mcc_cvar = cvar(portfolio_return(returns_list[i], mcc_weights_list[i]), alpha)\n",
    "    mcc_cvar_pct_contributions = mcc_cvar_contrubutions / mcc_cvar\n",
    "\n",
    "    min_cvar_cvar_contrubutions = individual_cvar_contributions(min_cvar_weights_list[i], returns_list[i], alpha)\n",
    "    min_cvar_cvar = cvar(portfolio_return(returns_list[i], min_cvar_weights_list[i]), alpha)\n",
    "    min_cvar_cvar_pct_contributions = min_cvar_cvar_contrubutions / min_cvar_cvar\n",
    "\n",
    "    ew_cvar_contrubutions = individual_cvar_contributions(ew_weights, returns_list[i], alpha)\n",
    "    ew_cvar = cvar(portfolio_return(returns_list[i], ew_weights), alpha)\n",
    "    ew_cvar_pct_contributions = ew_cvar_contrubutions / ew_cvar\n",
    "\n",
    "    \n",
    "    mcc_cvar_pct_contributions_list.append(mcc_cvar_pct_contributions)    \n",
    "    min_cvar_cvar_pct_contributions_list.append(min_cvar_cvar_pct_contributions)\n",
    "    ew_cvar_pct_contributions_list.append(ew_cvar_pct_contributions)\n",
    "\n",
    "mcc_cvar_pct_contributions_df = pd.DataFrame(mcc_cvar_pct_contributions_list, columns = returns.keys())\n",
    "mcc_cvar_pct_contributions_df.index = ['Q1', 'Q2', 'Q3', 'Q4']\n",
    "\n",
    "min_cvar_cvar_pct_contributions_df = pd.DataFrame(min_cvar_cvar_pct_contributions_list, columns = returns.keys())\n",
    "min_cvar_cvar_pct_contributions_df.index = ['Q1', 'Q2', 'Q3', 'Q4']\n",
    "\n",
    "ew_cvar_pct_contributions_df = pd.DataFrame(ew_cvar_pct_contributions_list, columns = returns.keys())\n",
    "ew_cvar_pct_contributions_df.index = ['Q1', 'Q2', 'Q3', 'Q4']\n",
    "\n",
    "mcc_cvar_pct_contributions_df = mcc_cvar_pct_contributions_df * 100\n",
    "min_cvar_cvar_pct_contributions_df = min_cvar_cvar_pct_contributions_df * 100\n",
    "ew_cvar_pct_contributions_df = ew_cvar_pct_contributions_df * 100"
   ]
  },
  {
   "cell_type": "code",
   "execution_count": 24,
   "metadata": {},
   "outputs": [
    {
     "data": {
      "text/markdown": [
       "### MCC Portfolio Weights (%)"
      ],
      "text/plain": [
       "<IPython.core.display.Markdown object>"
      ]
     },
     "metadata": {},
     "output_type": "display_data"
    },
    {
     "data": {
      "text/html": [
       "<div>\n",
       "<style scoped>\n",
       "    .dataframe tbody tr th:only-of-type {\n",
       "        vertical-align: middle;\n",
       "    }\n",
       "\n",
       "    .dataframe tbody tr th {\n",
       "        vertical-align: top;\n",
       "    }\n",
       "\n",
       "    .dataframe thead th {\n",
       "        text-align: right;\n",
       "    }\n",
       "</style>\n",
       "<table border=\"1\" class=\"dataframe\">\n",
       "  <thead>\n",
       "    <tr style=\"text-align: right;\">\n",
       "      <th>Ticker</th>\n",
       "      <th>GSG</th>\n",
       "      <th>VBTLX</th>\n",
       "      <th>VNQ</th>\n",
       "      <th>VTI</th>\n",
       "    </tr>\n",
       "  </thead>\n",
       "  <tbody>\n",
       "    <tr>\n",
       "      <th>Q1</th>\n",
       "      <td>12.0933%</td>\n",
       "      <td>66.0134%</td>\n",
       "      <td>10.1814%</td>\n",
       "      <td>11.7119%</td>\n",
       "    </tr>\n",
       "    <tr>\n",
       "      <th>Q2</th>\n",
       "      <td>12.4301%</td>\n",
       "      <td>64.5097%</td>\n",
       "      <td>10.3310%</td>\n",
       "      <td>12.7293%</td>\n",
       "    </tr>\n",
       "    <tr>\n",
       "      <th>Q3</th>\n",
       "      <td>25.9305%</td>\n",
       "      <td>25.9305%</td>\n",
       "      <td>22.3841%</td>\n",
       "      <td>25.7549%</td>\n",
       "    </tr>\n",
       "    <tr>\n",
       "      <th>Q4</th>\n",
       "      <td>12.1428%</td>\n",
       "      <td>64.9166%</td>\n",
       "      <td>10.1622%</td>\n",
       "      <td>12.7784%</td>\n",
       "    </tr>\n",
       "  </tbody>\n",
       "</table>\n",
       "</div>"
      ],
      "text/plain": [
       "Ticker      GSG    VBTLX      VNQ      VTI\n",
       "Q1     12.0933% 66.0134% 10.1814% 11.7119%\n",
       "Q2     12.4301% 64.5097% 10.3310% 12.7293%\n",
       "Q3     25.9305% 25.9305% 22.3841% 25.7549%\n",
       "Q4     12.1428% 64.9166% 10.1622% 12.7784%"
      ]
     },
     "metadata": {},
     "output_type": "display_data"
    },
    {
     "name": "stdout",
     "output_type": "stream",
     "text": [
      "\n"
     ]
    },
    {
     "data": {
      "text/markdown": [
       "### MCC Portfolio CVaR percentage contribution (%)"
      ],
      "text/plain": [
       "<IPython.core.display.Markdown object>"
      ]
     },
     "metadata": {},
     "output_type": "display_data"
    },
    {
     "data": {
      "text/html": [
       "<div>\n",
       "<style scoped>\n",
       "    .dataframe tbody tr th:only-of-type {\n",
       "        vertical-align: middle;\n",
       "    }\n",
       "\n",
       "    .dataframe tbody tr th {\n",
       "        vertical-align: top;\n",
       "    }\n",
       "\n",
       "    .dataframe thead th {\n",
       "        text-align: right;\n",
       "    }\n",
       "</style>\n",
       "<table border=\"1\" class=\"dataframe\">\n",
       "  <thead>\n",
       "    <tr style=\"text-align: right;\">\n",
       "      <th>Ticker</th>\n",
       "      <th>GSG</th>\n",
       "      <th>VBTLX</th>\n",
       "      <th>VNQ</th>\n",
       "      <th>VTI</th>\n",
       "    </tr>\n",
       "  </thead>\n",
       "  <tbody>\n",
       "    <tr>\n",
       "      <th>Q1</th>\n",
       "      <td>10.7558%</td>\n",
       "      <td>66.7896%</td>\n",
       "      <td>16.6989%</td>\n",
       "      <td>5.7557%</td>\n",
       "    </tr>\n",
       "    <tr>\n",
       "      <th>Q2</th>\n",
       "      <td>7.1893%</td>\n",
       "      <td>51.0137%</td>\n",
       "      <td>25.9962%</td>\n",
       "      <td>15.8008%</td>\n",
       "    </tr>\n",
       "    <tr>\n",
       "      <th>Q3</th>\n",
       "      <td>25.3392%</td>\n",
       "      <td>-1.1814%</td>\n",
       "      <td>22.9013%</td>\n",
       "      <td>52.9409%</td>\n",
       "    </tr>\n",
       "    <tr>\n",
       "      <th>Q4</th>\n",
       "      <td>5.3393%</td>\n",
       "      <td>52.4393%</td>\n",
       "      <td>28.2419%</td>\n",
       "      <td>13.9796%</td>\n",
       "    </tr>\n",
       "  </tbody>\n",
       "</table>\n",
       "</div>"
      ],
      "text/plain": [
       "Ticker      GSG    VBTLX      VNQ      VTI\n",
       "Q1     10.7558% 66.7896% 16.6989%  5.7557%\n",
       "Q2      7.1893% 51.0137% 25.9962% 15.8008%\n",
       "Q3     25.3392% -1.1814% 22.9013% 52.9409%\n",
       "Q4      5.3393% 52.4393% 28.2419% 13.9796%"
      ]
     },
     "metadata": {},
     "output_type": "display_data"
    },
    {
     "name": "stdout",
     "output_type": "stream",
     "text": [
      "\n",
      "\n"
     ]
    },
    {
     "data": {
      "text/markdown": [
       "### Min CVaR Portfolio Weights (%)"
      ],
      "text/plain": [
       "<IPython.core.display.Markdown object>"
      ]
     },
     "metadata": {},
     "output_type": "display_data"
    },
    {
     "data": {
      "text/html": [
       "<div>\n",
       "<style scoped>\n",
       "    .dataframe tbody tr th:only-of-type {\n",
       "        vertical-align: middle;\n",
       "    }\n",
       "\n",
       "    .dataframe tbody tr th {\n",
       "        vertical-align: top;\n",
       "    }\n",
       "\n",
       "    .dataframe thead th {\n",
       "        text-align: right;\n",
       "    }\n",
       "</style>\n",
       "<table border=\"1\" class=\"dataframe\">\n",
       "  <thead>\n",
       "    <tr style=\"text-align: right;\">\n",
       "      <th>Ticker</th>\n",
       "      <th>GSG</th>\n",
       "      <th>VBTLX</th>\n",
       "      <th>VNQ</th>\n",
       "      <th>VTI</th>\n",
       "    </tr>\n",
       "  </thead>\n",
       "  <tbody>\n",
       "    <tr>\n",
       "      <th>Q1</th>\n",
       "      <td>3.7399%</td>\n",
       "      <td>95.6289%</td>\n",
       "      <td>0.0000%</td>\n",
       "      <td>0.6311%</td>\n",
       "    </tr>\n",
       "    <tr>\n",
       "      <th>Q2</th>\n",
       "      <td>3.8126%</td>\n",
       "      <td>94.9498%</td>\n",
       "      <td>0.0000%</td>\n",
       "      <td>1.2376%</td>\n",
       "    </tr>\n",
       "    <tr>\n",
       "      <th>Q3</th>\n",
       "      <td>4.0431%</td>\n",
       "      <td>94.5603%</td>\n",
       "      <td>0.0000%</td>\n",
       "      <td>1.3966%</td>\n",
       "    </tr>\n",
       "    <tr>\n",
       "      <th>Q4</th>\n",
       "      <td>3.9979%</td>\n",
       "      <td>94.8483%</td>\n",
       "      <td>0.0000%</td>\n",
       "      <td>1.1538%</td>\n",
       "    </tr>\n",
       "  </tbody>\n",
       "</table>\n",
       "</div>"
      ],
      "text/plain": [
       "Ticker     GSG    VBTLX     VNQ     VTI\n",
       "Q1     3.7399% 95.6289% 0.0000% 0.6311%\n",
       "Q2     3.8126% 94.9498% 0.0000% 1.2376%\n",
       "Q3     4.0431% 94.5603% 0.0000% 1.3966%\n",
       "Q4     3.9979% 94.8483% 0.0000% 1.1538%"
      ]
     },
     "metadata": {},
     "output_type": "display_data"
    },
    {
     "name": "stdout",
     "output_type": "stream",
     "text": [
      "\n"
     ]
    },
    {
     "data": {
      "text/markdown": [
       "### Min CVaR Portfolio CVaR percentage contribution (%)"
      ],
      "text/plain": [
       "<IPython.core.display.Markdown object>"
      ]
     },
     "metadata": {},
     "output_type": "display_data"
    },
    {
     "data": {
      "text/html": [
       "<div>\n",
       "<style scoped>\n",
       "    .dataframe tbody tr th:only-of-type {\n",
       "        vertical-align: middle;\n",
       "    }\n",
       "\n",
       "    .dataframe tbody tr th {\n",
       "        vertical-align: top;\n",
       "    }\n",
       "\n",
       "    .dataframe thead th {\n",
       "        text-align: right;\n",
       "    }\n",
       "</style>\n",
       "<table border=\"1\" class=\"dataframe\">\n",
       "  <thead>\n",
       "    <tr style=\"text-align: right;\">\n",
       "      <th>Ticker</th>\n",
       "      <th>GSG</th>\n",
       "      <th>VBTLX</th>\n",
       "      <th>VNQ</th>\n",
       "      <th>VTI</th>\n",
       "    </tr>\n",
       "  </thead>\n",
       "  <tbody>\n",
       "    <tr>\n",
       "      <th>Q1</th>\n",
       "      <td>3.3134%</td>\n",
       "      <td>96.3776%</td>\n",
       "      <td>0.0000%</td>\n",
       "      <td>0.3090%</td>\n",
       "    </tr>\n",
       "    <tr>\n",
       "      <th>Q2</th>\n",
       "      <td>0.2917%</td>\n",
       "      <td>99.0644%</td>\n",
       "      <td>0.0000%</td>\n",
       "      <td>0.6439%</td>\n",
       "    </tr>\n",
       "    <tr>\n",
       "      <th>Q3</th>\n",
       "      <td>2.5291%</td>\n",
       "      <td>98.5392%</td>\n",
       "      <td>-0.0000%</td>\n",
       "      <td>-1.0683%</td>\n",
       "    </tr>\n",
       "    <tr>\n",
       "      <th>Q4</th>\n",
       "      <td>0.4638%</td>\n",
       "      <td>99.6856%</td>\n",
       "      <td>0.0000%</td>\n",
       "      <td>-0.1495%</td>\n",
       "    </tr>\n",
       "  </tbody>\n",
       "</table>\n",
       "</div>"
      ],
      "text/plain": [
       "Ticker     GSG    VBTLX      VNQ      VTI\n",
       "Q1     3.3134% 96.3776%  0.0000%  0.3090%\n",
       "Q2     0.2917% 99.0644%  0.0000%  0.6439%\n",
       "Q3     2.5291% 98.5392% -0.0000% -1.0683%\n",
       "Q4     0.4638% 99.6856%  0.0000% -0.1495%"
      ]
     },
     "metadata": {},
     "output_type": "display_data"
    },
    {
     "name": "stdout",
     "output_type": "stream",
     "text": [
      "\n",
      "\n"
     ]
    },
    {
     "data": {
      "text/markdown": [
       "### Equal-Weight Portfolio Weights (%)"
      ],
      "text/plain": [
       "<IPython.core.display.Markdown object>"
      ]
     },
     "metadata": {},
     "output_type": "display_data"
    },
    {
     "data": {
      "text/html": [
       "<div>\n",
       "<style scoped>\n",
       "    .dataframe tbody tr th:only-of-type {\n",
       "        vertical-align: middle;\n",
       "    }\n",
       "\n",
       "    .dataframe tbody tr th {\n",
       "        vertical-align: top;\n",
       "    }\n",
       "\n",
       "    .dataframe thead th {\n",
       "        text-align: right;\n",
       "    }\n",
       "</style>\n",
       "<table border=\"1\" class=\"dataframe\">\n",
       "  <thead>\n",
       "    <tr style=\"text-align: right;\">\n",
       "      <th>Ticker</th>\n",
       "      <th>GSG</th>\n",
       "      <th>VBTLX</th>\n",
       "      <th>VNQ</th>\n",
       "      <th>VTI</th>\n",
       "    </tr>\n",
       "  </thead>\n",
       "  <tbody>\n",
       "    <tr>\n",
       "      <th>Q1</th>\n",
       "      <td>25.0000%</td>\n",
       "      <td>25.0000%</td>\n",
       "      <td>25.0000%</td>\n",
       "      <td>25.0000%</td>\n",
       "    </tr>\n",
       "    <tr>\n",
       "      <th>Q2</th>\n",
       "      <td>25.0000%</td>\n",
       "      <td>25.0000%</td>\n",
       "      <td>25.0000%</td>\n",
       "      <td>25.0000%</td>\n",
       "    </tr>\n",
       "    <tr>\n",
       "      <th>Q3</th>\n",
       "      <td>25.0000%</td>\n",
       "      <td>25.0000%</td>\n",
       "      <td>25.0000%</td>\n",
       "      <td>25.0000%</td>\n",
       "    </tr>\n",
       "    <tr>\n",
       "      <th>Q4</th>\n",
       "      <td>25.0000%</td>\n",
       "      <td>25.0000%</td>\n",
       "      <td>25.0000%</td>\n",
       "      <td>25.0000%</td>\n",
       "    </tr>\n",
       "  </tbody>\n",
       "</table>\n",
       "</div>"
      ],
      "text/plain": [
       "Ticker      GSG    VBTLX      VNQ      VTI\n",
       "Q1     25.0000% 25.0000% 25.0000% 25.0000%\n",
       "Q2     25.0000% 25.0000% 25.0000% 25.0000%\n",
       "Q3     25.0000% 25.0000% 25.0000% 25.0000%\n",
       "Q4     25.0000% 25.0000% 25.0000% 25.0000%"
      ]
     },
     "metadata": {},
     "output_type": "display_data"
    },
    {
     "name": "stdout",
     "output_type": "stream",
     "text": [
      "\n"
     ]
    },
    {
     "data": {
      "text/markdown": [
       "### Equal-Weight Portfolio CVaR percentage contribution (%)"
      ],
      "text/plain": [
       "<IPython.core.display.Markdown object>"
      ]
     },
     "metadata": {},
     "output_type": "display_data"
    },
    {
     "data": {
      "text/html": [
       "<div>\n",
       "<style scoped>\n",
       "    .dataframe tbody tr th:only-of-type {\n",
       "        vertical-align: middle;\n",
       "    }\n",
       "\n",
       "    .dataframe tbody tr th {\n",
       "        vertical-align: top;\n",
       "    }\n",
       "\n",
       "    .dataframe thead th {\n",
       "        text-align: right;\n",
       "    }\n",
       "</style>\n",
       "<table border=\"1\" class=\"dataframe\">\n",
       "  <thead>\n",
       "    <tr style=\"text-align: right;\">\n",
       "      <th>Ticker</th>\n",
       "      <th>GSG</th>\n",
       "      <th>VBTLX</th>\n",
       "      <th>VNQ</th>\n",
       "      <th>VTI</th>\n",
       "    </tr>\n",
       "  </thead>\n",
       "  <tbody>\n",
       "    <tr>\n",
       "      <th>Q1</th>\n",
       "      <td>12.1522%</td>\n",
       "      <td>4.2272%</td>\n",
       "      <td>46.3976%</td>\n",
       "      <td>37.2230%</td>\n",
       "    </tr>\n",
       "    <tr>\n",
       "      <th>Q2</th>\n",
       "      <td>14.8000%</td>\n",
       "      <td>10.7244%</td>\n",
       "      <td>49.8154%</td>\n",
       "      <td>24.6601%</td>\n",
       "    </tr>\n",
       "    <tr>\n",
       "      <th>Q3</th>\n",
       "      <td>24.3671%</td>\n",
       "      <td>-1.1361%</td>\n",
       "      <td>25.5120%</td>\n",
       "      <td>51.2570%</td>\n",
       "    </tr>\n",
       "    <tr>\n",
       "      <th>Q4</th>\n",
       "      <td>20.1089%</td>\n",
       "      <td>13.6763%</td>\n",
       "      <td>44.9047%</td>\n",
       "      <td>21.3101%</td>\n",
       "    </tr>\n",
       "  </tbody>\n",
       "</table>\n",
       "</div>"
      ],
      "text/plain": [
       "Ticker      GSG    VBTLX      VNQ      VTI\n",
       "Q1     12.1522%  4.2272% 46.3976% 37.2230%\n",
       "Q2     14.8000% 10.7244% 49.8154% 24.6601%\n",
       "Q3     24.3671% -1.1361% 25.5120% 51.2570%\n",
       "Q4     20.1089% 13.6763% 44.9047% 21.3101%"
      ]
     },
     "metadata": {},
     "output_type": "display_data"
    }
   ],
   "source": [
    "display(Markdown('### MCC Portfolio Weights (%)'))\n",
    "display(mcc_weights_list_df)\n",
    "print()\n",
    "display(Markdown('### MCC Portfolio CVaR percentage contribution (%)'))\n",
    "display(mcc_cvar_pct_contributions_df)\n",
    "print()\n",
    "print()\n",
    "\n",
    "display(Markdown('### Min CVaR Portfolio Weights (%)'))\n",
    "display(min_cvar_weights_list_df)\n",
    "print()\n",
    "display(Markdown('### Min CVaR Portfolio CVaR percentage contribution (%)'))\n",
    "display(min_cvar_cvar_pct_contributions_df)\n",
    "print()\n",
    "print()\n",
    "\n",
    "display(Markdown('### Equal-Weight Portfolio Weights (%)'))\n",
    "display(ew_weights_df)\n",
    "print()\n",
    "display(Markdown('### Equal-Weight Portfolio CVaR percentage contribution (%)'))\n",
    "display(ew_cvar_pct_contributions_df)"
   ]
  },
  {
   "cell_type": "code",
   "execution_count": 23,
   "metadata": {},
   "outputs": [
    {
     "data": {
      "text/markdown": [
       "### Summary of Static Portfolios"
      ],
      "text/plain": [
       "<IPython.core.display.Markdown object>"
      ]
     },
     "metadata": {},
     "output_type": "display_data"
    },
    {
     "data": {
      "text/html": [
       "<div>\n",
       "<style scoped>\n",
       "    .dataframe tbody tr th:only-of-type {\n",
       "        vertical-align: middle;\n",
       "    }\n",
       "\n",
       "    .dataframe tbody tr th {\n",
       "        vertical-align: top;\n",
       "    }\n",
       "\n",
       "    .dataframe thead th {\n",
       "        text-align: right;\n",
       "    }\n",
       "</style>\n",
       "<table border=\"1\" class=\"dataframe\">\n",
       "  <thead>\n",
       "    <tr style=\"text-align: right;\">\n",
       "      <th></th>\n",
       "      <th>Return (%)</th>\n",
       "      <th>Annualized Volatility (%)</th>\n",
       "    </tr>\n",
       "  </thead>\n",
       "  <tbody>\n",
       "    <tr>\n",
       "      <th>MCC Portfolio</th>\n",
       "      <td>5.5455%</td>\n",
       "      <td>5.4313%</td>\n",
       "    </tr>\n",
       "    <tr>\n",
       "      <th>Min CVaR Portfolio</th>\n",
       "      <td>2.1365%</td>\n",
       "      <td>5.1340%</td>\n",
       "    </tr>\n",
       "    <tr>\n",
       "      <th>Equal-Weight Portfolio</th>\n",
       "      <td>9.9529%</td>\n",
       "      <td>7.8967%</td>\n",
       "    </tr>\n",
       "  </tbody>\n",
       "</table>\n",
       "</div>"
      ],
      "text/plain": [
       "                        Return (%)  Annualized Volatility (%)\n",
       "MCC Portfolio              5.5455%                    5.4313%\n",
       "Min CVaR Portfolio         2.1365%                    5.1340%\n",
       "Equal-Weight Portfolio     9.9529%                    7.8967%"
      ]
     },
     "metadata": {},
     "output_type": "display_data"
    },
    {
     "name": "stdout",
     "output_type": "stream",
     "text": [
      "\n"
     ]
    },
    {
     "data": {
      "text/markdown": [
       "### Summary of Dynamic Portfolios"
      ],
      "text/plain": [
       "<IPython.core.display.Markdown object>"
      ]
     },
     "metadata": {},
     "output_type": "display_data"
    },
    {
     "data": {
      "text/html": [
       "<div>\n",
       "<style scoped>\n",
       "    .dataframe tbody tr th:only-of-type {\n",
       "        vertical-align: middle;\n",
       "    }\n",
       "\n",
       "    .dataframe tbody tr th {\n",
       "        vertical-align: top;\n",
       "    }\n",
       "\n",
       "    .dataframe thead th {\n",
       "        text-align: right;\n",
       "    }\n",
       "</style>\n",
       "<table border=\"1\" class=\"dataframe\">\n",
       "  <thead>\n",
       "    <tr style=\"text-align: right;\">\n",
       "      <th></th>\n",
       "      <th>Return (%)</th>\n",
       "      <th>Annualized Volatility (%)</th>\n",
       "    </tr>\n",
       "  </thead>\n",
       "  <tbody>\n",
       "    <tr>\n",
       "      <th>MCC Portfolio</th>\n",
       "      <td>6.1686%</td>\n",
       "      <td>6.4208%</td>\n",
       "    </tr>\n",
       "    <tr>\n",
       "      <th>Min CVaR Portfolio</th>\n",
       "      <td>3.4566%</td>\n",
       "      <td>5.0654%</td>\n",
       "    </tr>\n",
       "    <tr>\n",
       "      <th>Equal-Weight Portfolio</th>\n",
       "      <td>10.2259%</td>\n",
       "      <td>7.9274%</td>\n",
       "    </tr>\n",
       "  </tbody>\n",
       "</table>\n",
       "</div>"
      ],
      "text/plain": [
       "                        Return (%)  Annualized Volatility (%)\n",
       "MCC Portfolio              6.1686%                    6.4208%\n",
       "Min CVaR Portfolio         3.4566%                    5.0654%\n",
       "Equal-Weight Portfolio    10.2259%                    7.9274%"
      ]
     },
     "metadata": {},
     "output_type": "display_data"
    }
   ],
   "source": [
    "display(Markdown('### Summary of Static Portfolios'))\n",
    "display(summary_df)\n",
    "print()\n",
    "display(Markdown('### Summary of Dynamic Portfolios'))\n",
    "display(summary_dynamic_df)"
   ]
  },
  {
   "cell_type": "markdown",
   "metadata": {},
   "source": [
    "The results show that all three strategies yield slightly higher returns when the portfolios are rebalanced, excluding any transaction costs. The MCC Portfolio approach offers a more effective risk allocation compared to the traditional Minimum CVaR Portfolio. While the Min CVaR Portfolio only focuses on minimizing the total portfolio CVaR, it can often make portfolios with too much risk exposure in specific assets."
   ]
  }
 ],
 "metadata": {
  "kernelspec": {
   "display_name": "base",
   "language": "python",
   "name": "python3"
  },
  "language_info": {
   "codemirror_mode": {
    "name": "ipython",
    "version": 3
   },
   "file_extension": ".py",
   "mimetype": "text/x-python",
   "name": "python",
   "nbconvert_exporter": "python",
   "pygments_lexer": "ipython3",
   "version": "3.12.3"
  }
 },
 "nbformat": 4,
 "nbformat_minor": 2
}
