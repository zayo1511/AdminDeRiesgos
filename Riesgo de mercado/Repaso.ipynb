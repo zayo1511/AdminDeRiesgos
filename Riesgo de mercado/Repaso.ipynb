{
 "cells": [
  {
   "cell_type": "markdown",
   "metadata": {},
   "source": [
    "# PKGS"
   ]
  },
  {
   "cell_type": "code",
   "execution_count": 1,
   "metadata": {},
   "outputs": [],
   "source": [
    "import pandas as pd\n",
    "import yfinance as yf\n",
    "import numpy as np\n",
    "from IPython.display import display\n",
    "\n",
    "pd.set_option('display.float_format', '{:,.2f}'.format)"
   ]
  },
  {
   "cell_type": "markdown",
   "metadata": {},
   "source": [
    "# VaR/CVaR Forex"
   ]
  },
  {
   "cell_type": "code",
   "execution_count": 2,
   "metadata": {},
   "outputs": [],
   "source": [
    "def VaR_CVaR_Fx(data, positions, conf, long):\n",
    "     port = data * positions \n",
    "     total = port.sum(axis=1)\n",
    "     rt = total.pct_change().dropna()\n",
    "\n",
    "     var = np.percentile(rt,100-conf) if long else np.percentile(rt,conf)\n",
    "     cvar = rt[rt < var].mean() if long else rt[rt > var].mean()\n",
    "\n",
    "     var_m = var * total.iloc[-1]\n",
    "     cvar_m = cvar * total.iloc[-1]\n",
    "\n",
    "     resultados_df = pd.DataFrame({\"Métrica\": [\"VaR\", \"CVaR\"], \"Porcentual (%)\": [var, cvar], \"Monetario ($)\": [var_m, cvar_m]})\n",
    "\n",
    "     return resultados_df"
   ]
  },
  {
   "cell_type": "code",
   "execution_count": 3,
   "metadata": {},
   "outputs": [
    {
     "name": "stderr",
     "output_type": "stream",
     "text": [
      "[*********************100%***********************]  2 of 2 completed\n"
     ]
    },
    {
     "data": {
      "text/html": [
       "<div>\n",
       "<style scoped>\n",
       "    .dataframe tbody tr th:only-of-type {\n",
       "        vertical-align: middle;\n",
       "    }\n",
       "\n",
       "    .dataframe tbody tr th {\n",
       "        vertical-align: top;\n",
       "    }\n",
       "\n",
       "    .dataframe thead th {\n",
       "        text-align: right;\n",
       "    }\n",
       "</style>\n",
       "<table border=\"1\" class=\"dataframe\">\n",
       "  <thead>\n",
       "    <tr style=\"text-align: right;\">\n",
       "      <th></th>\n",
       "      <th>Métrica</th>\n",
       "      <th>Porcentual (%)</th>\n",
       "      <th>Monetario ($)</th>\n",
       "    </tr>\n",
       "  </thead>\n",
       "  <tbody>\n",
       "    <tr>\n",
       "      <th>0</th>\n",
       "      <td>VaR</td>\n",
       "      <td>-1.85</td>\n",
       "      <td>-5,041,647.69</td>\n",
       "    </tr>\n",
       "    <tr>\n",
       "      <th>1</th>\n",
       "      <td>CVaR</td>\n",
       "      <td>-2.38</td>\n",
       "      <td>-6,478,978.99</td>\n",
       "    </tr>\n",
       "  </tbody>\n",
       "</table>\n",
       "</div>"
      ],
      "text/plain": [
       "  Métrica  Porcentual (%)  Monetario ($)\n",
       "0     VaR           -1.85  -5,041,647.69\n",
       "1    CVaR           -2.38  -6,478,978.99"
      ]
     },
     "execution_count": 3,
     "metadata": {},
     "output_type": "execute_result"
    }
   ],
   "source": [
    "data = yf.download(['CHFMXN=X', 'MXN=X'], start='2020-01-01', end='2024-12-02')['Close'] #No puedo descargar el ajustado\n",
    "\n",
    "positions = [7100000, 5300000] #Ordenar alfabeticamente\n",
    "\n",
    "long = True #True o False\n",
    "\n",
    "NC = 99 #[0, 100]\n",
    "\n",
    "VaR_CVaR_Fx(data, positions, NC, long)"
   ]
  },
  {
   "cell_type": "markdown",
   "metadata": {},
   "source": [
    "# VaR/CVaR Stocks"
   ]
  },
  {
   "cell_type": "code",
   "execution_count": null,
   "metadata": {},
   "outputs": [],
   "source": [
    "def VaR_CVaR_Stocks(data, n_stocks, conf, long):\n",
    "     \n",
    "     valor_posicion = n_stocks * data.iloc[-1]\n",
    "     weights = [valor_posicion.iloc[i]/valor_posicion.sum() for i in range(len(n_stocks))]  \n",
    "     rt_assets = data.pct_change().dropna()\n",
    "     rt_port = rt_assets.mul(weights).sum(axis=1)\n",
    "\n",
    "     var = np.percentile(rt_port,100-conf) if long else np.percentile(rt_port,conf)\n",
    "     cvar = rt_port[rt_port < var].mean() if long else rt_port[rt_port > var].mean()\n",
    "          \n",
    "     var_m = var * valor_posicion.sum()\n",
    "     cvar_m = cvar * valor_posicion.sum()\n",
    "     \n",
    "     resultados_df = pd.DataFrame({\"Métrica\": [\"VaR\", \"CVaR\"], \"Porcentual (%)\": [var * 100, cvar * 100], \"Monetario ($)\": [var_m, cvar_m]})\n",
    "\n",
    "     return resultados_df"
   ]
  },
  {
   "cell_type": "code",
   "execution_count": null,
   "metadata": {},
   "outputs": [],
   "source": [
    "data = yf.download(['AAPL', 'AMD', 'JPM', 'LMT', 'TSLA'], start=\"2020-01-01\", end=\"2023-01-01\")['Close'] #No puedo descargar el ajustado\n",
    "\n",
    "positions = [2193, 3221, 1231, 761, 1211] #Ordenar alfabeticamente\n",
    "\n",
    "long = True #True o False\n",
    "\n",
    "conf = 95 #[0, 100]\n",
    "\n",
    "VaR_CVaR_Stocks(data, positions, conf, long)"
   ]
  },
  {
   "cell_type": "markdown",
   "metadata": {},
   "source": [
    "# Rebalanceo"
   ]
  },
  {
   "cell_type": "code",
   "execution_count": null,
   "metadata": {},
   "outputs": [],
   "source": [
    "def rebalanceo(initial_weights, optimal_weights):\n",
    "     \n",
    "     df = pd.DataFrame({\"Initial Weights\": initial_weights*100, \"Optimal Weights\": optimal_weights*100, \"Stocks difference\": np.floor((optimal_weights - initial_weights) * portfolio_value / data.iloc[-1])})\n",
    "     df['Buy/Sell'] = df['Stocks difference'].apply(lambda x: 'Buy' if x > 0 else ('Sell' if x < 0 else 'NA')) if long else df['Stocks difference'].apply(lambda x: 'Sell' if x > 0 else ('Buy' if x < 0 else 'NA'))\n",
    "     \n",
    "     return df"
   ]
  },
  {
   "cell_type": "code",
   "execution_count": null,
   "metadata": {},
   "outputs": [],
   "source": []
  }
 ],
 "metadata": {
  "kernelspec": {
   "display_name": "base",
   "language": "python",
   "name": "python3"
  },
  "language_info": {
   "codemirror_mode": {
    "name": "ipython",
    "version": 3
   },
   "file_extension": ".py",
   "mimetype": "text/x-python",
   "name": "python",
   "nbconvert_exporter": "python",
   "pygments_lexer": "ipython3",
   "version": "3.12.7"
  }
 },
 "nbformat": 4,
 "nbformat_minor": 2
}
