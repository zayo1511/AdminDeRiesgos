{
 "cells": [
  {
   "cell_type": "markdown",
   "metadata": {},
   "source": [
    "# Tarea 4\n",
    "\n",
    "Diego Lozoya Morales | 745345"
   ]
  },
  {
   "cell_type": "markdown",
   "metadata": {},
   "source": [
    "# Paqueterias"
   ]
  },
  {
   "cell_type": "code",
   "execution_count": 1,
   "metadata": {},
   "outputs": [],
   "source": [
    "import numpy as np\n",
    "import pandas as pd\n",
    "from scipy.stats import norm"
   ]
  },
  {
   "cell_type": "markdown",
   "metadata": {},
   "source": [
    "# Ejercicio 1"
   ]
  },
  {
   "cell_type": "code",
   "execution_count": 2,
   "metadata": {},
   "outputs": [],
   "source": [
    "call_blsdelta = lambda S, k, r, sigma, T: norm.cdf((np.log(S/k) + (r + 0.5 * sigma**2) * T) / (sigma * np.sqrt(T)))\n",
    "\n",
    "put_blsdelta = lambda S, k, r, sigma, T: np.abs(norm.cdf((np.log(S/k) + (r + 0.5 * sigma ** 2) * T) / (sigma * np.sqrt(T))) - 1)\n",
    "\n",
    "def delta_hedge(info_call, info_put):\n",
    "\n",
    "    df_call = pd.DataFrame(info_call, columns=['S', 'K', 'r', 'sigma', 'T', 'N'])\n",
    "    df_put = pd.DataFrame(info_put, columns=['S', 'K', 'r', 'sigma', 'T', 'N'])\n",
    "    \n",
    "    deltas_call_list = [call_blsdelta(*df_call.values[i][0:-1]) for i in range(len(df_call))]\n",
    "    deltas_put_list = [put_blsdelta(*df_put.values[i][0:-1]) for i in range(len(df_call))]\n",
    "\n",
    "    return np.dot(df_call.N, deltas_call_list) - np.dot(df_put.N, deltas_put_list)"
   ]
  },
  {
   "cell_type": "markdown",
   "metadata": {},
   "source": [
    "# Ejercicio 2"
   ]
  },
  {
   "cell_type": "markdown",
   "metadata": {},
   "source": [
    "## Ejericio 2a"
   ]
  },
  {
   "cell_type": "code",
   "execution_count": 3,
   "metadata": {},
   "outputs": [],
   "source": [
    "# Escribir listas en formato ['S', 'K', 'r', 'sigma', 'T', 'N']\n",
    "\n",
    "info_call = [[5.27, 5.35, 0.0453, 0.31, 1/12, 12],\n",
    "            [5.27, 5.4, 0.0453, 0.312, 1/12, 9],\n",
    "            [5.27, 5.35, 0.0468, 0.334, 3/12, 5],\n",
    "            [5.27, 5.4, 0.0468, 0.321, 3/12, 3]]\n",
    "\n",
    "info_put = [[5.27, 5.25, 0.0453, 0.37, 1/12, 21],\n",
    "            [5.27, 5.23, 0.0453, 0.373, 1/12, 22],\n",
    "            [5.27, 5.25, 0.0468, 0.412, 3/12, 23],\n",
    "            [5.27, 5.23, 0.0468, 0.431, 3/12, 17]]"
   ]
  },
  {
   "cell_type": "code",
   "execution_count": 4,
   "metadata": {},
   "outputs": [
    {
     "name": "stdout",
     "output_type": "stream",
     "text": [
      "Vender en corto -22.525640 MDD del activo subyacente\n"
     ]
    }
   ],
   "source": [
    "net_1 = delta_hedge(info_call, info_put)\n",
    "print(f'Vender en corto {net_1:,.6f} MDD del activo subyacente')"
   ]
  },
  {
   "cell_type": "markdown",
   "metadata": {},
   "source": [
    "## Ejercicio 2b"
   ]
  },
  {
   "cell_type": "code",
   "execution_count": 5,
   "metadata": {},
   "outputs": [],
   "source": [
    "# Escribir listas en formato ['S', 'K', 'r', 'sigma', 'T', 'N']\n",
    "\n",
    "info_call = [[5.275, 5.35, 0.0453, 0.321, 1/12, 12],\n",
    "            [5.275, 5.4, 0.0453, 0.332, 1/12, 9],\n",
    "            [5.275, 5.35, 0.0468, 0.311, 3/12, 5],\n",
    "            [5.275, 5.4, 0.0468, 0.338, 3/12, 3]]\n",
    "\n",
    "info_put = [[5.275, 5.25, 0.0453, 0.41, 1/12, 21],\n",
    "            [5.275, 5.23, 0.0453, 0.372, 1/12, 22],\n",
    "            [5.275, 5.25, 0.0468, 0.362, 3/12, 23],\n",
    "            [5.275, 5.23, 0.0468, 0.411, 3/12, 17]]"
   ]
  },
  {
   "cell_type": "code",
   "execution_count": 6,
   "metadata": {},
   "outputs": [
    {
     "name": "stdout",
     "output_type": "stream",
     "text": [
      "Vender en corto -22.150848 MDD del activo subyacente\n",
      "Considerando la posición anterior comprar 0.374792 MDD del activo subyacente\n"
     ]
    }
   ],
   "source": [
    "net_2 = delta_hedge(info_call, info_put)\n",
    "print(f'Vender en corto {net_2:,.6f} MDD del activo subyacente')\n",
    "\n",
    "net_final = net_2 - net_1\n",
    "print(f'Considerando la posición anterior comprar {net_final:,.6f} MDD del activo subyacente')"
   ]
  }
 ],
 "metadata": {
  "kernelspec": {
   "display_name": "base",
   "language": "python",
   "name": "python3"
  },
  "language_info": {
   "codemirror_mode": {
    "name": "ipython",
    "version": 3
   },
   "file_extension": ".py",
   "mimetype": "text/x-python",
   "name": "python",
   "nbconvert_exporter": "python",
   "pygments_lexer": "ipython3",
   "version": "3.12.7"
  }
 },
 "nbformat": 4,
 "nbformat_minor": 2
}
