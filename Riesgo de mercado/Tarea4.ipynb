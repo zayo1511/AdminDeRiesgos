{
 "cells": [
  {
   "cell_type": "code",
   "execution_count": 1,
   "metadata": {},
   "outputs": [],
   "source": [
    "import numpy as np\n",
    "import pandas as pd\n",
    "from scipy.stats import norm"
   ]
  },
  {
   "cell_type": "markdown",
   "metadata": {},
   "source": [
    "## Ejercicio 1"
   ]
  },
  {
   "cell_type": "code",
   "execution_count": 2,
   "metadata": {},
   "outputs": [],
   "source": [
    "def call_blsdelta(S, k, r, sigma, T):\n",
    "    d1 = (np.log(S/k) + (r + 0.5 * sigma ** 2) * T) / (sigma * np.sqrt(T))\n",
    "    return norm.cdf(d1)"
   ]
  },
  {
   "cell_type": "code",
   "execution_count": 3,
   "metadata": {},
   "outputs": [],
   "source": [
    "def put_blsdelta(S, k, r, sigma, T):\n",
    "    d1 = (np.log(S/k) + (r + 0.5 * sigma ** 2) * T) / (sigma * np.sqrt(T))\n",
    "    return np.abs(norm.cdf(d1) - 1)"
   ]
  },
  {
   "cell_type": "markdown",
   "metadata": {},
   "source": [
    "### Ejemplo clase"
   ]
  },
  {
   "cell_type": "code",
   "execution_count": 4,
   "metadata": {},
   "outputs": [],
   "source": [
    "def delta_hedge(info_call, info_put):\n",
    "\n",
    "    # Dataframe for call and put options\n",
    "    df_call = pd.DataFrame(info_call, columns=['S', 'K', 'r', 'sigma', 'T', 'N'])\n",
    "    df_put = pd.DataFrame(info_put, columns=['S', 'K', 'r', 'sigma', 'T', 'N'])\n",
    "\n",
    "    # List for deltas\n",
    "    deltas_call_list = []\n",
    "    deltas_put_list = []\n",
    "\n",
    "    # Calculate deltas\n",
    "    for i in range(len(df_call)):\n",
    "        deltas_call = call_blsdelta(*df_call.values[i][0:-1])\n",
    "        deltas_put = put_blsdelta(*df_put.values[i][0:-1])\n",
    "\n",
    "        deltas_call_list.append(deltas_call)\n",
    "        deltas_put_list.append(deltas_put)\n",
    "    return np.dot(df_call['N'], deltas_call_list) - np.dot(df_put['N'], deltas_put_list)"
   ]
  },
  {
   "cell_type": "code",
   "execution_count": 5,
   "metadata": {},
   "outputs": [],
   "source": [
    "# Escribir en orden de S, K, r, sigma, T, Nocional\n",
    "\n",
    "info_call = [[20.3, 20.43, 0.0425, 0.102, 1/12, 23],\n",
    "            [20.3, 20.52, 0.0425, 0.111, 1/12, 25],\n",
    "            [20.3, 20.43, 0.0421, 0.297, 6/12, 17],\n",
    "            [20.3, 20.52, 0.0421, 0.289, 6/12, 32]]\n",
    "\n",
    "info_put = [[20.3, 20.2, 0.0425, 0.156, 1/12, 12],\n",
    "            [20.3, 20, 0.0425, 0.153, 1/12, 16],\n",
    "            [20.3, 20.2, 0.0421, 0.348, 6/12, 11],\n",
    "            [20.3, 20, 0.0421, 0.378, 6/12, 17]]"
   ]
  },
  {
   "cell_type": "code",
   "execution_count": 6,
   "metadata": {},
   "outputs": [
    {
     "data": {
      "text/plain": [
       "27.301081694288555"
      ]
     },
     "execution_count": 6,
     "metadata": {},
     "output_type": "execute_result"
    }
   ],
   "source": [
    "delta_hedge(info_call, info_put)"
   ]
  },
  {
   "cell_type": "markdown",
   "metadata": {},
   "source": [
    "## Ejercicio 2"
   ]
  },
  {
   "cell_type": "markdown",
   "metadata": {},
   "source": [
    "### Ejericio 2a"
   ]
  },
  {
   "cell_type": "code",
   "execution_count": 7,
   "metadata": {},
   "outputs": [],
   "source": [
    "info_call = [[5.27, 5.35, 0.0453, 0.31, 1/12, 12],\n",
    "            [5.27, 5.4, 0.0453, 0.312, 1/12, 9],\n",
    "            [5.27, 5.35, 0.0468, 0.334, 3/12, 5],\n",
    "            [5.27, 5.4, 0.0468, 0.321, 3/12, 3]]\n",
    "\n",
    "info_put = [[5.27, 5.25, 0.0453, 0.37, 1/12, 21],\n",
    "            [5.27, 5.23, 0.0453, 0.373, 1/12, 22],\n",
    "            [5.27, 5.25, 0.0468, 0.412, 3/12, 23],\n",
    "            [5.27, 5.23, 0.0468, 0.431, 3/12, 17]]"
   ]
  },
  {
   "cell_type": "code",
   "execution_count": 8,
   "metadata": {},
   "outputs": [
    {
     "name": "stdout",
     "output_type": "stream",
     "text": [
      "Vender en corto -22.525640089867505 MDD del activo subyacente\n"
     ]
    }
   ],
   "source": [
    "net_1 = delta_hedge(info_call, info_put)\n",
    "print(f'Vender en corto {net_1} MDD del activo subyacente')"
   ]
  },
  {
   "cell_type": "code",
   "execution_count": 9,
   "metadata": {},
   "outputs": [],
   "source": [
    "info_call = [[5.275, 5.35, 0.0453, 0.321, 1/12, 12],\n",
    "            [5.275, 5.4, 0.0453, 0.332, 1/12, 9],\n",
    "            [5.275, 5.35, 0.0468, 0.311, 3/12, 5],\n",
    "            [5.275, 5.4, 0.0468, 0.338, 3/12, 3]]\n",
    "\n",
    "info_put = [[5.275, 5.25, 0.0453, 0.41, 1/12, 21],\n",
    "            [5.275, 5.23, 0.0453, 0.372, 1/12, 22],\n",
    "            [5.275, 5.25, 0.0468, 0.362, 3/12, 23],\n",
    "            [5.275, 5.23, 0.0468, 0.411, 3/12, 17]]"
   ]
  },
  {
   "cell_type": "code",
   "execution_count": 10,
   "metadata": {},
   "outputs": [
    {
     "name": "stdout",
     "output_type": "stream",
     "text": [
      "Vender en corto -22.150848245451748 MDD del activo subyacente\n"
     ]
    }
   ],
   "source": [
    "net_2 = delta_hedge(info_call, info_put)\n",
    "print(f'Vender en corto {net_2} MDD del activo subyacente')"
   ]
  },
  {
   "cell_type": "code",
   "execution_count": 11,
   "metadata": {},
   "outputs": [
    {
     "name": "stdout",
     "output_type": "stream",
     "text": [
      "Considerando la posición anterior comprar 0.37479184441575697 MDD del activo subyacente\n"
     ]
    }
   ],
   "source": [
    "net_final = net_2 - net_1\n",
    "print(f'Considerando la posición anterior comprar {net_final} MDD del activo subyacente')"
   ]
  }
 ],
 "metadata": {
  "kernelspec": {
   "display_name": "base",
   "language": "python",
   "name": "python3"
  },
  "language_info": {
   "codemirror_mode": {
    "name": "ipython",
    "version": 3
   },
   "file_extension": ".py",
   "mimetype": "text/x-python",
   "name": "python",
   "nbconvert_exporter": "python",
   "pygments_lexer": "ipython3",
   "version": "3.12.7"
  }
 },
 "nbformat": 4,
 "nbformat_minor": 2
}
