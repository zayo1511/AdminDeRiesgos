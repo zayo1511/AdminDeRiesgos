{
 "cells": [
  {
   "cell_type": "code",
   "execution_count": 1,
   "metadata": {},
   "outputs": [],
   "source": [
    "import pandas as pd\n",
    "import yfinance as yf\n",
    "import numpy as np\n",
    "from scipy.stats import norm\n",
    "from IPython.display import display\n",
    "\n",
    "#pd.set_option('display.float_format', '{:,.2f}'.format)"
   ]
  },
  {
   "cell_type": "markdown",
   "metadata": {},
   "source": [
    "# 1)"
   ]
  },
  {
   "cell_type": "code",
   "execution_count": 2,
   "metadata": {},
   "outputs": [
    {
     "data": {
      "text/html": [
       "<div>\n",
       "<style scoped>\n",
       "    .dataframe tbody tr th:only-of-type {\n",
       "        vertical-align: middle;\n",
       "    }\n",
       "\n",
       "    .dataframe tbody tr th {\n",
       "        vertical-align: top;\n",
       "    }\n",
       "\n",
       "    .dataframe thead th {\n",
       "        text-align: right;\n",
       "    }\n",
       "</style>\n",
       "<table border=\"1\" class=\"dataframe\">\n",
       "  <thead>\n",
       "    <tr style=\"text-align: right;\">\n",
       "      <th></th>\n",
       "      <th>ABT</th>\n",
       "      <th>KXI</th>\n",
       "      <th>QQQ</th>\n",
       "      <th>X</th>\n",
       "      <th>XOM</th>\n",
       "    </tr>\n",
       "    <tr>\n",
       "      <th>Date</th>\n",
       "      <th></th>\n",
       "      <th></th>\n",
       "      <th></th>\n",
       "      <th></th>\n",
       "      <th></th>\n",
       "    </tr>\n",
       "  </thead>\n",
       "  <tbody>\n",
       "    <tr>\n",
       "      <th>2020-01-02</th>\n",
       "      <td>79.689949</td>\n",
       "      <td>49.628918</td>\n",
       "      <td>209.976120</td>\n",
       "      <td>10.506616</td>\n",
       "      <td>55.631172</td>\n",
       "    </tr>\n",
       "    <tr>\n",
       "      <th>2020-01-03</th>\n",
       "      <td>78.718468</td>\n",
       "      <td>49.584068</td>\n",
       "      <td>208.052765</td>\n",
       "      <td>10.428932</td>\n",
       "      <td>55.183929</td>\n",
       "    </tr>\n",
       "    <tr>\n",
       "      <th>2020-01-06</th>\n",
       "      <td>79.130875</td>\n",
       "      <td>49.736576</td>\n",
       "      <td>209.393250</td>\n",
       "      <td>10.477486</td>\n",
       "      <td>55.607639</td>\n",
       "    </tr>\n",
       "    <tr>\n",
       "      <th>2020-01-07</th>\n",
       "      <td>78.690964</td>\n",
       "      <td>49.413612</td>\n",
       "      <td>209.364136</td>\n",
       "      <td>10.807637</td>\n",
       "      <td>55.152542</td>\n",
       "    </tr>\n",
       "    <tr>\n",
       "      <th>2020-01-08</th>\n",
       "      <td>79.011749</td>\n",
       "      <td>49.404640</td>\n",
       "      <td>210.937775</td>\n",
       "      <td>10.778504</td>\n",
       "      <td>54.320824</td>\n",
       "    </tr>\n",
       "    <tr>\n",
       "      <th>...</th>\n",
       "      <td>...</td>\n",
       "      <td>...</td>\n",
       "      <td>...</td>\n",
       "      <td>...</td>\n",
       "      <td>...</td>\n",
       "    </tr>\n",
       "    <tr>\n",
       "      <th>2024-12-04</th>\n",
       "      <td>115.970001</td>\n",
       "      <td>63.639999</td>\n",
       "      <td>523.260010</td>\n",
       "      <td>38.389999</td>\n",
       "      <td>114.279999</td>\n",
       "    </tr>\n",
       "    <tr>\n",
       "      <th>2024-12-05</th>\n",
       "      <td>115.589996</td>\n",
       "      <td>64.040001</td>\n",
       "      <td>521.809998</td>\n",
       "      <td>38.849998</td>\n",
       "      <td>114.779999</td>\n",
       "    </tr>\n",
       "    <tr>\n",
       "      <th>2024-12-06</th>\n",
       "      <td>115.599998</td>\n",
       "      <td>63.770000</td>\n",
       "      <td>526.479980</td>\n",
       "      <td>38.450001</td>\n",
       "      <td>113.570000</td>\n",
       "    </tr>\n",
       "    <tr>\n",
       "      <th>2024-12-09</th>\n",
       "      <td>114.900002</td>\n",
       "      <td>63.560001</td>\n",
       "      <td>522.380005</td>\n",
       "      <td>39.040001</td>\n",
       "      <td>112.900002</td>\n",
       "    </tr>\n",
       "    <tr>\n",
       "      <th>2024-12-10</th>\n",
       "      <td>115.500000</td>\n",
       "      <td>63.709999</td>\n",
       "      <td>520.599976</td>\n",
       "      <td>35.259998</td>\n",
       "      <td>112.669998</td>\n",
       "    </tr>\n",
       "  </tbody>\n",
       "</table>\n",
       "<p>1244 rows × 5 columns</p>\n",
       "</div>"
      ],
      "text/plain": [
       "                   ABT        KXI         QQQ          X         XOM\n",
       "Date                                                                \n",
       "2020-01-02   79.689949  49.628918  209.976120  10.506616   55.631172\n",
       "2020-01-03   78.718468  49.584068  208.052765  10.428932   55.183929\n",
       "2020-01-06   79.130875  49.736576  209.393250  10.477486   55.607639\n",
       "2020-01-07   78.690964  49.413612  209.364136  10.807637   55.152542\n",
       "2020-01-08   79.011749  49.404640  210.937775  10.778504   54.320824\n",
       "...                ...        ...         ...        ...         ...\n",
       "2024-12-04  115.970001  63.639999  523.260010  38.389999  114.279999\n",
       "2024-12-05  115.589996  64.040001  521.809998  38.849998  114.779999\n",
       "2024-12-06  115.599998  63.770000  526.479980  38.450001  113.570000\n",
       "2024-12-09  114.900002  63.560001  522.380005  39.040001  112.900002\n",
       "2024-12-10  115.500000  63.709999  520.599976  35.259998  112.669998\n",
       "\n",
       "[1244 rows x 5 columns]"
      ]
     },
     "execution_count": 2,
     "metadata": {},
     "output_type": "execute_result"
    }
   ],
   "source": [
    "data = pd.read_excel('DatosExamen.xlsx').set_index('Date')\n",
    "data"
   ]
  },
  {
   "cell_type": "code",
   "execution_count": 3,
   "metadata": {},
   "outputs": [],
   "source": [
    "def VaR_CVaR_Stocks(data, n_stocks, conf, long):\n",
    "     \n",
    "     valor_posicion = n_stocks * data.iloc[-1]\n",
    "     weights = [valor_posicion.iloc[i]/valor_posicion.sum() for i in range(len(n_stocks))]  \n",
    "     rt_assets = data.pct_change().dropna()\n",
    "     rt_port = rt_assets.mul(weights).sum(axis=1)\n",
    "\n",
    "     var = np.percentile(rt_port,100-conf) if long else np.percentile(rt_port,conf)\n",
    "     cvar = rt_port[rt_port < var].mean() if long else rt_port[rt_port > var].mean()\n",
    "          \n",
    "     var_m = var * valor_posicion.sum()\n",
    "     cvar_m = cvar * valor_posicion.sum()\n",
    "     \n",
    "     resultados_df = pd.DataFrame({\"Métrica\": [\"VaR\", \"CVaR\"], \"Porcentual (%)\": [var * 100, cvar * 100], \"Monetario ($)\": [var_m, cvar_m]})\n",
    "\n",
    "     return resultados_df"
   ]
  },
  {
   "cell_type": "code",
   "execution_count": 4,
   "metadata": {},
   "outputs": [
    {
     "data": {
      "text/plain": [
       "-120212.0"
      ]
     },
     "execution_count": 4,
     "metadata": {},
     "output_type": "execute_result"
    }
   ],
   "source": [
    "positions = [5432, 8972, 3243, 7456, 5931] # En mismo orden que Stocks\n",
    "\n",
    "long = True #True o False\n",
    "\n",
    "conf = 95 #[0, 100]\n",
    "\n",
    "np.round(VaR_CVaR_Stocks(data, positions, conf, long)['Monetario ($)'][1], 0)"
   ]
  },
  {
   "cell_type": "code",
   "execution_count": 5,
   "metadata": {},
   "outputs": [
    {
     "data": {
      "text/html": [
       "<div>\n",
       "<style scoped>\n",
       "    .dataframe tbody tr th:only-of-type {\n",
       "        vertical-align: middle;\n",
       "    }\n",
       "\n",
       "    .dataframe tbody tr th {\n",
       "        vertical-align: top;\n",
       "    }\n",
       "\n",
       "    .dataframe thead th {\n",
       "        text-align: right;\n",
       "    }\n",
       "</style>\n",
       "<table border=\"1\" class=\"dataframe\">\n",
       "  <thead>\n",
       "    <tr style=\"text-align: right;\">\n",
       "      <th></th>\n",
       "      <th>ABT</th>\n",
       "      <th>KXI</th>\n",
       "      <th>QQQ</th>\n",
       "      <th>X</th>\n",
       "      <th>XOM</th>\n",
       "    </tr>\n",
       "  </thead>\n",
       "  <tbody>\n",
       "    <tr>\n",
       "      <th>ABT</th>\n",
       "      <td>0.000273</td>\n",
       "      <td>0.000105</td>\n",
       "      <td>0.000146</td>\n",
       "      <td>0.000107</td>\n",
       "      <td>0.000078</td>\n",
       "    </tr>\n",
       "    <tr>\n",
       "      <th>KXI</th>\n",
       "      <td>0.000105</td>\n",
       "      <td>0.000101</td>\n",
       "      <td>0.000109</td>\n",
       "      <td>0.000124</td>\n",
       "      <td>0.000094</td>\n",
       "    </tr>\n",
       "    <tr>\n",
       "      <th>QQQ</th>\n",
       "      <td>0.000146</td>\n",
       "      <td>0.000109</td>\n",
       "      <td>0.000262</td>\n",
       "      <td>0.000208</td>\n",
       "      <td>0.000112</td>\n",
       "    </tr>\n",
       "    <tr>\n",
       "      <th>X</th>\n",
       "      <td>0.000107</td>\n",
       "      <td>0.000124</td>\n",
       "      <td>0.000208</td>\n",
       "      <td>0.001485</td>\n",
       "      <td>0.000371</td>\n",
       "    </tr>\n",
       "    <tr>\n",
       "      <th>XOM</th>\n",
       "      <td>0.000078</td>\n",
       "      <td>0.000094</td>\n",
       "      <td>0.000112</td>\n",
       "      <td>0.000371</td>\n",
       "      <td>0.000473</td>\n",
       "    </tr>\n",
       "  </tbody>\n",
       "</table>\n",
       "</div>"
      ],
      "text/plain": [
       "          ABT       KXI       QQQ         X       XOM\n",
       "ABT  0.000273  0.000105  0.000146  0.000107  0.000078\n",
       "KXI  0.000105  0.000101  0.000109  0.000124  0.000094\n",
       "QQQ  0.000146  0.000109  0.000262  0.000208  0.000112\n",
       "X    0.000107  0.000124  0.000208  0.001485  0.000371\n",
       "XOM  0.000078  0.000094  0.000112  0.000371  0.000473"
      ]
     },
     "execution_count": 5,
     "metadata": {},
     "output_type": "execute_result"
    }
   ],
   "source": [
    "rt = data.pct_change().dropna()\n",
    "rt.cov()"
   ]
  },
  {
   "cell_type": "code",
   "execution_count": 7,
   "metadata": {},
   "outputs": [
    {
     "data": {
      "text/plain": [
       "ABT    0.164306\n",
       "KXI    0.149696\n",
       "QQQ    0.442144\n",
       "X      0.068850\n",
       "XOM    0.175004\n",
       "Name: 2024-12-10 00:00:00, dtype: float64"
      ]
     },
     "execution_count": 7,
     "metadata": {},
     "output_type": "execute_result"
    }
   ],
   "source": [
    "w_0"
   ]
  },
  {
   "cell_type": "code",
   "execution_count": 6,
   "metadata": {},
   "outputs": [],
   "source": [
    "rt = data.pct_change().dropna()\n",
    "position_value = positions * data.iloc[-1]\n",
    "portfolio_value = position_value.sum()\n",
    "w_0 = position_value / portfolio_value\n",
    "w_t = [0.1625, 0.4406, 0.2104, 0.0075, 0.1790]"
   ]
  },
  {
   "cell_type": "code",
   "execution_count": 8,
   "metadata": {},
   "outputs": [],
   "source": [
    "def rebalanceo(initial_weights, optimal_weights):\n",
    "     \n",
    "     df = pd.DataFrame({\"Initial Weights\": initial_weights.values*100, \"Optimal Weights\": np.array(optimal_weights)*100, \"Stocks difference\": np.floor((optimal_weights - initial_weights) * portfolio_value / data.iloc[-1])})\n",
    "\n",
    "     df['Buy/Sell'] = df['Stocks difference'].apply(lambda x: 'Buy' if x > 0 else ('Sell' if x < 0 else 'NA')) if long else df['Stocks difference'].apply(lambda x: 'Sell' if x > 0 else ('Buy' if x < 0 else 'NA'))\n",
    "     \n",
    "     return df"
   ]
  },
  {
   "cell_type": "code",
   "execution_count": 9,
   "metadata": {},
   "outputs": [
    {
     "data": {
      "text/html": [
       "<div>\n",
       "<style scoped>\n",
       "    .dataframe tbody tr th:only-of-type {\n",
       "        vertical-align: middle;\n",
       "    }\n",
       "\n",
       "    .dataframe tbody tr th {\n",
       "        vertical-align: top;\n",
       "    }\n",
       "\n",
       "    .dataframe thead th {\n",
       "        text-align: right;\n",
       "    }\n",
       "</style>\n",
       "<table border=\"1\" class=\"dataframe\">\n",
       "  <thead>\n",
       "    <tr style=\"text-align: right;\">\n",
       "      <th></th>\n",
       "      <th>Initial Weights</th>\n",
       "      <th>Optimal Weights</th>\n",
       "      <th>Stocks difference</th>\n",
       "      <th>Buy/Sell</th>\n",
       "    </tr>\n",
       "  </thead>\n",
       "  <tbody>\n",
       "    <tr>\n",
       "      <th>ABT</th>\n",
       "      <td>16.430637</td>\n",
       "      <td>16.25</td>\n",
       "      <td>-60.0</td>\n",
       "      <td>Sell</td>\n",
       "    </tr>\n",
       "    <tr>\n",
       "      <th>KXI</th>\n",
       "      <td>14.969576</td>\n",
       "      <td>44.06</td>\n",
       "      <td>17435.0</td>\n",
       "      <td>Buy</td>\n",
       "    </tr>\n",
       "    <tr>\n",
       "      <th>QQQ</th>\n",
       "      <td>44.214400</td>\n",
       "      <td>21.04</td>\n",
       "      <td>-1700.0</td>\n",
       "      <td>Sell</td>\n",
       "    </tr>\n",
       "    <tr>\n",
       "      <th>X</th>\n",
       "      <td>6.884951</td>\n",
       "      <td>0.75</td>\n",
       "      <td>-6644.0</td>\n",
       "      <td>Sell</td>\n",
       "    </tr>\n",
       "    <tr>\n",
       "      <th>XOM</th>\n",
       "      <td>17.500436</td>\n",
       "      <td>17.90</td>\n",
       "      <td>135.0</td>\n",
       "      <td>Buy</td>\n",
       "    </tr>\n",
       "  </tbody>\n",
       "</table>\n",
       "</div>"
      ],
      "text/plain": [
       "     Initial Weights  Optimal Weights  Stocks difference Buy/Sell\n",
       "ABT        16.430637            16.25              -60.0     Sell\n",
       "KXI        14.969576            44.06            17435.0      Buy\n",
       "QQQ        44.214400            21.04            -1700.0     Sell\n",
       "X           6.884951             0.75            -6644.0     Sell\n",
       "XOM        17.500436            17.90              135.0      Buy"
      ]
     },
     "execution_count": 9,
     "metadata": {},
     "output_type": "execute_result"
    }
   ],
   "source": [
    "rebalanceo(w_0, w_t)"
   ]
  },
  {
   "cell_type": "markdown",
   "metadata": {},
   "source": [
    "# 6)"
   ]
  },
  {
   "cell_type": "code",
   "execution_count": 23,
   "metadata": {},
   "outputs": [
    {
     "data": {
      "text/html": [
       "<div>\n",
       "<style scoped>\n",
       "    .dataframe tbody tr th:only-of-type {\n",
       "        vertical-align: middle;\n",
       "    }\n",
       "\n",
       "    .dataframe tbody tr th {\n",
       "        vertical-align: top;\n",
       "    }\n",
       "\n",
       "    .dataframe thead th {\n",
       "        text-align: right;\n",
       "    }\n",
       "</style>\n",
       "<table border=\"1\" class=\"dataframe\">\n",
       "  <thead>\n",
       "    <tr style=\"text-align: right;\">\n",
       "      <th></th>\n",
       "      <th>JPYUSD</th>\n",
       "      <th>MXNUSD</th>\n",
       "    </tr>\n",
       "    <tr>\n",
       "      <th>Date</th>\n",
       "      <th></th>\n",
       "      <th></th>\n",
       "    </tr>\n",
       "  </thead>\n",
       "  <tbody>\n",
       "    <tr>\n",
       "      <th>2020-01-01</th>\n",
       "      <td>0.01</td>\n",
       "      <td>0.05</td>\n",
       "    </tr>\n",
       "    <tr>\n",
       "      <th>2020-01-02</th>\n",
       "      <td>0.01</td>\n",
       "      <td>0.05</td>\n",
       "    </tr>\n",
       "    <tr>\n",
       "      <th>2020-01-03</th>\n",
       "      <td>0.01</td>\n",
       "      <td>0.05</td>\n",
       "    </tr>\n",
       "    <tr>\n",
       "      <th>2020-01-06</th>\n",
       "      <td>0.01</td>\n",
       "      <td>0.05</td>\n",
       "    </tr>\n",
       "    <tr>\n",
       "      <th>2020-01-07</th>\n",
       "      <td>0.01</td>\n",
       "      <td>0.05</td>\n",
       "    </tr>\n",
       "    <tr>\n",
       "      <th>...</th>\n",
       "      <td>...</td>\n",
       "      <td>...</td>\n",
       "    </tr>\n",
       "    <tr>\n",
       "      <th>2024-12-03</th>\n",
       "      <td>0.01</td>\n",
       "      <td>0.05</td>\n",
       "    </tr>\n",
       "    <tr>\n",
       "      <th>2024-12-04</th>\n",
       "      <td>0.01</td>\n",
       "      <td>0.05</td>\n",
       "    </tr>\n",
       "    <tr>\n",
       "      <th>2024-12-05</th>\n",
       "      <td>0.01</td>\n",
       "      <td>0.05</td>\n",
       "    </tr>\n",
       "    <tr>\n",
       "      <th>2024-12-06</th>\n",
       "      <td>0.01</td>\n",
       "      <td>0.05</td>\n",
       "    </tr>\n",
       "    <tr>\n",
       "      <th>2024-12-09</th>\n",
       "      <td>0.01</td>\n",
       "      <td>0.05</td>\n",
       "    </tr>\n",
       "  </tbody>\n",
       "</table>\n",
       "<p>1289 rows × 2 columns</p>\n",
       "</div>"
      ],
      "text/plain": [
       "            JPYUSD  MXNUSD\n",
       "Date                      \n",
       "2020-01-01    0.01    0.05\n",
       "2020-01-02    0.01    0.05\n",
       "2020-01-03    0.01    0.05\n",
       "2020-01-06    0.01    0.05\n",
       "2020-01-07    0.01    0.05\n",
       "...            ...     ...\n",
       "2024-12-03    0.01    0.05\n",
       "2024-12-04    0.01    0.05\n",
       "2024-12-05    0.01    0.05\n",
       "2024-12-06    0.01    0.05\n",
       "2024-12-09    0.01    0.05\n",
       "\n",
       "[1289 rows x 2 columns]"
      ]
     },
     "execution_count": 23,
     "metadata": {},
     "output_type": "execute_result"
    }
   ],
   "source": [
    "data = pd.read_excel('DatosExamen.xlsx', sheet_name=2).set_index('Date')[['JPYUSD', 'MXNUSD']]\n",
    "data"
   ]
  },
  {
   "cell_type": "code",
   "execution_count": 24,
   "metadata": {},
   "outputs": [],
   "source": [
    "def VaR_CVaR_Fx(data, positions, conf, long):\n",
    "     port = data * positions \n",
    "     total = port.sum(axis=1)\n",
    "     rt = total.pct_change().dropna()\n",
    "\n",
    "     var = np.percentile(rt,100-conf) if long else np.percentile(rt,conf)\n",
    "     cvar = rt[rt < var].mean() if long else rt[rt > var].mean()\n",
    "\n",
    "     var_m = var * total.iloc[-1]\n",
    "     cvar_m = cvar * total.iloc[-1]\n",
    "\n",
    "     resultados_df = pd.DataFrame({\"Métrica\": [\"VaR\", \"CVaR\"], \"Porcentual (%)\": [var, cvar], \"Monetario ($)\": [var_m, cvar_m]})\n",
    "\n",
    "     return resultados_df"
   ]
  },
  {
   "cell_type": "code",
   "execution_count": 34,
   "metadata": {},
   "outputs": [
    {
     "data": {
      "text/plain": [
       "46019.010965682115"
      ]
     },
     "execution_count": 34,
     "metadata": {},
     "output_type": "execute_result"
    }
   ],
   "source": [
    "positions = [73000000, 49000000] # En mismo orden que Fx\n",
    "\n",
    "long = False #True o False\n",
    "\n",
    "NC = 99 #[0, 100]\n",
    "\n",
    "VaR_CVaR_Fx(data, positions, NC, long)['Monetario ($)'][0]"
   ]
  },
  {
   "cell_type": "markdown",
   "metadata": {},
   "source": [
    "# 7)"
   ]
  },
  {
   "cell_type": "code",
   "execution_count": 26,
   "metadata": {},
   "outputs": [],
   "source": [
    "# Escribir listas en formato: \n",
    "#            ['S', 'K', 'r', 'sigma', 'T', 'N']\n",
    "\n",
    "info_call = [[2694, 2650, 0.0439, 0.31, 3/12, 21],\n",
    "             [2694, 2670, 0.0439, 0.28, 3/12, 25],\n",
    "             [2694, 2650, 0.0421, 0.43, 12/12, 28],\n",
    "             [2694, 2670, 0.0421, 0.37, 12/12, 33]]\n",
    "\n",
    "info_put = [[2694, 2730, 0.0439, 0.35, 3/12, 45],\n",
    "             [2694, 2740, 0.0439, 0.36, 3/12, 10],\n",
    "             [2694, 2730, 0.0421, 0.51, 12/12, 12],\n",
    "             [2694, 2740, 0.0421, 0.58, 12/12, 43]]"
   ]
  },
  {
   "cell_type": "code",
   "execution_count": 27,
   "metadata": {},
   "outputs": [],
   "source": [
    "call_blsdelta = lambda S, k, r, sigma, T: norm.cdf((np.log(S/k) + (r + 0.5 * sigma**2) * T) / (sigma * np.sqrt(T)))\n",
    "\n",
    "put_blsdelta = lambda S, k, r, sigma, T: np.abs(norm.cdf((np.log(S/k) + (r + 0.5 * sigma ** 2) * T) / (sigma * np.sqrt(T))) - 1)\n",
    "\n",
    "def delta_hedge(info_call, info_put):\n",
    "\n",
    "    df_call = pd.DataFrame(info_call, columns=['S', 'K', 'r', 'sigma', 'T', 'N'])\n",
    "    df_put = pd.DataFrame(info_put, columns=['S', 'K', 'r', 'sigma', 'T', 'N'])\n",
    "    \n",
    "    deltas_call_list = [call_blsdelta(*df_call.values[i][0:-1]) for i in range(len(df_call))]\n",
    "    deltas_put_list = [put_blsdelta(*df_put.values[i][0:-1]) for i in range(len(df_call))]\n",
    "\n",
    "    return np.dot(df_call.N, deltas_call_list) - np.dot(df_put.N, deltas_put_list)"
   ]
  },
  {
   "cell_type": "code",
   "execution_count": 32,
   "metadata": {},
   "outputs": [
    {
     "name": "stdout",
     "output_type": "stream",
     "text": [
      "Comprar 19.4 millones de títulos\n"
     ]
    }
   ],
   "source": [
    "net = delta_hedge(info_call, info_put)\n",
    "print(f'Comprar {net:,.1f} millones de títulos')"
   ]
  },
  {
   "cell_type": "code",
   "execution_count": null,
   "metadata": {},
   "outputs": [],
   "source": []
  }
 ],
 "metadata": {
  "kernelspec": {
   "display_name": "base",
   "language": "python",
   "name": "python3"
  },
  "language_info": {
   "codemirror_mode": {
    "name": "ipython",
    "version": 3
   },
   "file_extension": ".py",
   "mimetype": "text/x-python",
   "name": "python",
   "nbconvert_exporter": "python",
   "pygments_lexer": "ipython3",
   "version": "3.12.7"
  }
 },
 "nbformat": 4,
 "nbformat_minor": 2
}
