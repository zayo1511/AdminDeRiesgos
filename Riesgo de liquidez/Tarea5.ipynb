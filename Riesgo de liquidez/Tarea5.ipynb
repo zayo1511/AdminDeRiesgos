{
 "cells": [
  {
   "cell_type": "code",
   "execution_count": 1,
   "metadata": {},
   "outputs": [],
   "source": [
    "import numpy as np\n",
    "import pandas as pd\n",
    "pd.set_option('display.float_format', '{:,.4f}'.format)"
   ]
  },
  {
   "cell_type": "markdown",
   "metadata": {},
   "source": [
    "## Ejercicio 1"
   ]
  },
  {
   "cell_type": "code",
   "execution_count": 2,
   "metadata": {},
   "outputs": [],
   "source": [
    "def VaR_APL(data: pd.DataFrame, posiciones: np.array, conf: float, long: bool):\n",
    "    \"\"\" \n",
    "    Función que calcula el VaR y C-VaR de un portafolio de activos financieros ajustado por costos de liquidez.\n",
    "\n",
    "    Args:\n",
    "    data (pd.DataFrame): DataFrame con los bid y ask de los activos financieros.\n",
    "    posiciones (np.array): Vector con las posiciones de los activos financieros.\n",
    "    conf (float): Nivel de confianza.\n",
    "    long (bool): True si el portafolio es largo, False si es corto.\n",
    "\n",
    "    Returns:\n",
    "    pd.DataFrame: DataFrame con el VaR y C-VaR ajustado por costos de liquidez.\n",
    "    \"\"\"\n",
    "\n",
    "    data = data.sort_index()\n",
    "\n",
    "    # Bid y Ask\n",
    "    bid_columns = [col for col in data.columns if 'Bid' in col] # Selecciona las columnas que contienen 'Bid'\n",
    "    ask_columns = [col for col in data.columns if 'Ask' in col] # Selecciona las columnas que contienen 'Ask'\n",
    "\n",
    "    # Mid\n",
    "    mid_columns = [f'Mid.{i}' for i in range(len(bid_columns))] # Se crea una lista con los nombres de las columnas de Mid\n",
    "    data[mid_columns] = (data[bid_columns].values + data[ask_columns].values) / 2\n",
    "\n",
    "    # Spreads\n",
    "    spread_columns = [f'Spread.{i}' for i in range(len(bid_columns))] # Se crea una lista con los nombres de las columnas de Spread\n",
    "    data[spread_columns] = (data[ask_columns].values - data[bid_columns].values) / data[mid_columns].values\n",
    "\n",
    "    # Returns\n",
    "    return_columns = [f'Return.{i}' for i in range(len(mid_columns))] # Se crea una lista con los nombres de las columnas de Return\n",
    "    data[return_columns] = data[mid_columns].pct_change()\n",
    "\n",
    "    # Weights\n",
    "    value = posiciones * data[mid_columns].iloc[-1].values\n",
    "    pv = np.sum(value)\n",
    "    w = value / pv\n",
    "\n",
    "    # Portfolio return\n",
    "    data['port_ret'] = np.dot(data[return_columns], w)\n",
    "\n",
    "    # VaR calculation\n",
    "    var_pct = np.percentile(data['port_ret'].dropna(), 100 - conf*100) if long else np.percentile(data['port_ret'].dropna(), conf*100)\n",
    "    var_cash = pv * var_pct\n",
    "\n",
    "    # C-VaR calculation\n",
    "    cvar_pct = data['port_ret'][data['port_ret'] < var_pct].dropna().mean() if long else data['port_ret'][data['port_ret'] > var_pct].dropna().mean()\n",
    "    cvar_cash = pv * cvar_pct\n",
    "\n",
    "    # Liquidity cost\n",
    "    cl_prom = data[spread_columns].mean()\n",
    "    cl_estr = np.percentile(data[spread_columns], 99, axis=0)\n",
    "\n",
    "    # VaR adjusted by liquidity cost\n",
    "\n",
    "    var_apl_prom, var_apl_estr = np.abs(((var_pct - np.dot(w, cl_prom), var_pct - np.dot(w, cl_estr)) if long \n",
    "                                else (var_pct + np.dot(w, cl_prom), var_pct + np.dot(w, cl_estr))))\n",
    "\n",
    "    var_apl_prom_cash, var_apl_estr_cash = np.abs(((var_cash - np.dot(value, cl_prom), var_cash - np.dot(value, cl_estr)) if long \n",
    "                                            else (var_cash + np.dot(value, cl_prom), var_cash + np.dot(value, cl_estr))))\n",
    "    \n",
    "    # C-VaR adjusted by liquidity cost\n",
    "\n",
    "    cvar_apl_prom, cvar_apl_estr = np.abs(((cvar_pct - np.dot(w, cl_prom), cvar_pct - np.dot(w, cl_estr)) if long\n",
    "                                    else (cvar_pct + np.dot(w, cl_prom), cvar_pct + np.dot(w, cl_estr))))\n",
    "    \n",
    "    cvar_apl_prom_cash, cvar_apl_estr_cash = np.abs(((cvar_cash - np.dot(value, cl_prom), cvar_cash - np.dot(value, cl_estr)) if long\n",
    "                                            else (cvar_cash + np.dot(value, cl_prom), cvar_cash + np.dot(value, cl_estr))))\n",
    "\n",
    "    resultados = pd.DataFrame({\n",
    "        'Métrica': ['VaR', 'VaR Ajustado Promedio', 'VaR Ajustado Estresado', 'C-VaR', 'C-VaR Ajustado Promedio', 'C-VaR Ajustado Estresado'],\n",
    "        'Porcentaje': [np.abs(var_pct), var_apl_prom, var_apl_estr, np.abs(cvar_pct), cvar_apl_prom, cvar_apl_estr],\n",
    "        'Cash': [np.abs(var_cash), var_apl_prom_cash, var_apl_estr_cash, np.abs(cvar_cash), cvar_apl_prom_cash, cvar_apl_estr_cash]\n",
    "    })\n",
    "\n",
    "    return resultados"
   ]
  },
  {
   "cell_type": "markdown",
   "metadata": {},
   "source": [
    "## Ejercicio 2"
   ]
  },
  {
   "cell_type": "markdown",
   "metadata": {},
   "source": [
    "### Ejercicio 2a"
   ]
  },
  {
   "cell_type": "markdown",
   "metadata": {},
   "source": [
    "Asume que tienes un portafolio de FX con las siguientes posiciones:\n",
    "\n",
    "- CORTO en el dólar 3.2 MDD (USD/MXN)\n",
    "- CORTO en el yen japones 10 MDJ (JPY/MXN)\n",
    "- CORTO en el euro 5.3 MDE (EUR/MXN)\n",
    "\n",
    "Calcular las métricas de riesgo de mercado y liquidez del portafolio a un día con un 99% de confianza."
   ]
  },
  {
   "cell_type": "code",
   "execution_count": 3,
   "metadata": {},
   "outputs": [],
   "source": [
    "data1 = pd.read_excel('DataTarea5.xlsx', sheet_name=0)\n",
    "data1 = data1.set_index('Date')\n",
    "posiciones1 = np.array([3200000, 10000000, 5300000])\n",
    "conf = 0.99\n",
    "long = False"
   ]
  },
  {
   "cell_type": "code",
   "execution_count": 4,
   "metadata": {},
   "outputs": [
    {
     "data": {
      "text/html": [
       "<div>\n",
       "<style scoped>\n",
       "    .dataframe tbody tr th:only-of-type {\n",
       "        vertical-align: middle;\n",
       "    }\n",
       "\n",
       "    .dataframe tbody tr th {\n",
       "        vertical-align: top;\n",
       "    }\n",
       "\n",
       "    .dataframe thead th {\n",
       "        text-align: right;\n",
       "    }\n",
       "</style>\n",
       "<table border=\"1\" class=\"dataframe\">\n",
       "  <thead>\n",
       "    <tr style=\"text-align: right;\">\n",
       "      <th></th>\n",
       "      <th>Métrica</th>\n",
       "      <th>Porcentaje</th>\n",
       "      <th>Cash</th>\n",
       "    </tr>\n",
       "  </thead>\n",
       "  <tbody>\n",
       "    <tr>\n",
       "      <th>0</th>\n",
       "      <td>VaR</td>\n",
       "      <td>0.0261</td>\n",
       "      <td>4,656,957.0170</td>\n",
       "    </tr>\n",
       "    <tr>\n",
       "      <th>1</th>\n",
       "      <td>VaR Ajustado Promedio</td>\n",
       "      <td>0.0266</td>\n",
       "      <td>4,734,440.2541</td>\n",
       "    </tr>\n",
       "    <tr>\n",
       "      <th>2</th>\n",
       "      <td>VaR Ajustado Estresado</td>\n",
       "      <td>0.0271</td>\n",
       "      <td>4,824,739.6518</td>\n",
       "    </tr>\n",
       "    <tr>\n",
       "      <th>3</th>\n",
       "      <td>C-VaR</td>\n",
       "      <td>0.0364</td>\n",
       "      <td>6,478,384.8304</td>\n",
       "    </tr>\n",
       "    <tr>\n",
       "      <th>4</th>\n",
       "      <td>C-VaR Ajustado Promedio</td>\n",
       "      <td>0.0368</td>\n",
       "      <td>6,555,868.0675</td>\n",
       "    </tr>\n",
       "    <tr>\n",
       "      <th>5</th>\n",
       "      <td>C-VaR Ajustado Estresado</td>\n",
       "      <td>0.0373</td>\n",
       "      <td>6,646,167.4652</td>\n",
       "    </tr>\n",
       "  </tbody>\n",
       "</table>\n",
       "</div>"
      ],
      "text/plain": [
       "                    Métrica  Porcentaje           Cash\n",
       "0                       VaR      0.0261 4,656,957.0170\n",
       "1     VaR Ajustado Promedio      0.0266 4,734,440.2541\n",
       "2    VaR Ajustado Estresado      0.0271 4,824,739.6518\n",
       "3                     C-VaR      0.0364 6,478,384.8304\n",
       "4   C-VaR Ajustado Promedio      0.0368 6,555,868.0675\n",
       "5  C-VaR Ajustado Estresado      0.0373 6,646,167.4652"
      ]
     },
     "execution_count": 4,
     "metadata": {},
     "output_type": "execute_result"
    }
   ],
   "source": [
    "VaR_APL(data1, posiciones1, conf, long)"
   ]
  },
  {
   "cell_type": "markdown",
   "metadata": {},
   "source": [
    "### Ejercicio 2b"
   ]
  },
  {
   "cell_type": "markdown",
   "metadata": {},
   "source": [
    "Asume que tienes una sola posición larga en 100 contratos futuros de granos de café, los contratos tienen un nocional de 37,500 unidades cada uno y los precios de cada unidad (libras) de café se encuentran en el excel proporcionado en la hoja DERIVATIVES.\n",
    "\n",
    "Calcular las métricas de riesgo de mercado y liquidez del portafolio a un día con un 99% de confianza.\n"
   ]
  },
  {
   "cell_type": "code",
   "execution_count": 5,
   "metadata": {},
   "outputs": [],
   "source": [
    "data2 = pd.read_excel('DataTarea5.xlsx', sheet_name=1)\n",
    "data2 = data2.set_index('Date')\n",
    "posiciones2 = np.array([100*37500])\n",
    "conf = 0.99\n",
    "long = True"
   ]
  },
  {
   "cell_type": "code",
   "execution_count": 6,
   "metadata": {},
   "outputs": [
    {
     "data": {
      "text/html": [
       "<div>\n",
       "<style scoped>\n",
       "    .dataframe tbody tr th:only-of-type {\n",
       "        vertical-align: middle;\n",
       "    }\n",
       "\n",
       "    .dataframe tbody tr th {\n",
       "        vertical-align: top;\n",
       "    }\n",
       "\n",
       "    .dataframe thead th {\n",
       "        text-align: right;\n",
       "    }\n",
       "</style>\n",
       "<table border=\"1\" class=\"dataframe\">\n",
       "  <thead>\n",
       "    <tr style=\"text-align: right;\">\n",
       "      <th></th>\n",
       "      <th>Métrica</th>\n",
       "      <th>Porcentaje</th>\n",
       "      <th>Cash</th>\n",
       "    </tr>\n",
       "  </thead>\n",
       "  <tbody>\n",
       "    <tr>\n",
       "      <th>0</th>\n",
       "      <td>VaR</td>\n",
       "      <td>0.0491</td>\n",
       "      <td>588,274.1440</td>\n",
       "    </tr>\n",
       "    <tr>\n",
       "      <th>1</th>\n",
       "      <td>VaR Ajustado Promedio</td>\n",
       "      <td>0.0498</td>\n",
       "      <td>596,455.2298</td>\n",
       "    </tr>\n",
       "    <tr>\n",
       "      <th>2</th>\n",
       "      <td>VaR Ajustado Estresado</td>\n",
       "      <td>0.0511</td>\n",
       "      <td>612,305.6673</td>\n",
       "    </tr>\n",
       "    <tr>\n",
       "      <th>3</th>\n",
       "      <td>C-VaR</td>\n",
       "      <td>0.0610</td>\n",
       "      <td>730,740.9163</td>\n",
       "    </tr>\n",
       "    <tr>\n",
       "      <th>4</th>\n",
       "      <td>C-VaR Ajustado Promedio</td>\n",
       "      <td>0.0616</td>\n",
       "      <td>738,922.0021</td>\n",
       "    </tr>\n",
       "    <tr>\n",
       "      <th>5</th>\n",
       "      <td>C-VaR Ajustado Estresado</td>\n",
       "      <td>0.0630</td>\n",
       "      <td>754,772.4396</td>\n",
       "    </tr>\n",
       "  </tbody>\n",
       "</table>\n",
       "</div>"
      ],
      "text/plain": [
       "                    Métrica  Porcentaje         Cash\n",
       "0                       VaR      0.0491 588,274.1440\n",
       "1     VaR Ajustado Promedio      0.0498 596,455.2298\n",
       "2    VaR Ajustado Estresado      0.0511 612,305.6673\n",
       "3                     C-VaR      0.0610 730,740.9163\n",
       "4   C-VaR Ajustado Promedio      0.0616 738,922.0021\n",
       "5  C-VaR Ajustado Estresado      0.0630 754,772.4396"
      ]
     },
     "execution_count": 6,
     "metadata": {},
     "output_type": "execute_result"
    }
   ],
   "source": [
    "VaR_APL(data2, posiciones2, conf, long)"
   ]
  }
 ],
 "metadata": {
  "kernelspec": {
   "display_name": "base",
   "language": "python",
   "name": "python3"
  },
  "language_info": {
   "codemirror_mode": {
    "name": "ipython",
    "version": 3
   },
   "file_extension": ".py",
   "mimetype": "text/x-python",
   "name": "python",
   "nbconvert_exporter": "python",
   "pygments_lexer": "ipython3",
   "version": "3.12.7"
  }
 },
 "nbformat": 4,
 "nbformat_minor": 2
}
